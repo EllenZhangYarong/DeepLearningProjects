{
 "cells": [
  {
   "cell_type": "markdown",
   "metadata": {},
   "source": [
    "## data: http://ufldl.stanford.edu/housenumbers/"
   ]
  },
  {
   "cell_type": "code",
   "execution_count": 2,
   "metadata": {
    "collapsed": true
   },
   "outputs": [],
   "source": [
    "import numpy as np\n",
    "import matplotlib.pyplot as plt\n",
    "%matplotlib inline\n",
    "from datetime import datetime"
   ]
  },
  {
   "cell_type": "code",
   "execution_count": 3,
   "metadata": {},
   "outputs": [],
   "source": [
    "import tensorflow as tf"
   ]
  },
  {
   "cell_type": "code",
   "execution_count": 4,
   "metadata": {
    "collapsed": true
   },
   "outputs": [],
   "source": [
    "from scipy.io import loadmat\n",
    "from sklearn.utils import shuffle"
   ]
  },
  {
   "cell_type": "code",
   "execution_count": 5,
   "metadata": {
    "collapsed": true
   },
   "outputs": [],
   "source": [
    "def y2indicator(y):\n",
    "    N = len(y)\n",
    "    ind = np.zeros((N,10))\n",
    "    for i in range(N):\n",
    "        ind[i,y[i]]=1\n",
    "    return ind\n",
    "\n",
    "# one-hot coding"
   ]
  },
  {
   "cell_type": "code",
   "execution_count": 6,
   "metadata": {
    "collapsed": true
   },
   "outputs": [],
   "source": [
    "def error_rate(p,t):\n",
    "    return np.mean(p != t)\n",
    "# p -- predict\n",
    "# t -- target"
   ]
  },
  {
   "cell_type": "code",
   "execution_count": 7,
   "metadata": {
    "collapsed": true
   },
   "outputs": [],
   "source": [
    "def flatten(X):\n",
    "    N = X.shape[-1]\n",
    "    flat = np.zeros((N,3072))\n",
    "    for i in range(N):\n",
    "        flat[i]=X[:,:,:,i].reshape(3072)\n",
    "    return flat"
   ]
  },
  {
   "cell_type": "code",
   "execution_count": 8,
   "metadata": {
    "collapsed": true
   },
   "outputs": [],
   "source": [
    "train_data = loadmat('../dataset/standford/SVHN/train_32x32.mat')\n",
    "test_data = loadmat('../dataset/standford/SVHN/test_32x32.mat')"
   ]
  },
  {
   "cell_type": "code",
   "execution_count": 9,
   "metadata": {
    "collapsed": true
   },
   "outputs": [],
   "source": [
    "X_train_data = train_data['X']"
   ]
  },
  {
   "cell_type": "code",
   "execution_count": 10,
   "metadata": {},
   "outputs": [
    {
     "data": {
      "text/plain": [
       "(32, 32, 3, 73257)"
      ]
     },
     "execution_count": 10,
     "metadata": {},
     "output_type": "execute_result"
    }
   ],
   "source": [
    "X_train_data.shape"
   ]
  },
  {
   "cell_type": "code",
   "execution_count": 11,
   "metadata": {
    "collapsed": true
   },
   "outputs": [],
   "source": [
    "X_train = flatten(train_data['X'].astype(np.float32)/255)"
   ]
  },
  {
   "cell_type": "code",
   "execution_count": 12,
   "metadata": {},
   "outputs": [
    {
     "data": {
      "text/plain": [
       "(73257, 3072)"
      ]
     },
     "execution_count": 12,
     "metadata": {},
     "output_type": "execute_result"
    }
   ],
   "source": [
    "X_train.shape"
   ]
  },
  {
   "cell_type": "code",
   "execution_count": 13,
   "metadata": {},
   "outputs": [
    {
     "data": {
      "text/plain": [
       "(3072,)"
      ]
     },
     "execution_count": 13,
     "metadata": {},
     "output_type": "execute_result"
    }
   ],
   "source": [
    "X_train[0].shape"
   ]
  },
  {
   "cell_type": "code",
   "execution_count": 14,
   "metadata": {
    "collapsed": true
   },
   "outputs": [],
   "source": [
    "Y_train = train_data['y'].flatten()-1"
   ]
  },
  {
   "cell_type": "code",
   "execution_count": 15,
   "metadata": {},
   "outputs": [
    {
     "data": {
      "text/plain": [
       "(73257,)"
      ]
     },
     "execution_count": 15,
     "metadata": {},
     "output_type": "execute_result"
    }
   ],
   "source": [
    "Y_train.shape"
   ]
  },
  {
   "cell_type": "code",
   "execution_count": 33,
   "metadata": {},
   "outputs": [
    {
     "data": {
      "text/plain": [
       "array([0, 8, 1, ..., 0, 5, 8], dtype=uint8)"
      ]
     },
     "execution_count": 33,
     "metadata": {},
     "output_type": "execute_result"
    }
   ],
   "source": [
    "Y_train"
   ]
  },
  {
   "cell_type": "code",
   "execution_count": 34,
   "metadata": {
    "collapsed": true
   },
   "outputs": [],
   "source": [
    "X_test = flatten(test_data['X'].astype(np.float32)/255)\n",
    "Y_test = test_data['y'].flatten()-1"
   ]
  },
  {
   "cell_type": "code",
   "execution_count": 35,
   "metadata": {
    "collapsed": true
   },
   "outputs": [],
   "source": [
    "X_train, Y_train = shuffle(X_train, Y_train)\n",
    "Y_train_ind = y2indicator(Y_train)"
   ]
  },
  {
   "cell_type": "code",
   "execution_count": 36,
   "metadata": {},
   "outputs": [
    {
     "data": {
      "text/plain": [
       "array([[ 0.,  0.,  0., ...,  0.,  0.,  0.],\n",
       "       [ 1.,  0.,  0., ...,  0.,  0.,  0.],\n",
       "       [ 0.,  0.,  0., ...,  0.,  0.,  0.],\n",
       "       ..., \n",
       "       [ 0.,  0.,  0., ...,  0.,  0.,  0.],\n",
       "       [ 0.,  0.,  0., ...,  0.,  1.,  0.],\n",
       "       [ 0.,  1.,  0., ...,  0.,  0.,  0.]])"
      ]
     },
     "execution_count": 36,
     "metadata": {},
     "output_type": "execute_result"
    }
   ],
   "source": [
    "Y_train_ind"
   ]
  },
  {
   "cell_type": "code",
   "execution_count": 37,
   "metadata": {},
   "outputs": [
    {
     "data": {
      "text/plain": [
       "array([[ 0.67450982,  0.70980394,  0.71764708, ...,  0.61960787,\n",
       "         0.66666669,  0.65882355],\n",
       "       [ 0.26274511,  0.27058825,  0.34509805, ...,  0.12156863,\n",
       "         0.12156863,  0.18431373],\n",
       "       [ 0.49411765,  0.57254905,  0.42352942, ...,  0.47058824,\n",
       "         0.56078434,  0.43529412],\n",
       "       ..., \n",
       "       [ 0.04313726,  0.39215687,  0.27058825, ...,  0.09019608,\n",
       "         0.41176471,  0.29019609],\n",
       "       [ 0.51372552,  0.59607846,  0.67843139, ...,  0.50588238,\n",
       "         0.61176473,  0.69411767],\n",
       "       [ 0.25882354,  0.31764707,  0.32941177, ...,  0.33725491,\n",
       "         0.3764706 ,  0.42352942]])"
      ]
     },
     "execution_count": 37,
     "metadata": {},
     "output_type": "execute_result"
    }
   ],
   "source": [
    "X_train"
   ]
  },
  {
   "cell_type": "code",
   "execution_count": 38,
   "metadata": {
    "collapsed": true
   },
   "outputs": [],
   "source": [
    "Y_test_ind = y2indicator(Y_test)"
   ]
  },
  {
   "cell_type": "code",
   "execution_count": 39,
   "metadata": {},
   "outputs": [
    {
     "data": {
      "text/plain": [
       "array([[ 0.,  0.,  0., ...,  0.,  0.,  0.],\n",
       "       [ 0.,  1.,  0., ...,  0.,  0.,  0.],\n",
       "       [ 1.,  0.,  0., ...,  0.,  0.,  0.],\n",
       "       ..., \n",
       "       [ 0.,  0.,  0., ...,  0.,  0.,  0.],\n",
       "       [ 0.,  0.,  0., ...,  0.,  0.,  0.],\n",
       "       [ 0.,  0.,  0., ...,  0.,  0.,  0.]])"
      ]
     },
     "execution_count": 39,
     "metadata": {},
     "output_type": "execute_result"
    }
   ],
   "source": [
    "Y_test_ind"
   ]
  },
  {
   "cell_type": "code",
   "execution_count": 40,
   "metadata": {
    "collapsed": true
   },
   "outputs": [],
   "source": [
    "max_iter = 20\n",
    "print_period = 10\n",
    "N,D = X_train.shape\n",
    "batch_size = 500\n",
    "n_batches = int(N/batch_size)"
   ]
  },
  {
   "cell_type": "code",
   "execution_count": 42,
   "metadata": {},
   "outputs": [
    {
     "data": {
      "text/plain": [
       "(73257, 3072)"
      ]
     },
     "execution_count": 42,
     "metadata": {},
     "output_type": "execute_result"
    }
   ],
   "source": [
    "N,D"
   ]
  },
  {
   "cell_type": "code",
   "execution_count": 43,
   "metadata": {},
   "outputs": [
    {
     "data": {
      "text/plain": [
       "146"
      ]
     },
     "execution_count": 43,
     "metadata": {},
     "output_type": "execute_result"
    }
   ],
   "source": [
    "int(n_batches)"
   ]
  },
  {
   "cell_type": "code",
   "execution_count": 46,
   "metadata": {
    "collapsed": true
   },
   "outputs": [],
   "source": [
    "M1 = 1000 \n",
    "M2 = 500\n",
    "K = 10"
   ]
  },
  {
   "cell_type": "code",
   "execution_count": 47,
   "metadata": {
    "collapsed": true
   },
   "outputs": [],
   "source": [
    "W1_init = np.random.randn(D, M1) / np.sqrt(D + M1)\n",
    "b1_init = np.zeros(M1)\n",
    "W2_init = np.random.randn(M1, M2) / np.sqrt(M1 + M2)\n",
    "b2_init = np.zeros(M2)\n",
    "W3_init = np.random.randn(M2, K) / np.sqrt(M2 + K)\n",
    "b3_init = np.zeros(K)"
   ]
  },
  {
   "cell_type": "code",
   "execution_count": 48,
   "metadata": {},
   "outputs": [
    {
     "data": {
      "text/plain": [
       "array([[-0.00740077, -0.00517876,  0.00292421, ..., -0.00505834,\n",
       "         0.01603478, -0.01809706],\n",
       "       [-0.01372592,  0.00791525,  0.02035258, ..., -0.0128859 ,\n",
       "         0.02888771, -0.00601427],\n",
       "       [ 0.01973137, -0.01877132,  0.00779793, ..., -0.0165627 ,\n",
       "         0.01068004,  0.00916939],\n",
       "       ..., \n",
       "       [ 0.01465237, -0.00553073, -0.01041284, ...,  0.0243088 ,\n",
       "         0.00370055, -0.03664791],\n",
       "       [ 0.0010985 ,  0.01249007, -0.0285551 , ...,  0.00714638,\n",
       "         0.00712423, -0.01348605],\n",
       "       [-0.00481211,  0.01129664, -0.00134175, ...,  0.01069265,\n",
       "        -0.00995198,  0.01783179]])"
      ]
     },
     "execution_count": 48,
     "metadata": {},
     "output_type": "execute_result"
    }
   ],
   "source": [
    "W1_init"
   ]
  },
  {
   "cell_type": "code",
   "execution_count": 49,
   "metadata": {
    "collapsed": true
   },
   "outputs": [],
   "source": [
    "X = tf.placeholder(tf.float32, shape=(None, D), name='X')\n",
    "T = tf.placeholder(tf.float32, shape=(None, K), name='T')\n",
    "W1 = tf.Variable(W1_init.astype(np.float32))\n",
    "b1 = tf.Variable(b1_init.astype(np.float32))\n",
    "W2 = tf.Variable(W2_init.astype(np.float32))\n",
    "b2 = tf.Variable(b2_init.astype(np.float32))\n",
    "W3 = tf.Variable(W3_init.astype(np.float32))\n",
    "b3 = tf.Variable(b3_init.astype(np.float32))"
   ]
  },
  {
   "cell_type": "code",
   "execution_count": 50,
   "metadata": {
    "collapsed": true
   },
   "outputs": [],
   "source": [
    "Z1 = tf.nn.relu( tf.matmul(X, W1) + b1 )\n",
    "Z2 = tf.nn.relu( tf.matmul(Z1, W2) + b2 )\n",
    "Yish = tf.matmul(Z2, W3) + b3"
   ]
  },
  {
   "cell_type": "code",
   "execution_count": 51,
   "metadata": {
    "collapsed": true
   },
   "outputs": [],
   "source": [
    "cost = tf.reduce_sum(\n",
    "    tf.nn.softmax_cross_entropy_with_logits(logits=Yish, labels=T))"
   ]
  },
  {
   "cell_type": "code",
   "execution_count": 52,
   "metadata": {},
   "outputs": [
    {
     "data": {
      "text/plain": [
       "<tf.Tensor 'Sum:0' shape=() dtype=float32>"
      ]
     },
     "execution_count": 52,
     "metadata": {},
     "output_type": "execute_result"
    }
   ],
   "source": [
    "cost"
   ]
  },
  {
   "cell_type": "code",
   "execution_count": 56,
   "metadata": {
    "collapsed": true
   },
   "outputs": [],
   "source": [
    "train_op = tf.train.RMSPropOptimizer(0.0001, decay=0.99, momentum=0.9).minimize(cost)\n",
    "\n",
    "    # we'll use this to calculate the error rate\n",
    "predict_op = tf.argmax(Yish, 1)\n",
    "\n",
    "t0 = datetime.now()\n",
    "LL = []\n",
    "init = tf.global_variables_initializer()"
   ]
  },
  {
   "cell_type": "code",
   "execution_count": 57,
   "metadata": {},
   "outputs": [
    {
     "name": "stdout",
     "output_type": "stream",
     "text": [
      "Cost / err at iteration i=0, j=0: 58681.191 / 0.816\n",
      "Cost / err at iteration i=0, j=10: 58644.582 / 0.804\n",
      "Cost / err at iteration i=0, j=20: 58295.297 / 0.804\n",
      "Cost / err at iteration i=0, j=30: 58174.508 / 0.799\n",
      "Cost / err at iteration i=0, j=40: 58038.820 / 0.798\n",
      "Cost / err at iteration i=0, j=50: 57641.242 / 0.778\n",
      "Cost / err at iteration i=0, j=60: 57676.895 / 0.804\n",
      "Cost / err at iteration i=0, j=70: 56872.680 / 0.773\n",
      "Cost / err at iteration i=0, j=80: 55829.434 / 0.772\n",
      "Cost / err at iteration i=0, j=90: 53736.426 / 0.723\n",
      "Cost / err at iteration i=0, j=100: 51183.363 / 0.683\n",
      "Cost / err at iteration i=0, j=110: 54632.250 / 0.693\n",
      "Cost / err at iteration i=0, j=120: 51378.270 / 0.723\n",
      "Cost / err at iteration i=0, j=130: 47855.258 / 0.644\n",
      "Cost / err at iteration i=0, j=140: 47351.395 / 0.624\n",
      "Cost / err at iteration i=1, j=0: 47136.086 / 0.620\n",
      "Cost / err at iteration i=1, j=10: 43143.523 / 0.584\n",
      "Cost / err at iteration i=1, j=20: 43221.500 / 0.557\n",
      "Cost / err at iteration i=1, j=30: 40916.598 / 0.528\n",
      "Cost / err at iteration i=1, j=40: 41497.422 / 0.512\n",
      "Cost / err at iteration i=1, j=50: 40930.395 / 0.512\n",
      "Cost / err at iteration i=1, j=60: 39527.953 / 0.487\n",
      "Cost / err at iteration i=1, j=70: 39085.598 / 0.496\n",
      "Cost / err at iteration i=1, j=80: 44640.570 / 0.562\n",
      "Cost / err at iteration i=1, j=90: 39930.223 / 0.515\n",
      "Cost / err at iteration i=1, j=100: 36147.652 / 0.433\n",
      "Cost / err at iteration i=1, j=110: 35883.672 / 0.427\n",
      "Cost / err at iteration i=1, j=120: 35273.539 / 0.416\n",
      "Cost / err at iteration i=1, j=130: 35903.750 / 0.438\n",
      "Cost / err at iteration i=1, j=140: 34054.492 / 0.404\n",
      "Cost / err at iteration i=2, j=0: 33794.621 / 0.399\n",
      "Cost / err at iteration i=2, j=10: 33819.945 / 0.405\n",
      "Cost / err at iteration i=2, j=20: 33965.414 / 0.410\n",
      "Cost / err at iteration i=2, j=30: 34491.508 / 0.410\n",
      "Cost / err at iteration i=2, j=40: 32864.910 / 0.393\n",
      "Cost / err at iteration i=2, j=50: 34328.535 / 0.408\n",
      "Cost / err at iteration i=2, j=60: 33772.172 / 0.386\n",
      "Cost / err at iteration i=2, j=70: 33418.539 / 0.395\n",
      "Cost / err at iteration i=2, j=80: 33964.703 / 0.410\n",
      "Cost / err at iteration i=2, j=90: 32578.957 / 0.380\n",
      "Cost / err at iteration i=2, j=100: 32957.762 / 0.393\n",
      "Cost / err at iteration i=2, j=110: 32479.578 / 0.383\n",
      "Cost / err at iteration i=2, j=120: 31247.883 / 0.365\n",
      "Cost / err at iteration i=2, j=130: 31151.949 / 0.367\n",
      "Cost / err at iteration i=2, j=140: 30150.201 / 0.346\n",
      "Cost / err at iteration i=3, j=0: 30354.500 / 0.352\n",
      "Cost / err at iteration i=3, j=10: 30104.289 / 0.348\n",
      "Cost / err at iteration i=3, j=20: 29910.322 / 0.350\n",
      "Cost / err at iteration i=3, j=30: 30768.289 / 0.355\n",
      "Cost / err at iteration i=3, j=40: 30011.758 / 0.349\n",
      "Cost / err at iteration i=3, j=50: 30524.367 / 0.357\n",
      "Cost / err at iteration i=3, j=60: 31160.914 / 0.363\n",
      "Cost / err at iteration i=3, j=70: 30200.609 / 0.348\n",
      "Cost / err at iteration i=3, j=80: 31261.008 / 0.363\n",
      "Cost / err at iteration i=3, j=90: 30053.379 / 0.348\n",
      "Cost / err at iteration i=3, j=100: 30241.281 / 0.353\n",
      "Cost / err at iteration i=3, j=110: 30124.859 / 0.355\n",
      "Cost / err at iteration i=3, j=120: 28192.980 / 0.327\n",
      "Cost / err at iteration i=3, j=130: 28431.480 / 0.330\n",
      "Cost / err at iteration i=3, j=140: 27969.398 / 0.323\n",
      "Cost / err at iteration i=4, j=0: 27479.004 / 0.314\n",
      "Cost / err at iteration i=4, j=10: 28329.984 / 0.330\n",
      "Cost / err at iteration i=4, j=20: 28495.736 / 0.327\n",
      "Cost / err at iteration i=4, j=30: 28702.207 / 0.332\n",
      "Cost / err at iteration i=4, j=40: 27556.816 / 0.310\n",
      "Cost / err at iteration i=4, j=50: 28835.641 / 0.338\n",
      "Cost / err at iteration i=4, j=60: 28916.502 / 0.335\n",
      "Cost / err at iteration i=4, j=70: 28310.002 / 0.321\n",
      "Cost / err at iteration i=4, j=80: 29296.242 / 0.336\n",
      "Cost / err at iteration i=4, j=90: 29113.543 / 0.345\n",
      "Cost / err at iteration i=4, j=100: 29739.879 / 0.342\n",
      "Cost / err at iteration i=4, j=110: 27429.668 / 0.313\n",
      "Cost / err at iteration i=4, j=120: 27086.168 / 0.311\n",
      "Cost / err at iteration i=4, j=130: 26604.715 / 0.307\n",
      "Cost / err at iteration i=4, j=140: 26652.803 / 0.303\n",
      "Cost / err at iteration i=5, j=0: 27016.762 / 0.311\n",
      "Cost / err at iteration i=5, j=10: 26229.330 / 0.300\n",
      "Cost / err at iteration i=5, j=20: 26647.074 / 0.306\n",
      "Cost / err at iteration i=5, j=30: 26661.859 / 0.306\n",
      "Cost / err at iteration i=5, j=40: 25947.605 / 0.294\n",
      "Cost / err at iteration i=5, j=50: 26751.922 / 0.310\n",
      "Cost / err at iteration i=5, j=60: 26793.117 / 0.307\n",
      "Cost / err at iteration i=5, j=70: 26491.789 / 0.300\n",
      "Cost / err at iteration i=5, j=80: 28289.160 / 0.329\n",
      "Cost / err at iteration i=5, j=90: 26829.084 / 0.309\n",
      "Cost / err at iteration i=5, j=100: 27905.438 / 0.328\n",
      "Cost / err at iteration i=5, j=110: 25934.014 / 0.294\n",
      "Cost / err at iteration i=5, j=120: 25147.871 / 0.286\n",
      "Cost / err at iteration i=5, j=130: 24708.428 / 0.283\n",
      "Cost / err at iteration i=5, j=140: 24926.783 / 0.284\n",
      "Cost / err at iteration i=6, j=0: 25177.969 / 0.286\n",
      "Cost / err at iteration i=6, j=10: 25337.342 / 0.293\n",
      "Cost / err at iteration i=6, j=20: 25279.684 / 0.287\n",
      "Cost / err at iteration i=6, j=30: 24930.797 / 0.284\n",
      "Cost / err at iteration i=6, j=40: 25072.117 / 0.282\n",
      "Cost / err at iteration i=6, j=50: 25772.664 / 0.297\n",
      "Cost / err at iteration i=6, j=60: 25753.514 / 0.295\n",
      "Cost / err at iteration i=6, j=70: 25159.947 / 0.281\n",
      "Cost / err at iteration i=6, j=80: 25465.039 / 0.295\n",
      "Cost / err at iteration i=6, j=90: 25651.074 / 0.294\n",
      "Cost / err at iteration i=6, j=100: 25525.904 / 0.291\n",
      "Cost / err at iteration i=6, j=110: 24752.730 / 0.278\n",
      "Cost / err at iteration i=6, j=120: 24685.033 / 0.281\n",
      "Cost / err at iteration i=6, j=130: 24317.873 / 0.278\n",
      "Cost / err at iteration i=6, j=140: 24119.395 / 0.270\n",
      "Cost / err at iteration i=7, j=0: 24705.684 / 0.280\n",
      "Cost / err at iteration i=7, j=10: 25006.002 / 0.290\n",
      "Cost / err at iteration i=7, j=20: 24840.396 / 0.279\n",
      "Cost / err at iteration i=7, j=30: 24392.043 / 0.279\n",
      "Cost / err at iteration i=7, j=40: 24616.822 / 0.275\n",
      "Cost / err at iteration i=7, j=50: 23558.734 / 0.269\n",
      "Cost / err at iteration i=7, j=60: 24838.266 / 0.282\n",
      "Cost / err at iteration i=7, j=70: 24681.893 / 0.276\n",
      "Cost / err at iteration i=7, j=80: 24646.475 / 0.283\n",
      "Cost / err at iteration i=7, j=90: 23859.883 / 0.272\n",
      "Cost / err at iteration i=7, j=100: 24308.836 / 0.278\n",
      "Cost / err at iteration i=7, j=110: 23208.541 / 0.262\n",
      "Cost / err at iteration i=7, j=120: 23791.156 / 0.271\n",
      "Cost / err at iteration i=7, j=130: 23280.582 / 0.261\n",
      "Cost / err at iteration i=7, j=140: 23121.828 / 0.258\n",
      "Cost / err at iteration i=8, j=0: 24638.830 / 0.278\n",
      "Cost / err at iteration i=8, j=10: 23677.191 / 0.271\n",
      "Cost / err at iteration i=8, j=20: 24332.547 / 0.273\n",
      "Cost / err at iteration i=8, j=30: 23526.799 / 0.267\n",
      "Cost / err at iteration i=8, j=40: 23568.633 / 0.270\n",
      "Cost / err at iteration i=8, j=50: 22937.039 / 0.260\n",
      "Cost / err at iteration i=8, j=60: 23246.074 / 0.260\n",
      "Cost / err at iteration i=8, j=70: 23368.660 / 0.261\n",
      "Cost / err at iteration i=8, j=80: 23711.369 / 0.269\n",
      "Cost / err at iteration i=8, j=90: 22667.631 / 0.255\n",
      "Cost / err at iteration i=8, j=100: 23359.398 / 0.267\n",
      "Cost / err at iteration i=8, j=110: 23129.486 / 0.255\n",
      "Cost / err at iteration i=8, j=120: 23514.066 / 0.264\n",
      "Cost / err at iteration i=8, j=130: 23712.199 / 0.265\n",
      "Cost / err at iteration i=8, j=140: 23234.514 / 0.263\n",
      "Cost / err at iteration i=9, j=0: 23529.387 / 0.266\n",
      "Cost / err at iteration i=9, j=10: 22543.105 / 0.255\n",
      "Cost / err at iteration i=9, j=20: 23795.102 / 0.264\n",
      "Cost / err at iteration i=9, j=30: 22981.109 / 0.259\n",
      "Cost / err at iteration i=9, j=40: 22795.975 / 0.256\n",
      "Cost / err at iteration i=9, j=50: 23184.025 / 0.265\n",
      "Cost / err at iteration i=9, j=60: 23453.941 / 0.259\n",
      "Cost / err at iteration i=9, j=70: 22912.273 / 0.256\n",
      "Cost / err at iteration i=9, j=80: 22848.141 / 0.256\n",
      "Cost / err at iteration i=9, j=90: 22513.492 / 0.252\n",
      "Cost / err at iteration i=9, j=100: 23581.906 / 0.266\n",
      "Cost / err at iteration i=9, j=110: 22708.785 / 0.254\n",
      "Cost / err at iteration i=9, j=120: 23618.285 / 0.266\n",
      "Cost / err at iteration i=9, j=130: 22902.660 / 0.256\n",
      "Cost / err at iteration i=9, j=140: 21854.422 / 0.241\n",
      "Cost / err at iteration i=10, j=0: 22841.340 / 0.256\n",
      "Cost / err at iteration i=10, j=10: 22250.809 / 0.252\n",
      "Cost / err at iteration i=10, j=20: 22382.457 / 0.250\n",
      "Cost / err at iteration i=10, j=30: 22326.389 / 0.250\n"
     ]
    },
    {
     "name": "stdout",
     "output_type": "stream",
     "text": [
      "Cost / err at iteration i=10, j=40: 22524.105 / 0.252\n",
      "Cost / err at iteration i=10, j=50: 22221.830 / 0.249\n",
      "Cost / err at iteration i=10, j=60: 22307.316 / 0.246\n",
      "Cost / err at iteration i=10, j=70: 22069.266 / 0.244\n",
      "Cost / err at iteration i=10, j=80: 22221.621 / 0.247\n",
      "Cost / err at iteration i=10, j=90: 22443.041 / 0.250\n",
      "Cost / err at iteration i=10, j=100: 23000.256 / 0.257\n",
      "Cost / err at iteration i=10, j=110: 22336.395 / 0.251\n",
      "Cost / err at iteration i=10, j=120: 23685.943 / 0.269\n",
      "Cost / err at iteration i=10, j=130: 22232.156 / 0.248\n",
      "Cost / err at iteration i=10, j=140: 21469.961 / 0.234\n",
      "Cost / err at iteration i=11, j=0: 21854.535 / 0.242\n",
      "Cost / err at iteration i=11, j=10: 22294.562 / 0.249\n",
      "Cost / err at iteration i=11, j=20: 22087.730 / 0.244\n",
      "Cost / err at iteration i=11, j=30: 21519.473 / 0.240\n",
      "Cost / err at iteration i=11, j=40: 21521.676 / 0.235\n",
      "Cost / err at iteration i=11, j=50: 22410.477 / 0.250\n",
      "Cost / err at iteration i=11, j=60: 21546.457 / 0.234\n",
      "Cost / err at iteration i=11, j=70: 21178.408 / 0.231\n",
      "Cost / err at iteration i=11, j=80: 21524.141 / 0.233\n",
      "Cost / err at iteration i=11, j=90: 21668.740 / 0.243\n",
      "Cost / err at iteration i=11, j=100: 21703.486 / 0.240\n",
      "Cost / err at iteration i=11, j=110: 21590.920 / 0.238\n",
      "Cost / err at iteration i=11, j=120: 22848.180 / 0.255\n",
      "Cost / err at iteration i=11, j=130: 22250.316 / 0.250\n",
      "Cost / err at iteration i=11, j=140: 20872.945 / 0.230\n",
      "Cost / err at iteration i=12, j=0: 22039.664 / 0.244\n",
      "Cost / err at iteration i=12, j=10: 21235.133 / 0.237\n",
      "Cost / err at iteration i=12, j=20: 21342.883 / 0.234\n",
      "Cost / err at iteration i=12, j=30: 21025.857 / 0.232\n",
      "Cost / err at iteration i=12, j=40: 21455.566 / 0.236\n",
      "Cost / err at iteration i=12, j=50: 20951.646 / 0.231\n",
      "Cost / err at iteration i=12, j=60: 22262.240 / 0.242\n",
      "Cost / err at iteration i=12, j=70: 21370.867 / 0.236\n",
      "Cost / err at iteration i=12, j=80: 21292.387 / 0.231\n",
      "Cost / err at iteration i=12, j=90: 21377.008 / 0.234\n",
      "Cost / err at iteration i=12, j=100: 21305.197 / 0.232\n",
      "Cost / err at iteration i=12, j=110: 21510.354 / 0.235\n",
      "Cost / err at iteration i=12, j=120: 22250.104 / 0.244\n",
      "Cost / err at iteration i=12, j=130: 22140.320 / 0.250\n",
      "Cost / err at iteration i=12, j=140: 20863.375 / 0.228\n",
      "Cost / err at iteration i=13, j=0: 21434.895 / 0.233\n",
      "Cost / err at iteration i=13, j=10: 21358.471 / 0.239\n",
      "Cost / err at iteration i=13, j=20: 21586.232 / 0.232\n",
      "Cost / err at iteration i=13, j=30: 20640.158 / 0.227\n",
      "Cost / err at iteration i=13, j=40: 20563.143 / 0.221\n",
      "Cost / err at iteration i=13, j=50: 20546.900 / 0.223\n",
      "Cost / err at iteration i=13, j=60: 22072.760 / 0.241\n",
      "Cost / err at iteration i=13, j=70: 21412.826 / 0.236\n",
      "Cost / err at iteration i=13, j=80: 19988.273 / 0.220\n",
      "Cost / err at iteration i=13, j=90: 20747.598 / 0.228\n",
      "Cost / err at iteration i=13, j=100: 20764.725 / 0.227\n",
      "Cost / err at iteration i=13, j=110: 20844.166 / 0.229\n",
      "Cost / err at iteration i=13, j=120: 21176.002 / 0.229\n",
      "Cost / err at iteration i=13, j=130: 21974.695 / 0.248\n",
      "Cost / err at iteration i=13, j=140: 20980.764 / 0.226\n",
      "Cost / err at iteration i=14, j=0: 21867.680 / 0.239\n",
      "Cost / err at iteration i=14, j=10: 20439.402 / 0.227\n",
      "Cost / err at iteration i=14, j=20: 21325.242 / 0.231\n",
      "Cost / err at iteration i=14, j=30: 20324.184 / 0.221\n",
      "Cost / err at iteration i=14, j=40: 21089.043 / 0.229\n",
      "Cost / err at iteration i=14, j=50: 20647.670 / 0.225\n",
      "Cost / err at iteration i=14, j=60: 22255.223 / 0.240\n",
      "Cost / err at iteration i=14, j=70: 21437.656 / 0.236\n",
      "Cost / err at iteration i=14, j=80: 19936.594 / 0.218\n",
      "Cost / err at iteration i=14, j=90: 20594.961 / 0.224\n",
      "Cost / err at iteration i=14, j=100: 20372.061 / 0.221\n",
      "Cost / err at iteration i=14, j=110: 20930.785 / 0.228\n",
      "Cost / err at iteration i=14, j=120: 20657.410 / 0.223\n",
      "Cost / err at iteration i=14, j=130: 21019.912 / 0.234\n",
      "Cost / err at iteration i=14, j=140: 20623.863 / 0.223\n",
      "Cost / err at iteration i=15, j=0: 22294.906 / 0.242\n",
      "Cost / err at iteration i=15, j=10: 20353.191 / 0.222\n",
      "Cost / err at iteration i=15, j=20: 20882.582 / 0.228\n",
      "Cost / err at iteration i=15, j=30: 20349.410 / 0.221\n",
      "Cost / err at iteration i=15, j=40: 20461.410 / 0.221\n",
      "Cost / err at iteration i=15, j=50: 20157.367 / 0.216\n",
      "Cost / err at iteration i=15, j=60: 21680.477 / 0.233\n",
      "Cost / err at iteration i=15, j=70: 20650.676 / 0.226\n",
      "Cost / err at iteration i=15, j=80: 20044.139 / 0.217\n",
      "Cost / err at iteration i=15, j=90: 21109.590 / 0.230\n",
      "Cost / err at iteration i=15, j=100: 20101.883 / 0.220\n",
      "Cost / err at iteration i=15, j=110: 20348.609 / 0.219\n",
      "Cost / err at iteration i=15, j=120: 20484.406 / 0.221\n",
      "Cost / err at iteration i=15, j=130: 20184.910 / 0.225\n",
      "Cost / err at iteration i=15, j=140: 19988.270 / 0.214\n",
      "Cost / err at iteration i=16, j=0: 21200.850 / 0.231\n",
      "Cost / err at iteration i=16, j=10: 19671.787 / 0.212\n",
      "Cost / err at iteration i=16, j=20: 19875.105 / 0.213\n",
      "Cost / err at iteration i=16, j=30: 19878.623 / 0.216\n",
      "Cost / err at iteration i=16, j=40: 19717.275 / 0.210\n",
      "Cost / err at iteration i=16, j=50: 20293.922 / 0.218\n",
      "Cost / err at iteration i=16, j=60: 21643.598 / 0.233\n",
      "Cost / err at iteration i=16, j=70: 20411.814 / 0.223\n",
      "Cost / err at iteration i=16, j=80: 19427.879 / 0.208\n",
      "Cost / err at iteration i=16, j=90: 20259.820 / 0.219\n",
      "Cost / err at iteration i=16, j=100: 19841.715 / 0.214\n",
      "Cost / err at iteration i=16, j=110: 20982.225 / 0.224\n",
      "Cost / err at iteration i=16, j=120: 20814.434 / 0.226\n",
      "Cost / err at iteration i=16, j=130: 20719.598 / 0.228\n",
      "Cost / err at iteration i=16, j=140: 20546.943 / 0.224\n",
      "Cost / err at iteration i=17, j=0: 21087.299 / 0.228\n",
      "Cost / err at iteration i=17, j=10: 20366.824 / 0.220\n",
      "Cost / err at iteration i=17, j=20: 20066.992 / 0.216\n",
      "Cost / err at iteration i=17, j=30: 19509.297 / 0.210\n",
      "Cost / err at iteration i=17, j=40: 19654.668 / 0.212\n",
      "Cost / err at iteration i=17, j=50: 19694.590 / 0.212\n",
      "Cost / err at iteration i=17, j=60: 20572.990 / 0.219\n",
      "Cost / err at iteration i=17, j=70: 21725.627 / 0.230\n",
      "Cost / err at iteration i=17, j=80: 19847.232 / 0.213\n",
      "Cost / err at iteration i=17, j=90: 20578.918 / 0.222\n",
      "Cost / err at iteration i=17, j=100: 19741.738 / 0.211\n",
      "Cost / err at iteration i=17, j=110: 19555.609 / 0.208\n",
      "Cost / err at iteration i=17, j=120: 20712.043 / 0.220\n",
      "Cost / err at iteration i=17, j=130: 19955.285 / 0.215\n",
      "Cost / err at iteration i=17, j=140: 18883.781 / 0.202\n",
      "Cost / err at iteration i=18, j=0: 20555.104 / 0.220\n",
      "Cost / err at iteration i=18, j=10: 20215.338 / 0.220\n",
      "Cost / err at iteration i=18, j=20: 20402.037 / 0.222\n",
      "Cost / err at iteration i=18, j=30: 18882.418 / 0.200\n",
      "Cost / err at iteration i=18, j=40: 20075.418 / 0.218\n",
      "Cost / err at iteration i=18, j=50: 19765.119 / 0.212\n",
      "Cost / err at iteration i=18, j=60: 20595.352 / 0.223\n",
      "Cost / err at iteration i=18, j=70: 21223.285 / 0.232\n",
      "Cost / err at iteration i=18, j=80: 20120.594 / 0.215\n",
      "Cost / err at iteration i=18, j=90: 20056.908 / 0.217\n",
      "Cost / err at iteration i=18, j=100: 19359.545 / 0.207\n",
      "Cost / err at iteration i=18, j=110: 19327.629 / 0.204\n",
      "Cost / err at iteration i=18, j=120: 20018.656 / 0.211\n",
      "Cost / err at iteration i=18, j=130: 19563.580 / 0.213\n",
      "Cost / err at iteration i=18, j=140: 19351.381 / 0.211\n",
      "Cost / err at iteration i=19, j=0: 21594.217 / 0.238\n",
      "Cost / err at iteration i=19, j=10: 20353.180 / 0.221\n",
      "Cost / err at iteration i=19, j=20: 19754.906 / 0.213\n",
      "Cost / err at iteration i=19, j=30: 19406.094 / 0.205\n",
      "Cost / err at iteration i=19, j=40: 20016.830 / 0.215\n",
      "Cost / err at iteration i=19, j=50: 19827.215 / 0.212\n",
      "Cost / err at iteration i=19, j=60: 20087.023 / 0.216\n",
      "Cost / err at iteration i=19, j=70: 19261.637 / 0.203\n",
      "Cost / err at iteration i=19, j=80: 19360.463 / 0.206\n",
      "Cost / err at iteration i=19, j=90: 19790.270 / 0.211\n",
      "Cost / err at iteration i=19, j=100: 19782.168 / 0.215\n",
      "Cost / err at iteration i=19, j=110: 20044.881 / 0.214\n",
      "Cost / err at iteration i=19, j=120: 20356.230 / 0.216\n",
      "Cost / err at iteration i=19, j=130: 19605.340 / 0.208\n",
      "Cost / err at iteration i=19, j=140: 19960.580 / 0.218\n",
      "Elapsed time: 1:04:45.508529\n"
     ]
    }
   ],
   "source": [
    "with tf.Session() as session:\n",
    "    session.run(init)\n",
    "    \n",
    "    for i in range(max_iter):\n",
    "        for j in range(n_batches):\n",
    "            Xbatch = X_train[j*batch_size:(j*batch_size + batch_size),]\n",
    "            Ybatch = Y_train_ind[j*batch_size:(j*batch_size + batch_size),]\n",
    "\n",
    "            session.run(train_op, feed_dict={X: Xbatch, T: Ybatch})\n",
    "            if j % print_period == 0:\n",
    "                test_cost = session.run(cost, feed_dict={X: X_test, T: Y_test_ind})\n",
    "                prediction = session.run(predict_op, feed_dict={X: X_test})\n",
    "                err = error_rate(prediction, Y_test)\n",
    "                print(\"Cost / err at iteration i=%d, j=%d: %.3f / %.3f\" % (i, j, test_cost, err))\n",
    "                LL.append(test_cost)\n",
    "print(\"Elapsed time:\", (datetime.now() - t0))"
   ]
  },
  {
   "cell_type": "markdown",
   "metadata": {},
   "source": [
    "Elapsed time: 1:11:39.827572"
   ]
  },
  {
   "cell_type": "code",
   "execution_count": 58,
   "metadata": {},
   "outputs": [
    {
     "data": {
      "image/png": "[encoded data removed]",
      "text/plain": [
       "<matplotlib.figure.Figure at 0x12fd137b8>"
      ]
     },
     "metadata": {},
     "output_type": "display_data"
    }
   ],
   "source": [
    "plt.plot(LL)\n",
    "plt.show()"
   ]
  },
  {
   "cell_type": "code",
   "execution_count": null,
   "metadata": {
    "collapsed": true
   },
   "outputs": [],
   "source": []
  }
 ],
 "metadata": {
  "kernelspec": {
   "display_name": "Python 3",
   "language": "python",
   "name": "python3"
  },
  "language_info": {
   "codemirror_mode": {
    "name": "ipython",
    "version": 3
   },
   "file_extension": ".py",
   "mimetype": "text/x-python",
   "name": "python",
   "nbconvert_exporter": "python",
   "pygments_lexer": "ipython3",
   "version": "3.5.4"
  }
 },
 "nbformat": 4,
 "nbformat_minor": 2
}
