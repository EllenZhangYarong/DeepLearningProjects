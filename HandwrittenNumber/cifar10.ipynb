{
 "cells": [
  {
   "cell_type": "code",
   "execution_count": 38,
   "metadata": {},
   "outputs": [],
   "source": [
    "import pandas as pd\n",
    "import numpy as np\n",
    "%matplotlib inline\n",
    "import matplotlib.pyplot as plt\n",
    "from keras.utils.np_utils import to_categorical\n",
    "from keras.models import Sequential\n",
    "from keras.layers import Dense, Conv2D, MaxPool2D, Dropout, Flatten\n",
    "import keras.backend as K\n"
   ]
  },
  {
   "cell_type": "code",
   "execution_count": 39,
   "metadata": {
    "collapsed": true
   },
   "outputs": [],
   "source": [
    "from keras.datasets import cifar10"
   ]
  },
  {
   "cell_type": "code",
   "execution_count": 40,
   "metadata": {
    "collapsed": true
   },
   "outputs": [],
   "source": [
    "(X_train, y_train), (X_test, y_test) = cifar10.load_data()"
   ]
  },
  {
   "cell_type": "code",
   "execution_count": 41,
   "metadata": {},
   "outputs": [
    {
     "data": {
      "text/plain": [
       "(50000, 32, 32, 3)"
      ]
     },
     "execution_count": 41,
     "metadata": {},
     "output_type": "execute_result"
    }
   ],
   "source": [
    "X_train.shape"
   ]
  },
  {
   "cell_type": "code",
   "execution_count": 42,
   "metadata": {},
   "outputs": [
    {
     "data": {
      "text/plain": [
       "<matplotlib.image.AxesImage at 0x121582518>"
      ]
     },
     "execution_count": 42,
     "metadata": {},
     "output_type": "execute_result"
    },
    {
     "data": {
      "image/png": "[encoded data removed]",
      "text/plain": [
       "<matplotlib.figure.Figure at 0x1215ae8d0>"
      ]
     },
     "metadata": {},
     "output_type": "display_data"
    }
   ],
   "source": [
    "plt.imshow(X_train[0])"
   ]
  },
  {
   "cell_type": "code",
   "execution_count": 43,
   "metadata": {
    "collapsed": true
   },
   "outputs": [],
   "source": [
    "X_train = X_train.astype('float32') / 255.0\n",
    "X_test = X_test.astype('float32') / 255.0\n",
    "y_train_cat = to_categorical(y_train, 10)\n",
    "y_test_cat = to_categorical(y_test, 10)"
   ]
  },
  {
   "cell_type": "code",
   "execution_count": 44,
   "metadata": {},
   "outputs": [
    {
     "data": {
      "text/plain": [
       "(50000, 10)"
      ]
     },
     "execution_count": 44,
     "metadata": {},
     "output_type": "execute_result"
    }
   ],
   "source": [
    "y_train_cat.shape"
   ]
  },
  {
   "cell_type": "code",
   "execution_count": 45,
   "metadata": {},
   "outputs": [
    {
     "data": {
      "text/plain": [
       "(10000, 1)"
      ]
     },
     "execution_count": 45,
     "metadata": {},
     "output_type": "execute_result"
    }
   ],
   "source": [
    "y_test.shape"
   ]
  },
  {
   "cell_type": "code",
   "execution_count": 46,
   "metadata": {
    "collapsed": true
   },
   "outputs": [],
   "source": [
    "from keras.layers import MaxPool2D, AvgPool2D\n",
    "from keras.layers import Flatten, Activation\n",
    "from keras.layers import Conv2D\n",
    "\n",
    "from keras.models import Sequential\n",
    "from keras.layers import Dense\n",
    "import keras.backend as K"
   ]
  },
  {
   "cell_type": "code",
   "execution_count": 47,
   "metadata": {},
   "outputs": [],
   "source": [
    "K.clear_session()\n",
    "model = Sequential()\n",
    "model.add(Conv2D(32,(3, 3),activation='relu', padding='same', input_shape=(32,32,3)))\n",
    "model.add(Conv2D(32,(3, 3),activation='relu'))\n",
    "\n",
    "model.add(MaxPool2D(pool_size=(2,2)))\n",
    "model.add(Dropout(0.25))\n",
    "\n",
    "model.add(Conv2D(64,(3, 3), activation='relu', padding='same'))\n",
    "model.add(Conv2D(64,(3, 3), activation='relu'))\n",
    "model.add(MaxPool2D(pool_size=(2,2)))\n",
    "\n",
    "model.add(Dropout(0.25))\n",
    "\n",
    "model.add(Flatten())\n",
    "\n",
    "model.add(Dense(512, activation='relu'))\n",
    "model.add(Dropout(0.5))\n",
    "model.add(Dense(10,activation='softmax'))\n",
    "\n",
    "model.compile(loss='categorical_crossentropy',\n",
    "              optimizer='rmsprop', \n",
    "              metrics=['accuracy'])"
   ]
  },
  {
   "cell_type": "code",
   "execution_count": 48,
   "metadata": {},
   "outputs": [
    {
     "name": "stdout",
     "output_type": "stream",
     "text": [
      "_________________________________________________________________\n",
      "Layer (type)                 Output Shape              Param #   \n",
      "=================================================================\n",
      "conv2d_1 (Conv2D)            (None, 32, 32, 32)        896       \n",
      "_________________________________________________________________\n",
      "conv2d_2 (Conv2D)            (None, 30, 30, 32)        9248      \n",
      "_________________________________________________________________\n",
      "max_pooling2d_1 (MaxPooling2 (None, 15, 15, 32)        0         \n",
      "_________________________________________________________________\n",
      "dropout_1 (Dropout)          (None, 15, 15, 32)        0         \n",
      "_________________________________________________________________\n",
      "conv2d_3 (Conv2D)            (None, 15, 15, 64)        18496     \n",
      "_________________________________________________________________\n",
      "conv2d_4 (Conv2D)            (None, 13, 13, 64)        36928     \n",
      "_________________________________________________________________\n",
      "max_pooling2d_2 (MaxPooling2 (None, 6, 6, 64)          0         \n",
      "_________________________________________________________________\n",
      "dropout_2 (Dropout)          (None, 6, 6, 64)          0         \n",
      "_________________________________________________________________\n",
      "flatten_1 (Flatten)          (None, 2304)              0         \n",
      "_________________________________________________________________\n",
      "dense_1 (Dense)              (None, 512)               1180160   \n",
      "_________________________________________________________________\n",
      "dropout_3 (Dropout)          (None, 512)               0         \n",
      "_________________________________________________________________\n",
      "dense_2 (Dense)              (None, 10)                5130      \n",
      "=================================================================\n",
      "Total params: 1,250,858\n",
      "Trainable params: 1,250,858\n",
      "Non-trainable params: 0\n",
      "_________________________________________________________________\n"
     ]
    }
   ],
   "source": [
    "model.summary()"
   ]
  },
  {
   "cell_type": "code",
   "execution_count": 49,
   "metadata": {},
   "outputs": [
    {
     "name": "stdout",
     "output_type": "stream",
     "text": [
      "Train on 35000 samples, validate on 15000 samples\n",
      "Epoch 1/20\n",
      "35000/35000 [==============================] - 212s - loss: 1.9127 - acc: 0.3111 - val_loss: 1.6336 - val_acc: 0.4037\n",
      "Epoch 2/20\n",
      "35000/35000 [==============================] - 212s - loss: 1.4958 - acc: 0.4677 - val_loss: 1.4429 - val_acc: 0.4931\n",
      "Epoch 3/20\n",
      "35000/35000 [==============================] - 212s - loss: 1.2834 - acc: 0.5471 - val_loss: 1.0938 - val_acc: 0.6153\n",
      "Epoch 4/20\n",
      "35000/35000 [==============================] - 212s - loss: 1.1381 - acc: 0.6007 - val_loss: 1.1093 - val_acc: 0.6039\n",
      "Epoch 5/20\n",
      "35000/35000 [==============================] - 212s - loss: 1.0464 - acc: 0.6339 - val_loss: 1.0157 - val_acc: 0.6432\n",
      "Epoch 6/20\n",
      "35000/35000 [==============================] - 211s - loss: 0.9469 - acc: 0.6704 - val_loss: 0.9496 - val_acc: 0.6741\n",
      "Epoch 7/20\n",
      "35000/35000 [==============================] - 212s - loss: 0.8855 - acc: 0.6902 - val_loss: 0.8596 - val_acc: 0.7045\n",
      "Epoch 8/20\n",
      "35000/35000 [==============================] - 211s - loss: 0.8295 - acc: 0.7117 - val_loss: 0.8546 - val_acc: 0.7054\n",
      "Epoch 9/20\n",
      "35000/35000 [==============================] - 212s - loss: 0.7877 - acc: 0.7264 - val_loss: 0.9355 - val_acc: 0.6971\n",
      "Epoch 10/20\n",
      "35000/35000 [==============================] - 214s - loss: 0.7507 - acc: 0.7395 - val_loss: 0.9747 - val_acc: 0.6753\n",
      "Epoch 11/20\n",
      "35000/35000 [==============================] - 212s - loss: 0.7201 - acc: 0.7535 - val_loss: 0.8384 - val_acc: 0.7168\n",
      "Epoch 12/20\n",
      "35000/35000 [==============================] - 212s - loss: 0.6896 - acc: 0.7595 - val_loss: 0.8226 - val_acc: 0.7369\n",
      "Epoch 13/20\n",
      "35000/35000 [==============================] - 213s - loss: 0.6669 - acc: 0.7677 - val_loss: 0.9445 - val_acc: 0.7089\n",
      "Epoch 14/20\n",
      "35000/35000 [==============================] - 210s - loss: 0.6536 - acc: 0.7752 - val_loss: 0.7601 - val_acc: 0.7472\n",
      "Epoch 15/20\n",
      "35000/35000 [==============================] - 209s - loss: 0.6438 - acc: 0.7797 - val_loss: 0.8747 - val_acc: 0.7270\n",
      "Epoch 16/20\n",
      "35000/35000 [==============================] - 209s - loss: 0.6321 - acc: 0.7842 - val_loss: 0.8767 - val_acc: 0.7250\n",
      "Epoch 17/20\n",
      "35000/35000 [==============================] - 209s - loss: 0.6269 - acc: 0.7865 - val_loss: 0.8286 - val_acc: 0.7522\n",
      "Epoch 18/20\n",
      "35000/35000 [==============================] - 209s - loss: 0.6161 - acc: 0.7934 - val_loss: 0.7581 - val_acc: 0.7586\n",
      "Epoch 19/20\n",
      "35000/35000 [==============================] - 209s - loss: 0.6095 - acc: 0.7954 - val_loss: 0.7756 - val_acc: 0.7628\n",
      "Epoch 20/20\n",
      "35000/35000 [==============================] - 210s - loss: 0.5993 - acc: 0.7978 - val_loss: 0.8220 - val_acc: 0.7598\n"
     ]
    }
   ],
   "source": [
    "h = model.fit(X_train, y_train_cat, batch_size=128,\n",
    "          epochs=20, verbose=1, validation_split=0.3)"
   ]
  },
  {
   "cell_type": "code",
   "execution_count": 50,
   "metadata": {},
   "outputs": [
    {
     "name": "stdout",
     "output_type": "stream",
     "text": [
      " 9984/10000 [============================>.] - ETA: 0s"
     ]
    }
   ],
   "source": [
    "test_acc = model.evaluate(X_test, y_test_cat)"
   ]
  },
  {
   "cell_type": "code",
   "execution_count": 51,
   "metadata": {},
   "outputs": [
    {
     "data": {
      "text/plain": [
       "[0.82400847959518431, 0.75629999999999997]"
      ]
     },
     "execution_count": 51,
     "metadata": {},
     "output_type": "execute_result"
    }
   ],
   "source": [
    "test_acc"
   ]
  },
  {
   "cell_type": "code",
   "execution_count": 52,
   "metadata": {},
   "outputs": [
    {
     "data": {
      "text/plain": [
       "<matplotlib.text.Text at 0x122c5f9b0>"
      ]
     },
     "execution_count": 52,
     "metadata": {},
     "output_type": "execute_result"
    },
    {
     "data": {
      "image/png": "[encoded data removed]",
      "text/plain": [
       "<matplotlib.figure.Figure at 0x122c54e48>"
      ]
     },
     "metadata": {},
     "output_type": "display_data"
    }
   ],
   "source": [
    "plt.plot(h.history['acc'])\n",
    "plt.plot(h.history['val_acc'])\n",
    "\n",
    "plt.legend(['Training', 'Validation'])\n",
    "plt.title('Accuracy')\n",
    "plt.xlabel('Epochs')"
   ]
  }
 ],
 "metadata": {
  "kernelspec": {
   "display_name": "Python 3",
   "language": "python",
   "name": "python3"
  },
  "language_info": {
   "codemirror_mode": {
    "name": "ipython",
    "version": 3
   },
   "file_extension": ".py",
   "mimetype": "text/x-python",
   "name": "python",
   "nbconvert_exporter": "python",
   "pygments_lexer": "ipython3",
   "version": "3.5.4"
  }
 },
 "nbformat": 4,
 "nbformat_minor": 2
}
