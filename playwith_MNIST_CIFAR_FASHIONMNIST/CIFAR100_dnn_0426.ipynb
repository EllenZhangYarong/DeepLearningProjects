{
 "cells": [
  {
   "cell_type": "code",
   "execution_count": null,
   "metadata": {},
   "outputs": [],
   "source": [
    "import os\n",
    "import struct\n",
    "import gc\n",
    "import numpy as np\n",
    "from keras.utils import np_utils\n",
    "from scipy.sparse import coo_matrix\n",
    "from sklearn.utils import shuffle\n",
    "\n",
    "import matplotlib.pyplot as plt\n",
    "%matplotlib inline"
   ]
  },
  {
   "cell_type": "markdown",
   "metadata": {},
   "source": [
    "# 1 . Create Dataset -- add random noise pics into MNIST"
   ]
  },
  {
   "cell_type": "code",
   "execution_count": null,
   "metadata": {},
   "outputs": [],
   "source": [
    "from keras.datasets import cifar100\n",
    "(X_train, y_train), (X_test, y_test) = cifar100.load_data() \n",
    "X_train = X_train / 255\n",
    "X_test  = X_test / 255"
   ]
  },
  {
   "cell_type": "code",
   "execution_count": null,
   "metadata": {},
   "outputs": [],
   "source": [
    "def gen_add_noise_50(X_train,y_train):\n",
    "    \n",
    "    noise_random = np.random.rand(50000,32,32,3)\n",
    "    noise_labels = np.full((50000,1), 100, dtype=int)\n",
    "    X_train = np.concatenate((X_train, noise_random), axis = 0 )\n",
    "    y_train = np.concatenate((y_train, noise_labels), axis = 0 )\n",
    "    return X_train,y_train"
   ]
  },
  {
   "cell_type": "code",
   "execution_count": null,
   "metadata": {},
   "outputs": [],
   "source": [
    "def gen_add_noise_5(X_train,y_train):\n",
    "    \n",
    "    noise_random = np.random.rand(500,32,32,3)\n",
    "    noise_labels = np.full((500,1), 100, dtype=int)\n",
    "    X_train = np.concatenate((X_train, noise_random), axis = 0 )\n",
    "    y_train = np.concatenate((y_train, noise_labels), axis = 0 )\n",
    "    \n",
    "    return X_train,y_train"
   ]
  },
  {
   "cell_type": "code",
   "execution_count": null,
   "metadata": {},
   "outputs": [],
   "source": [
    "def shuffle_me(X_train,y_train):\n",
    "    X_sparse_train = coo_matrix(X_train)\n",
    "    X_train, X_sparse_train, y_train = shuffle(X_train, X_sparse_train, y_train, random_state=42)\n",
    "    return X_train,y_train"
   ]
  },
  {
   "cell_type": "code",
   "execution_count": null,
   "metadata": {},
   "outputs": [],
   "source": [
    "def keras_style_ds(X_train, X_test, y_train, y_test,original):\n",
    "# keras - input\n",
    "    if(original == 1):\n",
    "        num_classes = 100               \n",
    "    else:\n",
    "        num_classes = 101\n",
    "        \n",
    "    y_train = np_utils.to_categorical(y_train, num_classes)\n",
    "    y_test  = np_utils.to_categorical(y_test,  num_classes)\n",
    "    \n",
    "    return X_train, X_test, y_train, y_test, num_classes"
   ]
  },
  {
   "cell_type": "markdown",
   "metadata": {},
   "source": [
    "# 2 . Build Model -- keras model"
   ]
  },
  {
   "cell_type": "code",
   "execution_count": null,
   "metadata": {},
   "outputs": [],
   "source": [
    "from keras.models import Sequential\n",
    "from keras.layers import Dense, Dropout, Flatten\n",
    "from keras.layers.convolutional import Conv2D, MaxPooling2D\n",
    "from keras.utils import np_utils\n",
    "from keras import backend as K\n",
    "from keras.losses import categorical_crossentropy\n",
    "from keras.optimizers import Adadelta\n"
   ]
  },
  {
   "cell_type": "code",
   "execution_count": null,
   "metadata": {
    "scrolled": true
   },
   "outputs": [],
   "source": [
    "def model_factory():\n",
    "    \n",
    "    K.clear_session()\n",
    "    model = Sequential()\n",
    "\n",
    "    model.add(Conv2D(32, (3, 3), activation='relu', \n",
    "                     data_format='channels_last',\n",
    "                     input_shape=(32, 32, 3)))\n",
    "    model.add(Conv2D(32, (3, 3), activation='relu'))\n",
    "    model.add(MaxPooling2D(pool_size=(2, 2)))\n",
    "    model.add(Dropout(0.25))\n",
    "\n",
    "    model.add(Conv2D(64, (3, 3), activation='relu'))\n",
    "    model.add(Conv2D(64, (3, 3), activation='relu'))\n",
    "    model.add(MaxPooling2D(pool_size=(2, 2)))\n",
    "    model.add(Dropout(0.25))\n",
    "\n",
    "    model.add(Flatten())\n",
    "    model.add(Dense(64, activation='relu'))\n",
    "    model.add(Dropout(0.5))\n",
    "    model.add(Dense(num_classes, activation='softmax'))\n",
    "\n",
    "    model.compile(loss=categorical_crossentropy,\n",
    "                  optimizer=Adadelta(),\n",
    "                  metrics=['accuracy'])\n",
    "    \n",
    "    return model\n"
   ]
  },
  {
   "cell_type": "code",
   "execution_count": null,
   "metadata": {},
   "outputs": [],
   "source": [
    "# model = model_factory()\n",
    "# model.summary()"
   ]
  },
  {
   "cell_type": "code",
   "execution_count": null,
   "metadata": {},
   "outputs": [],
   "source": []
  },
  {
   "cell_type": "markdown",
   "metadata": {},
   "source": [
    "# 3. Training"
   ]
  },
  {
   "cell_type": "code",
   "execution_count": null,
   "metadata": {},
   "outputs": [],
   "source": [
    "# Train no random noise added\n",
    "hs_mnist_no_scores = []\n",
    "hs_mnist_no_history= []\n",
    "for i in range(30):\n",
    "    X_train_no,y_train_no = X_train,y_train\n",
    "    X_train_no,y_train_no = shuffle_me(X_train_no,y_train_no)\n",
    "    X_train_no, X_test_no, y_train_no, y_test_no, num_classes = keras_style_ds(X_train_no, X_test, \n",
    "                                                                               y_train_no, y_test, 1)\n",
    "#     print(num_classes)\n",
    "#     print(y_train_no.shape)\n",
    "#     print(X_train_no.shape)\n",
    "    model_no = model_factory()\n",
    "#     model.summary()\n",
    "    \n",
    "    history_no = model_no.fit(X_train_no, y_train_no, epochs=12, batch_size=32,\n",
    "                              validation_split=0.1,verbose=1)\n",
    "    hs_mnist_no_history.append(history_no)\n",
    "    \n",
    "    model_no.save(\"./models/CIFAR100_dnn_0426_no_%d.h5\" % (i+1))\n",
    "    \n",
    "    print()\n",
    "    print(\"------------------------%d : test ------------------------------------------\" % (i+1))\n",
    "    test_no_score = model_no.evaluate(X_test_no, y_test_no, verbose=1)\n",
    "    hs_mnist_no_scores.append(test_no_score)\n",
    "    print(\"%d : CIFAR100 no noise test sets -> Loss: %.2f%%\" % (i+1, test_no_score[0]))\n",
    "    print(\"%d : CIFAR100 no noise test sets -> Accuracy: %.2f%%\" % (i+1, test_no_score[1]*100))\n",
    "    print()\n",
    "    gc.collect()"
   ]
  },
  {
   "cell_type": "code",
   "execution_count": null,
   "metadata": {},
   "outputs": [],
   "source": [
    "hs_mnist_no_scores"
   ]
  },
  {
   "cell_type": "code",
   "execution_count": null,
   "metadata": {},
   "outputs": [],
   "source": [
    "# Train with 6000 random noise added\n",
    "hs_mnist_6_scores = []\n",
    "hs_mnist_6_history= []\n",
    "for j in range(30):\n",
    "    X_train_6,y_train_6 = gen_add_noise_5(X_train,y_train)\n",
    "    X_train_6,y_train_6 = shuffle_me(X_train_6,y_train_6)\n",
    "    X_train_6, X_test_6, y_train_6, y_test_6 , num_classes = keras_style_ds(X_train_6, X_test, \n",
    "                                                                            y_train_6, y_test, 0)\n",
    "    \n",
    "#     print(X_train_6.shape)\n",
    "#     print(y_train_6.shape)\n",
    "    model_6 = model_factory()\n",
    "#     model_6.summary()\n",
    "    \n",
    "    history_6 = model_6.fit(X_train_6, y_train_6, epochs=12, batch_size = 32, \n",
    "                            validation_split = 0.1, verbose=1)\n",
    "    hs_mnist_6_history.append(history_6)\n",
    "    \n",
    "    model_6.save(\"./models/CIFAR100_dnn_0426_5_%d.h5\" % (j+1))\n",
    "    \n",
    "    print(\"------------------------%d : test ------------------------------------------\" % (j+1))\n",
    "    test_score_6 = model_6.evaluate(X_test_6, y_test_6, verbose=1)\n",
    "    hs_mnist_6_scores.append(test_score_6)\n",
    "    print(\"%d : CIFAR100 with 5 test sets -> Loss: %.2f%%\" % (j+1, test_score_6[0]))\n",
    "    print(\"%d : CIFAR100 with 5 test sets -> Accuracy: %.2f%%\" % (j+1, test_score_6[1]*100))\n",
    "    print()\n",
    "    gc.collect()"
   ]
  },
  {
   "cell_type": "code",
   "execution_count": null,
   "metadata": {},
   "outputs": [],
   "source": [
    "hs_mnist_6_scores"
   ]
  },
  {
   "cell_type": "code",
   "execution_count": null,
   "metadata": {},
   "outputs": [],
   "source": [
    "# Train with 60,000 random noise added\n",
    "hs_mnist_60_scores = []\n",
    "hs_mnist_60_history= []\n",
    "for h in range(30):\n",
    "    \n",
    "    X_train_60,y_train_60 = gen_add_noise_50(X_train,y_train)\n",
    "    X_train_60,y_train_60 = shuffle_me(X_train_60,y_train_60)\n",
    "    X_train_60, X_test_60, y_train_60, y_test_60, num_classes = keras_style_ds(X_train_60, X_test, \n",
    "                                                                               y_train_60, y_test, 0)\n",
    "    \n",
    "#     print(X_train_60.shape)\n",
    "#     print(y_train_60.shape)\n",
    "    model_60 = model_factory()\n",
    "#     model_60.summary()\n",
    "    \n",
    "    history_60 = model_60.fit(X_train_60, y_train_60, epochs=12, batch_size=32,\n",
    "                              validation_split=0.1,verbose=1)\n",
    "    hs_mnist_60_history.append(history_60)\n",
    "    \n",
    "    model_60.save(\"./models/CIFAR100_dnn_0426_50_%d.h5\" % (h+1))\n",
    "    \n",
    "    print(\"------------------------%d : test ------------------------------------------\" % (h+1))\n",
    "    test_score_60 = model_60.evaluate(X_test_60, y_test_60, verbose=1)\n",
    "    hs_mnist_60_scores.append(test_score_60)\n",
    "    print(\"%d : CIFAR100 with 50 test sets -> Loss: %.2f%%\" % (h+1, test_score_60[0]))\n",
    "    print(\"%d : CIFAR100 with 50 test sets -> Accuracy: %.2f%%\" % (h+1, test_score_60[1]*100))\n",
    "    print()\n",
    "    gc.collect()"
   ]
  },
  {
   "cell_type": "code",
   "execution_count": null,
   "metadata": {},
   "outputs": [],
   "source": [
    "hs_mnist_60_scores"
   ]
  }
 ],
 "metadata": {
  "kernelspec": {
   "display_name": "Python 3",
   "language": "python",
   "name": "python3"
  },
  "language_info": {
   "codemirror_mode": {
    "name": "ipython",
    "version": 3
   },
   "file_extension": ".py",
   "mimetype": "text/x-python",
   "name": "python",
   "nbconvert_exporter": "python",
   "pygments_lexer": "ipython3",
   "version": "3.6.4"
  }
 },
 "nbformat": 4,
 "nbformat_minor": 2
}
