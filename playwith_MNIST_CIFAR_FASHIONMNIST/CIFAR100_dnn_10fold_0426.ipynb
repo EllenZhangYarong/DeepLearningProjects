{
 "cells": [
  {
   "cell_type": "code",
   "execution_count": null,
   "metadata": {},
   "outputs": [],
   "source": [
    "import os\n",
    "import struct\n",
    "import gc\n",
    "import numpy as np\n",
    "from keras.utils import np_utils\n",
    "from scipy.sparse import coo_matrix\n",
    "from sklearn.utils import shuffle\n",
    "\n",
    "import matplotlib.pyplot as plt\n",
    "%matplotlib inline"
   ]
  },
  {
   "cell_type": "markdown",
   "metadata": {},
   "source": [
    "# 1 . Create Dataset"
   ]
  },
  {
   "cell_type": "code",
   "execution_count": null,
   "metadata": {},
   "outputs": [],
   "source": [
    "from keras.datasets import cifar100\n",
    "(X_train, y_train), (X_test, y_test) = cifar100.load_data() \n",
    "X_train = X_train / 255\n",
    "X_test  = X_test / 255"
   ]
  },
  {
   "cell_type": "code",
   "execution_count": 1,
   "metadata": {},
   "outputs": [],
   "source": [
    "cv = 10"
   ]
  },
  {
   "cell_type": "code",
   "execution_count": null,
   "metadata": {},
   "outputs": [],
   "source": [
    "def gen_add_noise_50(X_train,y_train):\n",
    "    noise_random = np.random.rand(50000,32,32,3)\n",
    "    noise_labels = np.full((50000,1), 100, dtype=int)\n",
    "    X_train_60 = np.concatenate((X_train, noise_random), axis = 0 )\n",
    "    y_train_60 = np.concatenate((y_train, noise_labels), axis = 0 )\n",
    "    \n",
    "    return X_train_60,y_train_60"
   ]
  },
  {
   "cell_type": "code",
   "execution_count": null,
   "metadata": {},
   "outputs": [],
   "source": [
    "def gen_add_noise_5(X_train,y_train):\n",
    "    noise_random = np.random.rand(500,32,32,3)\n",
    "    noise_labels = np.full((500,1), 100, dtype=int)\n",
    "    X_train_6 = np.concatenate((X_train, noise_random), axis = 0 )\n",
    "    y_train_6 = np.concatenate((y_train, noise_labels), axis = 0 )\n",
    "    \n",
    "    return X_train_6,y_train_6"
   ]
  },
  {
   "cell_type": "code",
   "execution_count": null,
   "metadata": {},
   "outputs": [],
   "source": [
    "def shuffle_me(X_train,y_train):\n",
    "    X_sparse_train = coo_matrix(X_train)\n",
    "    X_train, X_sparse_train, y_train = shuffle(X_train, X_sparse_train, y_train, random_state=42)\n",
    "    return X_train,y_train"
   ]
  },
  {
   "cell_type": "code",
   "execution_count": null,
   "metadata": {},
   "outputs": [],
   "source": [
    "def keras_style_ds(X_train, X_test, y_train, y_test,original):\n",
    "# keras - input\n",
    "\n",
    "    if(original == 1):\n",
    "        num_classes = 100               \n",
    "    else:\n",
    "        num_classes = 101\n",
    "        \n",
    "    y_train = np_utils.to_categorical(y_train, num_classes)\n",
    "    y_test  = np_utils.to_categorical(y_test, num_classes)\n",
    "    \n",
    "    return X_train, X_test, y_train, y_test, num_classes"
   ]
  },
  {
   "cell_type": "code",
   "execution_count": null,
   "metadata": {},
   "outputs": [],
   "source": []
  },
  {
   "cell_type": "markdown",
   "metadata": {},
   "source": [
    "# 2 . Build Model -- keras model"
   ]
  },
  {
   "cell_type": "code",
   "execution_count": null,
   "metadata": {},
   "outputs": [],
   "source": [
    "from keras.models import Sequential\n",
    "from keras.layers import Dense, Dropout, Flatten\n",
    "from keras.layers.convolutional import Conv2D, MaxPooling2D\n",
    "from keras.utils import np_utils\n",
    "from keras import backend as K\n",
    "from keras.losses import categorical_crossentropy\n",
    "from keras.optimizers import Adadelta\n",
    "\n"
   ]
  },
  {
   "cell_type": "code",
   "execution_count": null,
   "metadata": {
    "scrolled": true
   },
   "outputs": [],
   "source": [
    "def model_factory():\n",
    "    K.clear_session()\n",
    "    model = Sequential()\n",
    "\n",
    "    model.add(Conv2D(32, (3, 3), activation='relu', \n",
    "                     data_format='channels_last',\n",
    "                     input_shape=(32, 32, 3)))\n",
    "    model.add(Conv2D(32, (3, 3), activation='relu'))\n",
    "    model.add(MaxPooling2D(pool_size=(2, 2)))\n",
    "    model.add(Dropout(0.25))\n",
    "\n",
    "    model.add(Conv2D(64, (3, 3), activation='relu'))\n",
    "    model.add(Conv2D(64, (3, 3), activation='relu'))\n",
    "    model.add(MaxPooling2D(pool_size=(2, 2)))\n",
    "    model.add(Dropout(0.25))\n",
    "\n",
    "    model.add(Flatten())\n",
    "    model.add(Dense(64, activation='relu'))\n",
    "    model.add(Dropout(0.5))\n",
    "    model.add(Dense(num_classes, activation='softmax'))\n",
    "\n",
    "    model.compile(loss=categorical_crossentropy,\n",
    "                  optimizer=Adadelta(),\n",
    "                  metrics=['accuracy'])\n",
    "    \n",
    "    return model\n"
   ]
  },
  {
   "cell_type": "code",
   "execution_count": null,
   "metadata": {},
   "outputs": [],
   "source": [
    "# model = model_factory()\n",
    "# model.summary()"
   ]
  },
  {
   "cell_type": "code",
   "execution_count": null,
   "metadata": {},
   "outputs": [],
   "source": []
  },
  {
   "cell_type": "markdown",
   "metadata": {},
   "source": [
    "# 3. Training & Test"
   ]
  },
  {
   "cell_type": "code",
   "execution_count": null,
   "metadata": {},
   "outputs": [],
   "source": [
    "from sklearn.model_selection import KFold\n",
    "kf = KFold(cv, random_state=None, shuffle=False)"
   ]
  },
  {
   "cell_type": "code",
   "execution_count": null,
   "metadata": {},
   "outputs": [],
   "source": [
    "# Train no random noise added\n",
    "hs_mnist_no_scores = []\n",
    "hs_mnist_no_history= []\n",
    "\n",
    "\n",
    "for i in range(30):\n",
    "    \n",
    "    X_train_no,y_train_no = X_train,y_train\n",
    "    X_train_no,y_train_no = shuffle_me(X_train_no,y_train_no)\n",
    "    X_train_no, X_test_no, y_train_no, y_test_no, num_classes = keras_style_ds(X_train_no, X_test, \n",
    "                                                                               y_train_no, y_test, 1)\n",
    "\n",
    "    model_no = model_factory()\n",
    "\n",
    "    for train_index, test_index in kf.split(X_train_no):\n",
    "        print(\"TRAIN:\", len(train_index), \"TEST:\", len(test_index))\n",
    "\n",
    "        X_train_cv, X_test_cv = X_train_no[train_index], X_train_no[test_index]\n",
    "        y_train_cv, y_test_cv = y_train_no[train_index], y_train_no[test_index]\n",
    "\n",
    "        history = model_no.fit(X_train_cv, y_train_cv, epochs=12, batch_size=32, \n",
    "                               validation_data = (X_test_cv, y_test_cv),verbose=1)\n",
    "        hs_mnist_no_history.append(history)  \n",
    "\n",
    "    test_no_score = model_no.evaluate(X_test_no, y_test_no, verbose=1)\n",
    "    hs_mnist_no_scores.append(test_no_score)\n",
    "\n",
    "    model_no.save(\"./models/CIFAR100_dnn_10fold_0426_no_%d.h5\" % (i+1))\n",
    "\n",
    "    print()\n",
    "    print(\"-------------%d  time training and testing -----------------------------\"% ( i+1) )\n",
    "    print(\"CIFAR100 test sets -> Loss: %f\" % (test_no_score[0]))\n",
    "    print(\"CIFAR100 test sets -> Accuracy: %.2f%%\" % (test_no_score[1]*100))\n",
    "    \n",
    "    gc.collect()"
   ]
  },
  {
   "cell_type": "code",
   "execution_count": null,
   "metadata": {},
   "outputs": [],
   "source": [
    "hs_mnist_no_scores"
   ]
  },
  {
   "cell_type": "code",
   "execution_count": null,
   "metadata": {},
   "outputs": [],
   "source": [
    "# Train with 6000 random noise added\n",
    "hs_mnist_6_scores = []\n",
    "hs_mnist_6_history= []\n",
    "\n",
    "\n",
    "for j in range(30):\n",
    "    \n",
    "    X_train_6,y_train_6 = gen_add_noise_5(X_train,y_train)\n",
    "    X_train_6,y_train_6 = shuffle_me(X_train_6,y_train_6)\n",
    "    X_train_6, X_test_6, y_train_6, y_test_6 , num_classes = keras_style_ds(X_train_6, X_test, \n",
    "                                                                            y_train_6, y_test, 0)\n",
    "    \n",
    "    model_6 = model_factory()\n",
    "\n",
    "    for train_index, test_index in kf.split(X_train_6):\n",
    "        print(\"TRAIN:\", len(train_index), \"TEST:\", len(test_index))\n",
    "\n",
    "        X_train_6_cv, X_test_6_cv = X_train_6[train_index], X_train_6[test_index]\n",
    "        y_train_6_cv, y_test_6_cv = y_train_6[train_index], y_train_6[test_index]\n",
    "\n",
    "#         X_train_6_cv, X_test_6_cv, y_train_6_cv, y_test_6_cv = keras_style_ds(X_train_cv, X_test_cv, y_train_cv, y_test_cv)\n",
    "        history_6 = model_6.fit(X_train_6_cv, y_train_6_cv, epochs=12, batch_size=32, \n",
    "                                validation_data = (X_test_6_cv, y_test_6_cv),verbose=1)\n",
    "        hs_mnist_6_history.append(history_6)  \n",
    "\n",
    "    test_6_score = model_6.evaluate(X_test_6, y_test_6, verbose=1)\n",
    "    hs_mnist_6_scores.append(test_6_score)\n",
    "    \n",
    "    model_6.save(\"./models/CIFAR100_dnn_10fold_0426_5k_%d.h5\" % (j+1))\n",
    "\n",
    "    print()\n",
    "    print(\"-------------%d  time training and testing -----------------------------\"% ( j+1) )\n",
    "    print(\"CIFAR100 5 test sets -> Loss: %f\" % (test_6_score[0]))\n",
    "    print(\"CIFAR100 5 test sets -> Accuracy: %.2f%%\" % (test_6_score[1]*100))\n",
    "    \n",
    "    gc.collect()"
   ]
  },
  {
   "cell_type": "code",
   "execution_count": null,
   "metadata": {},
   "outputs": [],
   "source": [
    "hs_mnist_6_scores"
   ]
  },
  {
   "cell_type": "code",
   "execution_count": null,
   "metadata": {},
   "outputs": [],
   "source": [
    "# Train with 60,000 random noise added\n",
    "hs_mnist_60_scores = []\n",
    "hs_mnist_60_history= []\n",
    "\n",
    "\n",
    "for h in range(30):\n",
    "    \n",
    "    X_train_60,y_train_60 = gen_add_noise_50(X_train,y_train)\n",
    "    X_train_60,y_train_60 = shuffle_me(X_train_60,y_train_60)\n",
    "    X_train_60, X_test_60, y_train_60, y_test_60 , num_classes = keras_style_ds(X_train_60, X_test, \n",
    "                                                                                y_train_60, y_test, 0)\n",
    "    \n",
    "    model_60 = model_factory()\n",
    "\n",
    "    for train_index, test_index in kf.split(X_train_6):\n",
    "        print(\"TRAIN:\", len(train_index), \"TEST:\", len(test_index))\n",
    "\n",
    "        X_train_60_cv, X_test_60_cv = X_train_60[train_index], X_train_60[test_index]\n",
    "        y_train_60_cv, y_test_60_cv = y_train_60[train_index], y_train_60[test_index]\n",
    "\n",
    "        history_60 = model_60.fit(X_train_60_cv, y_train_60_cv, epochs=12, batch_size=32, \n",
    "                                  validation_data = (X_test_60_cv, y_test_60_cv),verbose=1)\n",
    "        \n",
    "        hs_mnist_60_history.append(history_60)  \n",
    "\n",
    "    test_60_score = model_60.evaluate(X_test_60, y_test_60, verbose=1)\n",
    "    hs_mnist_60_scores.append(test_60_score)\n",
    "\n",
    "    model_60.save(\"./models/CIFAR100_dnn_10fold_0426_50k_%d.h5\" % (h+1))\n",
    "\n",
    "    print()\n",
    "    print(\"-------------%d  time training and testing -----------------------------\"% ( h+1) )\n",
    "    print(\"CIFAR100 50k test sets -> Loss: %f\" % (test_60_score[0]))\n",
    "    print(\"CIFAR100 50k test sets -> Accuracy: %.2f%%\" % (test_60_score[1]*100))\n",
    "    \n",
    "    gc.collect()"
   ]
  },
  {
   "cell_type": "code",
   "execution_count": null,
   "metadata": {},
   "outputs": [],
   "source": [
    "hs_mnist_60_scores"
   ]
  }
 ],
 "metadata": {
  "kernelspec": {
   "display_name": "Python 3",
   "language": "python",
   "name": "python3"
  },
  "language_info": {
   "codemirror_mode": {
    "name": "ipython",
    "version": 3
   },
   "file_extension": ".py",
   "mimetype": "text/x-python",
   "name": "python",
   "nbconvert_exporter": "python",
   "pygments_lexer": "ipython3",
   "version": "3.6.4"
  }
 },
 "nbformat": 4,
 "nbformat_minor": 2
}
