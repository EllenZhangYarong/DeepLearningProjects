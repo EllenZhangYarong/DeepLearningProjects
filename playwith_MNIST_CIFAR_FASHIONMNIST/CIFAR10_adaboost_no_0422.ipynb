{
 "cells": [
  {
   "cell_type": "code",
   "execution_count": 1,
   "metadata": {},
   "outputs": [],
   "source": [
    "import os\n",
    "import struct\n",
    "import numpy as np\n",
    "import gc\n",
    "import matplotlib.pyplot as plt\n",
    "%matplotlib inline"
   ]
  },
  {
   "cell_type": "markdown",
   "metadata": {},
   "source": [
    "# 1 . Create Dataset -- mix mnist training set and test sets together"
   ]
  },
  {
   "cell_type": "code",
   "execution_count": 2,
   "metadata": {},
   "outputs": [
    {
     "name": "stderr",
     "output_type": "stream",
     "text": [
      "d:\\Anaconda3\\envs\\tfgpu\\lib\\site-packages\\h5py\\__init__.py:36: FutureWarning: Conversion of the second argument of issubdtype from `float` to `np.floating` is deprecated. In future, it will be treated as `np.float64 == np.dtype(float).type`.\n",
      "  from ._conv import register_converters as _register_converters\n",
      "Using TensorFlow backend.\n"
     ]
    }
   ],
   "source": [
    "from keras.datasets import cifar10\n",
    "(X_train, y_train), (X_cifar_test, y_cifar_test) = cifar10.load_data() \n",
    "X_train= X_train.reshape(len(X_train),3072)\n",
    "X_cifar_test = X_cifar_test.reshape(len(X_cifar_test),3072)\n",
    "y_train = y_train.ravel()\n",
    "y_cifar_test = y_cifar_test.ravel()"
   ]
  },
  {
   "cell_type": "code",
   "execution_count": 3,
   "metadata": {},
   "outputs": [],
   "source": [
    "# Random shuffle the training and testing datasets\n",
    "from scipy.sparse import coo_matrix\n",
    "from sklearn.utils import shuffle\n",
    "\n",
    "X_sparse_mnist_train = coo_matrix(X_train)\n",
    "X_train, X_sparse_mnist_train, y_train = shuffle(X_train, X_sparse_mnist_train, y_train, random_state=666)\n"
   ]
  },
  {
   "cell_type": "code",
   "execution_count": 4,
   "metadata": {},
   "outputs": [
    {
     "data": {
      "text/plain": [
       "(50000, 3072)"
      ]
     },
     "execution_count": 4,
     "metadata": {},
     "output_type": "execute_result"
    }
   ],
   "source": [
    "X_train.shape"
   ]
  },
  {
   "cell_type": "code",
   "execution_count": 5,
   "metadata": {},
   "outputs": [
    {
     "data": {
      "text/plain": [
       "array([6, 3, 6, ..., 2, 3, 7], dtype=uint8)"
      ]
     },
     "execution_count": 5,
     "metadata": {},
     "output_type": "execute_result"
    }
   ],
   "source": [
    "y_train"
   ]
  },
  {
   "cell_type": "markdown",
   "metadata": {},
   "source": [
    "# 2 . Build Classifier"
   ]
  },
  {
   "cell_type": "code",
   "execution_count": 6,
   "metadata": {},
   "outputs": [],
   "source": [
    "from sklearn.ensemble import AdaBoostClassifier\n",
    "from sklearn.metrics import accuracy_score\n",
    "from sklearn.tree import DecisionTreeClassifier"
   ]
  },
  {
   "cell_type": "code",
   "execution_count": 7,
   "metadata": {
    "scrolled": true
   },
   "outputs": [],
   "source": [
    "clf_ada = AdaBoostClassifier(\n",
    "    DecisionTreeClassifier(max_depth=1000),\n",
    "    n_estimators=6000,\n",
    "    learning_rate=0.001)"
   ]
  },
  {
   "cell_type": "code",
   "execution_count": null,
   "metadata": {},
   "outputs": [],
   "source": []
  },
  {
   "cell_type": "markdown",
   "metadata": {},
   "source": [
    "# 3. Training"
   ]
  },
  {
   "cell_type": "code",
   "execution_count": 8,
   "metadata": {},
   "outputs": [
    {
     "name": "stdout",
     "output_type": "stream",
     "text": [
      "----------------1----------------\n",
      "-----------------------------------------------------\n",
      "Accuracy on CIFAR test is 0.266700\n",
      "Test error on CIFAR test is 73.330000%\n",
      "-----------------------------------------------------\n",
      "\n",
      "----------------2----------------\n",
      "-----------------------------------------------------\n",
      "Accuracy on CIFAR test is 0.266100\n",
      "Test error on CIFAR test is 73.390000%\n",
      "-----------------------------------------------------\n",
      "\n",
      "----------------3----------------\n",
      "-----------------------------------------------------\n",
      "Accuracy on CIFAR test is 0.266400\n",
      "Test error on CIFAR test is 73.360000%\n",
      "-----------------------------------------------------\n",
      "\n",
      "----------------4----------------\n",
      "-----------------------------------------------------\n",
      "Accuracy on CIFAR test is 0.270900\n",
      "Test error on CIFAR test is 72.910000%\n",
      "-----------------------------------------------------\n",
      "\n",
      "----------------5----------------\n",
      "-----------------------------------------------------\n",
      "Accuracy on CIFAR test is 0.269000\n",
      "Test error on CIFAR test is 73.100000%\n",
      "-----------------------------------------------------\n",
      "\n",
      "----------------6----------------\n",
      "-----------------------------------------------------\n",
      "Accuracy on CIFAR test is 0.271400\n",
      "Test error on CIFAR test is 72.860000%\n",
      "-----------------------------------------------------\n",
      "\n",
      "----------------7----------------\n",
      "-----------------------------------------------------\n",
      "Accuracy on CIFAR test is 0.269600\n",
      "Test error on CIFAR test is 73.040000%\n",
      "-----------------------------------------------------\n",
      "\n",
      "----------------8----------------\n",
      "-----------------------------------------------------\n",
      "Accuracy on CIFAR test is 0.269100\n",
      "Test error on CIFAR test is 73.090000%\n",
      "-----------------------------------------------------\n",
      "\n",
      "----------------9----------------\n",
      "-----------------------------------------------------\n",
      "Accuracy on CIFAR test is 0.271100\n",
      "Test error on CIFAR test is 72.890000%\n",
      "-----------------------------------------------------\n",
      "\n",
      "----------------10----------------\n",
      "-----------------------------------------------------\n",
      "Accuracy on CIFAR test is 0.268500\n",
      "Test error on CIFAR test is 73.150000%\n",
      "-----------------------------------------------------\n",
      "\n",
      "----------------11----------------\n",
      "-----------------------------------------------------\n",
      "Accuracy on CIFAR test is 0.272000\n",
      "Test error on CIFAR test is 72.800000%\n",
      "-----------------------------------------------------\n",
      "\n",
      "----------------12----------------\n",
      "-----------------------------------------------------\n",
      "Accuracy on CIFAR test is 0.270600\n",
      "Test error on CIFAR test is 72.940000%\n",
      "-----------------------------------------------------\n",
      "\n",
      "----------------13----------------\n",
      "-----------------------------------------------------\n",
      "Accuracy on CIFAR test is 0.269300\n",
      "Test error on CIFAR test is 73.070000%\n",
      "-----------------------------------------------------\n",
      "\n",
      "----------------14----------------\n",
      "-----------------------------------------------------\n",
      "Accuracy on CIFAR test is 0.269500\n",
      "Test error on CIFAR test is 73.050000%\n",
      "-----------------------------------------------------\n",
      "\n",
      "----------------15----------------\n",
      "-----------------------------------------------------\n",
      "Accuracy on CIFAR test is 0.269000\n",
      "Test error on CIFAR test is 73.100000%\n",
      "-----------------------------------------------------\n",
      "\n",
      "----------------16----------------\n",
      "-----------------------------------------------------\n",
      "Accuracy on CIFAR test is 0.269300\n",
      "Test error on CIFAR test is 73.070000%\n",
      "-----------------------------------------------------\n",
      "\n",
      "----------------17----------------\n",
      "-----------------------------------------------------\n",
      "Accuracy on CIFAR test is 0.268500\n",
      "Test error on CIFAR test is 73.150000%\n",
      "-----------------------------------------------------\n",
      "\n",
      "----------------18----------------\n",
      "-----------------------------------------------------\n",
      "Accuracy on CIFAR test is 0.266000\n",
      "Test error on CIFAR test is 73.400000%\n",
      "-----------------------------------------------------\n",
      "\n",
      "----------------19----------------\n",
      "-----------------------------------------------------\n",
      "Accuracy on CIFAR test is 0.270100\n",
      "Test error on CIFAR test is 72.990000%\n",
      "-----------------------------------------------------\n",
      "\n",
      "----------------20----------------\n",
      "-----------------------------------------------------\n",
      "Accuracy on CIFAR test is 0.267000\n",
      "Test error on CIFAR test is 73.300000%\n",
      "-----------------------------------------------------\n",
      "\n",
      "----------------21----------------\n",
      "-----------------------------------------------------\n",
      "Accuracy on CIFAR test is 0.267200\n",
      "Test error on CIFAR test is 73.280000%\n",
      "-----------------------------------------------------\n",
      "\n",
      "----------------22----------------\n",
      "-----------------------------------------------------\n",
      "Accuracy on CIFAR test is 0.266600\n",
      "Test error on CIFAR test is 73.340000%\n",
      "-----------------------------------------------------\n",
      "\n",
      "----------------23----------------\n",
      "-----------------------------------------------------\n",
      "Accuracy on CIFAR test is 0.271500\n",
      "Test error on CIFAR test is 72.850000%\n",
      "-----------------------------------------------------\n",
      "\n",
      "----------------24----------------\n",
      "-----------------------------------------------------\n",
      "Accuracy on CIFAR test is 0.270700\n",
      "Test error on CIFAR test is 72.930000%\n",
      "-----------------------------------------------------\n",
      "\n",
      "----------------25----------------\n",
      "-----------------------------------------------------\n",
      "Accuracy on CIFAR test is 0.270700\n",
      "Test error on CIFAR test is 72.930000%\n",
      "-----------------------------------------------------\n",
      "\n",
      "----------------26----------------\n",
      "-----------------------------------------------------\n",
      "Accuracy on CIFAR test is 0.269600\n",
      "Test error on CIFAR test is 73.040000%\n",
      "-----------------------------------------------------\n",
      "\n",
      "----------------27----------------\n",
      "-----------------------------------------------------\n",
      "Accuracy on CIFAR test is 0.269900\n",
      "Test error on CIFAR test is 73.010000%\n",
      "-----------------------------------------------------\n",
      "\n",
      "----------------28----------------\n",
      "-----------------------------------------------------\n",
      "Accuracy on CIFAR test is 0.266500\n",
      "Test error on CIFAR test is 73.350000%\n",
      "-----------------------------------------------------\n",
      "\n",
      "----------------29----------------\n",
      "-----------------------------------------------------\n",
      "Accuracy on CIFAR test is 0.269300\n",
      "Test error on CIFAR test is 73.070000%\n",
      "-----------------------------------------------------\n",
      "\n",
      "----------------30----------------\n",
      "-----------------------------------------------------\n",
      "Accuracy on CIFAR test is 0.270500\n",
      "Test error on CIFAR test is 72.950000%\n",
      "-----------------------------------------------------\n",
      "\n"
     ]
    }
   ],
   "source": [
    "hs_cifar10_scores = []\n",
    "hs_cifar10_errors = []\n",
    "\n",
    "for i in range(30):\n",
    "    print(\"----------------%d----------------\"%(i+1))\n",
    "    clf_ada = AdaBoostClassifier(\n",
    "        DecisionTreeClassifier(max_depth=1000),\n",
    "        n_estimators=6000,\n",
    "        learning_rate=0.001)\n",
    "\n",
    "    clf_ada.fit(X_train,y_train)\n",
    "    \n",
    "    score_cifar10 = clf_ada.score(X_cifar_test, y_cifar_test)\n",
    "    hs_cifar10_scores.append(score_cifar10)\n",
    "    hs_cifar10_errors.append(1-score_cifar10)\n",
    "    print(\"-----------------------------------------------------\")\n",
    "    print(\"Accuracy on CIFAR test is %f\"% (score_cifar10))\n",
    "    print(\"Test error on CIFAR test is %f%%\"% ((1-score_cifar10)*100))\n",
    "    print(\"-----------------------------------------------------\")\n",
    "    print()\n",
    "    gc.collect()"
   ]
  },
  {
   "cell_type": "code",
   "execution_count": 9,
   "metadata": {},
   "outputs": [
    {
     "data": {
      "text/plain": [
       "[0.2667,\n",
       " 0.2661,\n",
       " 0.2664,\n",
       " 0.2709,\n",
       " 0.269,\n",
       " 0.2714,\n",
       " 0.2696,\n",
       " 0.2691,\n",
       " 0.2711,\n",
       " 0.2685,\n",
       " 0.272,\n",
       " 0.2706,\n",
       " 0.2693,\n",
       " 0.2695,\n",
       " 0.269,\n",
       " 0.2693,\n",
       " 0.2685,\n",
       " 0.266,\n",
       " 0.2701,\n",
       " 0.267,\n",
       " 0.2672,\n",
       " 0.2666,\n",
       " 0.2715,\n",
       " 0.2707,\n",
       " 0.2707,\n",
       " 0.2696,\n",
       " 0.2699,\n",
       " 0.2665,\n",
       " 0.2693,\n",
       " 0.2705]"
      ]
     },
     "execution_count": 9,
     "metadata": {},
     "output_type": "execute_result"
    }
   ],
   "source": [
    "hs_cifar10_scores"
   ]
  },
  {
   "cell_type": "code",
   "execution_count": 10,
   "metadata": {},
   "outputs": [
    {
     "data": {
      "text/plain": [
       "[0.7333000000000001,\n",
       " 0.7339,\n",
       " 0.7336,\n",
       " 0.7291000000000001,\n",
       " 0.731,\n",
       " 0.7286,\n",
       " 0.7303999999999999,\n",
       " 0.7309,\n",
       " 0.7289,\n",
       " 0.7315,\n",
       " 0.728,\n",
       " 0.7294,\n",
       " 0.7307,\n",
       " 0.7304999999999999,\n",
       " 0.731,\n",
       " 0.7307,\n",
       " 0.7315,\n",
       " 0.734,\n",
       " 0.7299,\n",
       " 0.733,\n",
       " 0.7328,\n",
       " 0.7334,\n",
       " 0.7284999999999999,\n",
       " 0.7293000000000001,\n",
       " 0.7293000000000001,\n",
       " 0.7303999999999999,\n",
       " 0.7301,\n",
       " 0.7335,\n",
       " 0.7307,\n",
       " 0.7295]"
      ]
     },
     "execution_count": 10,
     "metadata": {},
     "output_type": "execute_result"
    }
   ],
   "source": [
    "hs_cifar10_errors"
   ]
  }
 ],
 "metadata": {
  "kernelspec": {
   "display_name": "Python 3",
   "language": "python",
   "name": "python3"
  },
  "language_info": {
   "codemirror_mode": {
    "name": "ipython",
    "version": 3
   },
   "file_extension": ".py",
   "mimetype": "text/x-python",
   "name": "python",
   "nbconvert_exporter": "python",
   "pygments_lexer": "ipython3",
   "version": "3.6.4"
  }
 },
 "nbformat": 4,
 "nbformat_minor": 2
}
