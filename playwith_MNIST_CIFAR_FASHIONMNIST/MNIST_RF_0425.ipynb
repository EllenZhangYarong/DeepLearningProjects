{
 "cells": [
  {
   "cell_type": "code",
   "execution_count": 1,
   "metadata": {
    "collapsed": true
   },
   "outputs": [],
   "source": [
    "import os\n",
    "import time\n",
    "\n",
    "import struct\n",
    "import numpy as np\n",
    "import matplotlib.pyplot as plt\n",
    "%matplotlib inline"
   ]
  },
  {
   "cell_type": "markdown",
   "metadata": {},
   "source": [
    "# Prepare the training set and testing set"
   ]
  },
  {
   "cell_type": "code",
   "execution_count": 2,
   "metadata": {
    "collapsed": true
   },
   "outputs": [],
   "source": [
    "def load_data(path, kind=''):\n",
    "    \"\"\"Load MNIST data from `path`\"\"\"\n",
    "    labels_path = os.path.join(path,\n",
    "                               '%s-labels-idx1-ubyte'\n",
    "                               % kind)\n",
    "    images_path = os.path.join(path,\n",
    "                               '%s-images-idx3-ubyte'\n",
    "                               % kind)\n",
    "    with open(labels_path, 'rb') as lbpath:\n",
    "        magic, n = struct.unpack('>II',\n",
    "                                 lbpath.read(8))\n",
    "        labels = np.fromfile(lbpath,\n",
    "                             dtype=np.uint8)\n",
    "\n",
    "    with open(images_path, 'rb') as imgpath:\n",
    "        magic, num, rows, cols = struct.unpack('>IIII',\n",
    "                                               imgpath.read(16))\n",
    "        images = np.fromfile(imgpath,\n",
    "                             dtype=np.uint8).reshape(len(labels), 784)\n",
    "\n",
    "    return images, labels\n",
    "\n",
    "path = './datasets/'"
   ]
  },
  {
   "cell_type": "code",
   "execution_count": 3,
   "metadata": {
    "collapsed": true
   },
   "outputs": [],
   "source": [
    "X_mnist_train,y_mnist_train = load_data(path, kind='train')\n",
    "X_mnist_test,y_mnist_test = load_data(path, kind='t10k')"
   ]
  },
  {
   "cell_type": "code",
   "execution_count": 4,
   "metadata": {
    "collapsed": true
   },
   "outputs": [],
   "source": [
    "noise_random = np.random.rand(60000,784)\n",
    "noise_labels = np.full((60000), 10, dtype=int)\n",
    "\n",
    "noise_random_6 = np.random.rand(6000,784)\n",
    "noise_labels_6 = np.full((6000), 10, dtype=int)"
   ]
  },
  {
   "cell_type": "code",
   "execution_count": 5,
   "metadata": {
    "collapsed": true
   },
   "outputs": [],
   "source": [
    "X_random_train =  np.concatenate((X_mnist_train, noise_random), axis = 0 )\n",
    "y_random_train = np.concatenate((y_mnist_train, noise_labels), axis = 0 )\n",
    "\n",
    "X_random_train_6 =  np.concatenate((X_mnist_train, noise_random_6), axis = 0 )\n",
    "y_random_train_6 = np.concatenate((y_mnist_train, noise_labels_6), axis = 0 )\n"
   ]
  },
  {
   "cell_type": "code",
   "execution_count": 6,
   "metadata": {
    "collapsed": true
   },
   "outputs": [],
   "source": [
    "# Random shuffle the training and testing datasets\n",
    "from scipy.sparse import coo_matrix\n",
    "from sklearn.utils import shuffle\n",
    "\n",
    "X_sparse_mnist_train = coo_matrix(X_mnist_train)\n",
    "X_mnist_train, X_sparse_mnist_train, y_mnist_train = shuffle(X_mnist_train, X_sparse_mnist_train, y_mnist_train, random_state=666)\n",
    "\n",
    "X_sparse_random_train = coo_matrix(X_random_train)\n",
    "X_random_train, X_sparse_random_train, y_random_train = shuffle(X_random_train, X_sparse_random_train, y_random_train, random_state=666)\n",
    "\n",
    "X_sparse_random_train_6 = coo_matrix(X_random_train_6)\n",
    "X_random_train_6, X_sparse_random_train_6, y_random_train_6 = shuffle(X_random_train_6, X_sparse_random_train_6, y_random_train_6, random_state=666)"
   ]
  },
  {
   "cell_type": "code",
   "execution_count": 7,
   "metadata": {
    "collapsed": true
   },
   "outputs": [],
   "source": [
    "X_mnist_train = X_mnist_train/255\n",
    "X_mnist_test = X_mnist_test/255\n",
    "\n",
    "X_random_train = X_random_train/255\n",
    "\n",
    "X_random_train_6 = X_random_train_6/255\n"
   ]
  },
  {
   "cell_type": "markdown",
   "metadata": {},
   "source": [
    "# Training"
   ]
  },
  {
   "cell_type": "code",
   "execution_count": 8,
   "metadata": {
    "collapsed": true
   },
   "outputs": [],
   "source": [
    "from sklearn.model_selection import train_test_split \n",
    "from sklearn.ensemble import RandomForestClassifier\n",
    "from sklearn.metrics import accuracy_score\n"
   ]
  },
  {
   "cell_type": "code",
   "execution_count": 9,
   "metadata": {
    "collapsed": true
   },
   "outputs": [],
   "source": [
    "hs_rf_mnist_scores = []\n",
    "for i in range(3):\n",
    "    rt_clf_mnist = RandomForestClassifier(bootstrap=True, \n",
    "                                    max_depth=1000, \n",
    "                                    max_leaf_nodes = 16,\n",
    "                                    max_features='auto',\n",
    "                                    n_estimators=6000, \n",
    "                                    n_jobs=-1,\n",
    "                                    oob_score=True, \n",
    "                                    random_state=666, \n",
    "                                    verbose=0)\n",
    "    \n",
    "    rt_clf_mnist.fit(X_mnist_train, y_mnist_train)\n",
    "    \n",
    "    y_pred_mnist = rt_clf_mnist.predict(X_mnist_test)\n",
    "    hs_rf_mnist_scores.append(accuracy_score(y_mnist_test, y_pred_mnist))"
   ]
  },
  {
   "cell_type": "code",
   "execution_count": 17,
   "metadata": {
    "collapsed": true
   },
   "outputs": [],
   "source": [
    "hs_rf_random_scores = []\n",
    "for j in range(3):\n",
    "    rt_clf_random = RandomForestClassifier(bootstrap=True, \n",
    "                                    max_depth=1000, \n",
    "                                    max_leaf_nodes = 16,\n",
    "                                    max_features='auto',\n",
    "                                    n_estimators=6000, \n",
    "                                    n_jobs=-1,\n",
    "                                    oob_score=True, \n",
    "                                    random_state=666, \n",
    "                                    verbose=0)\n",
    "    \n",
    "    rt_clf_random.fit(X_random_train, y_random_train)\n",
    "\n",
    "    y_pred_random = rt_clf_random.predict(X_mnist_test)\n",
    "    hs_rf_random_scores.append(accuracy_score(y_mnist_test, y_pred_random))\n"
   ]
  },
  {
   "cell_type": "code",
   "execution_count": 12,
   "metadata": {
    "collapsed": true
   },
   "outputs": [],
   "source": [
    "hs_rf_random_6_scores = []\n",
    "for j in range(3):\n",
    "    rt_clf_random_6 = RandomForestClassifier(bootstrap=True, \n",
    "                                    max_depth=1000, \n",
    "                                    max_leaf_nodes = 16,\n",
    "                                    max_features='auto',\n",
    "                                    n_estimators=6000, \n",
    "                                    n_jobs=-1,\n",
    "                                    oob_score=True, \n",
    "                                    random_state=666, \n",
    "                                    verbose=0)\n",
    "    \n",
    "    rt_clf_random_6.fit(X_random_train_6, y_random_train_6)\n",
    "\n",
    "    y_pred_random_6 = rt_clf_random_6.predict(X_mnist_test)\n",
    "    hs_rf_random_6_scores.append(accuracy_score(y_mnist_test, y_pred_random_6))\n"
   ]
  },
  {
   "cell_type": "code",
   "execution_count": 13,
   "metadata": {},
   "outputs": [
    {
     "data": {
      "text/plain": [
       "[0.8328, 0.8328, 0.8328]"
      ]
     },
     "execution_count": 13,
     "metadata": {},
     "output_type": "execute_result"
    }
   ],
   "source": [
    "hs_rf_mnist_scores"
   ]
  },
  {
   "cell_type": "code",
   "execution_count": 18,
   "metadata": {},
   "outputs": [
    {
     "data": {
      "text/plain": [
       "[0.8266, 0.8266, 0.8266]"
      ]
     },
     "execution_count": 18,
     "metadata": {},
     "output_type": "execute_result"
    }
   ],
   "source": [
    "hs_rf_random_scores"
   ]
  },
  {
   "cell_type": "code",
   "execution_count": 15,
   "metadata": {},
   "outputs": [
    {
     "data": {
      "text/plain": [
       "[0.8256, 0.8256, 0.8256]"
      ]
     },
     "execution_count": 15,
     "metadata": {},
     "output_type": "execute_result"
    }
   ],
   "source": [
    "hs_rf_random_6_scores"
   ]
  }
 ],
 "metadata": {
  "kernelspec": {
   "display_name": "Python 3",
   "language": "python",
   "name": "python3"
  },
  "language_info": {
   "codemirror_mode": {
    "name": "ipython",
    "version": 3
   },
   "file_extension": ".py",
   "mimetype": "text/x-python",
   "name": "python",
   "nbconvert_exporter": "python",
   "pygments_lexer": "ipython3",
   "version": "3.6.0"
  }
 },
 "nbformat": 4,
 "nbformat_minor": 2
}
