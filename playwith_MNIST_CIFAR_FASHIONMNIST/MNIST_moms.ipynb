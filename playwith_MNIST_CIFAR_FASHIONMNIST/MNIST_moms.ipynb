{
 "cells": [
  {
   "cell_type": "code",
   "execution_count": 41,
   "metadata": {
    "scrolled": true
   },
   "outputs": [],
   "source": [
    "import os\n",
    "import struct\n",
    "import numpy as np\n",
    "import tensorflow\n",
    "from scipy.sparse import coo_matrix\n",
    "from sklearn.utils import shuffle\n",
    "from keras.utils import np_utils\n",
    "\n",
    "import matplotlib.pyplot as plt\n",
    "%matplotlib inline"
   ]
  },
  {
   "cell_type": "code",
   "execution_count": 42,
   "metadata": {
    "scrolled": true
   },
   "outputs": [
    {
     "name": "stdout",
     "output_type": "stream",
     "text": [
      "1.14.1\n"
     ]
    }
   ],
   "source": [
    "print(np.__version__)"
   ]
  },
  {
   "cell_type": "code",
   "execution_count": 43,
   "metadata": {
    "scrolled": true
   },
   "outputs": [
    {
     "name": "stdout",
     "output_type": "stream",
     "text": [
      "1.6.0\n"
     ]
    }
   ],
   "source": [
    "print(tensorflow.__version__)"
   ]
  },
  {
   "cell_type": "markdown",
   "metadata": {},
   "source": [
    "# 1 . Create training set and test set\n",
    "### Training set including three part of data\n",
    "1. 60000 handwritten numbers \n",
    "2. 6000 random noise \n",
    "3. 6000 handwritten alphabet noise "
   ]
  },
  {
   "cell_type": "code",
   "execution_count": 44,
   "metadata": {
    "scrolled": true
   },
   "outputs": [],
   "source": [
    "def load_data(path, kind=''):\n",
    "    \"\"\"Load MNIST data from `path`\"\"\"\n",
    "    labels_path = os.path.join(path,\n",
    "                               '%s-labels-idx1-ubyte'\n",
    "                               % kind)\n",
    "    images_path = os.path.join(path,\n",
    "                               '%s-images-idx3-ubyte'\n",
    "                               % kind)\n",
    "    with open(labels_path, 'rb') as lbpath:\n",
    "        magic, n = struct.unpack('>II',\n",
    "                                 lbpath.read(8))\n",
    "        labels = np.fromfile(lbpath,\n",
    "                             dtype=np.uint8)\n",
    "\n",
    "    with open(images_path, 'rb') as imgpath:\n",
    "        magic, num, rows, cols = struct.unpack('>IIII',\n",
    "                                               imgpath.read(16))\n",
    "        images = np.fromfile(imgpath,\n",
    "                             dtype=np.uint8).reshape(len(labels), 784)\n",
    "\n",
    "    return images, labels"
   ]
  },
  {
   "cell_type": "code",
   "execution_count": 45,
   "metadata": {
    "scrolled": true
   },
   "outputs": [],
   "source": [
    "path = './datasets/'"
   ]
  },
  {
   "cell_type": "code",
   "execution_count": 46,
   "metadata": {
    "scrolled": true
   },
   "outputs": [],
   "source": [
    "# Handwritten numbers training data\n",
    "\n",
    "X_train_nums,y_train_nums = load_data(path, kind='train')\n",
    "X_train = X_train_nums / 255\n",
    "\n",
    "X_test_nums, y_test_nums = load_data(path, kind='t10k')\n",
    "X_test_nums = X_test_nums / 255"
   ]
  },
  {
   "cell_type": "code",
   "execution_count": 47,
   "metadata": {
    "scrolled": true
   },
   "outputs": [
    {
     "data": {
      "text/plain": [
       "(10000, 784)"
      ]
     },
     "execution_count": 47,
     "metadata": {},
     "output_type": "execute_result"
    }
   ],
   "source": [
    "X_test_nums.shape"
   ]
  },
  {
   "cell_type": "code",
   "execution_count": 48,
   "metadata": {
    "scrolled": true
   },
   "outputs": [],
   "source": [
    "# Random generate noise\n",
    "\n",
    "noise_random = np.random.rand(6000,784)"
   ]
  },
  {
   "cell_type": "code",
   "execution_count": 49,
   "metadata": {
    "scrolled": true
   },
   "outputs": [
    {
     "name": "stdout",
     "output_type": "stream",
     "text": [
      "[15405 80839 10742 ... 97277  4278 13224]\n"
     ]
    }
   ],
   "source": [
    "# random take handwritten alphabet from Nist\n",
    "\n",
    "noise_letters,_ = load_data(path, kind='emnist-letters-train')\n",
    "\n",
    "idx_letters = np.random.randint(len(noise_letters), size=6000)\n",
    "print(idx_letters)\n",
    "noise_letters = noise_letters[idx_letters,:]\n",
    "\n",
    "noise_letters = noise_letters / 255\n"
   ]
  },
  {
   "cell_type": "code",
   "execution_count": 50,
   "metadata": {
    "scrolled": true
   },
   "outputs": [
    {
     "data": {
      "text/plain": [
       "(6000, 784)"
      ]
     },
     "execution_count": 50,
     "metadata": {},
     "output_type": "execute_result"
    }
   ],
   "source": [
    "noise_letters.shape"
   ]
  },
  {
   "cell_type": "code",
   "execution_count": 51,
   "metadata": {
    "scrolled": true
   },
   "outputs": [
    {
     "data": {
      "text/plain": [
       "<matplotlib.image.AxesImage at 0x22b503d4518>"
      ]
     },
     "execution_count": 51,
     "metadata": {},
     "output_type": "execute_result"
    },
    {
     "data": {
      "image/png": "[encoded data removed]",
      "text/plain": [
       "<Figure size 432x288 with 1 Axes>"
      ]
     },
     "metadata": {},
     "output_type": "display_data"
    }
   ],
   "source": [
    "plt.imshow(X_test_nums[1].reshape(28,28),cmap='gray')"
   ]
  },
  {
   "cell_type": "code",
   "execution_count": 52,
   "metadata": {
    "scrolled": true
   },
   "outputs": [
    {
     "data": {
      "text/plain": [
       "<matplotlib.image.AxesImage at 0x22b50424358>"
      ]
     },
     "execution_count": 52,
     "metadata": {},
     "output_type": "execute_result"
    },
    {
     "data": {
      "image/png": "[encoded data removed]",
      "text/plain": [
       "<Figure size 432x288 with 1 Axes>"
      ]
     },
     "metadata": {},
     "output_type": "display_data"
    }
   ],
   "source": [
    "plt.imshow(noise_random[1].reshape(28,28),cmap='gray')"
   ]
  },
  {
   "cell_type": "code",
   "execution_count": 53,
   "metadata": {
    "scrolled": true
   },
   "outputs": [
    {
     "data": {
      "text/plain": [
       "<matplotlib.image.AxesImage at 0x22b50477908>"
      ]
     },
     "execution_count": 53,
     "metadata": {},
     "output_type": "execute_result"
    },
    {
     "data": {
      "image/png": "[encoded data removed]",
      "text/plain": [
       "<Figure size 432x288 with 1 Axes>"
      ]
     },
     "metadata": {},
     "output_type": "display_data"
    }
   ],
   "source": [
    "plt.imshow(noise_letters[1].reshape(28,28),cmap='gray')"
   ]
  },
  {
   "cell_type": "code",
   "execution_count": 54,
   "metadata": {
    "scrolled": true
   },
   "outputs": [],
   "source": [
    "noise_labels = np.full((6000), 10, dtype=int)\n",
    "# letters_labels = np.full((6000), 11, dtype=int)"
   ]
  },
  {
   "cell_type": "code",
   "execution_count": 55,
   "metadata": {
    "scrolled": true
   },
   "outputs": [
    {
     "data": {
      "text/plain": [
       "<matplotlib.image.AxesImage at 0x22b504c6e80>"
      ]
     },
     "execution_count": 55,
     "metadata": {},
     "output_type": "execute_result"
    },
    {
     "data": {
      "image/png": "[encoded data removed]",
      "text/plain": [
       "<Figure size 432x288 with 1 Axes>"
      ]
     },
     "metadata": {},
     "output_type": "display_data"
    }
   ],
   "source": [
    "X_train0 = X_train[y_train_nums == 0]\n",
    "y_train0 = y_train_nums[y_train_nums == 0]\n",
    "plt.imshow(X_train0[1].reshape(28,28),cmap='gray')"
   ]
  },
  {
   "cell_type": "code",
   "execution_count": 56,
   "metadata": {
    "scrolled": true
   },
   "outputs": [
    {
     "name": "stdout",
     "output_type": "stream",
     "text": [
      "(11923, 784)\n",
      "(12742, 784)\n",
      "(11958, 784)\n",
      "(12131, 784)\n",
      "(11842, 784)\n",
      "(11421, 784)\n",
      "(11918, 784)\n",
      "(12265, 784)\n",
      "(11851, 784)\n",
      "(11949, 784)\n"
     ]
    }
   ],
   "source": [
    "X_train_split = []\n",
    "y_train_split = []\n",
    "num_classes = 12 \n",
    "\n",
    "for i in range(10):\n",
    "\n",
    "    index_i = np.where( y_train_nums == i )\n",
    "\n",
    "    X_train_i = X_train[index_i[0],:]\n",
    "    \n",
    "    y_train_i = y_train_nums[index_i ]\n",
    "    \n",
    "    noise_numbers = X_train\n",
    "    noise_numbers = np.delete( noise_numbers, index_i, axis = 0 )\n",
    "    \n",
    "    idx_noise_numbers = np.random.randint(len(noise_numbers), size=6000)\n",
    "#     print(idx_noise_numbers)\n",
    "    noise_numbers = noise_numbers[idx_noise_numbers,:]\n",
    "\n",
    "    X_train_i = np.concatenate((X_train_i, noise_numbers),axis=0)\n",
    "#     X_train_i= np.concatenate((X_train_i,noise_letters),axis=0)\n",
    "    print(X_train_i.shape)\n",
    "\n",
    "    y_train_i = np.concatenate((y_train_i, noise_labels),axis=0)\n",
    "#     y_train_i = np.concatenate((y_train_i, letters_labels),axis=0)\n",
    "    \n",
    "\n",
    "    \n",
    "    X_sparse_train = coo_matrix(X_train_i)\n",
    "    X_train_i, X_sparse_train, y_train_i = shuffle(X_train_i, X_sparse_train, y_train_i, random_state=42)\n",
    "\n",
    "    X_train_i = X_train_i.reshape(len(X_train_i),1,28,28).astype('float')\n",
    "    y_train_i = np_utils.to_categorical(y_train_i, num_classes)\n",
    "\n",
    "    X_train_split.append(X_train_i)\n",
    "    y_train_split.append(y_train_i)"
   ]
  },
  {
   "cell_type": "code",
   "execution_count": 57,
   "metadata": {
    "scrolled": true
   },
   "outputs": [
    {
     "data": {
      "text/plain": [
       "(11918, 1, 28, 28)"
      ]
     },
     "execution_count": 57,
     "metadata": {},
     "output_type": "execute_result"
    }
   ],
   "source": [
    "X_train_split[6].shape"
   ]
  },
  {
   "cell_type": "code",
   "execution_count": 58,
   "metadata": {
    "scrolled": true
   },
   "outputs": [
    {
     "data": {
      "text/plain": [
       "(1, 28, 28)"
      ]
     },
     "execution_count": 58,
     "metadata": {},
     "output_type": "execute_result"
    }
   ],
   "source": [
    "X_train_split[9][0].shape"
   ]
  },
  {
   "cell_type": "code",
   "execution_count": 59,
   "metadata": {
    "scrolled": true
   },
   "outputs": [
    {
     "data": {
      "text/plain": [
       "array([0., 0., 0., 0., 0., 0., 0., 0., 0., 1., 0., 0.])"
      ]
     },
     "execution_count": 59,
     "metadata": {},
     "output_type": "execute_result"
    }
   ],
   "source": [
    "y_train_split[9][0]"
   ]
  },
  {
   "cell_type": "code",
   "execution_count": 60,
   "metadata": {
    "scrolled": true
   },
   "outputs": [
    {
     "data": {
      "text/plain": [
       "(5923, 784)"
      ]
     },
     "execution_count": 60,
     "metadata": {},
     "output_type": "execute_result"
    }
   ],
   "source": [
    "X_train[y_train_nums == 0].shape"
   ]
  },
  {
   "cell_type": "code",
   "execution_count": 61,
   "metadata": {
    "scrolled": true
   },
   "outputs": [
    {
     "data": {
      "text/plain": [
       "11923"
      ]
     },
     "execution_count": 61,
     "metadata": {},
     "output_type": "execute_result"
    }
   ],
   "source": [
    "len(y_train_split[0])"
   ]
  },
  {
   "cell_type": "code",
   "execution_count": 86,
   "metadata": {
    "scrolled": true
   },
   "outputs": [],
   "source": []
  },
  {
   "cell_type": "code",
   "execution_count": 63,
   "metadata": {
    "scrolled": true
   },
   "outputs": [
    {
     "data": {
      "text/plain": [
       "(10000,)"
      ]
     },
     "execution_count": 63,
     "metadata": {},
     "output_type": "execute_result"
    }
   ],
   "source": [
    "y_test.shape"
   ]
  },
  {
   "cell_type": "code",
   "execution_count": 64,
   "metadata": {
    "scrolled": true
   },
   "outputs": [
    {
     "data": {
      "text/plain": [
       "(10000, 1, 28, 28)"
      ]
     },
     "execution_count": 64,
     "metadata": {},
     "output_type": "execute_result"
    }
   ],
   "source": [
    "X_test.shape"
   ]
  },
  {
   "cell_type": "code",
   "execution_count": 65,
   "metadata": {
    "scrolled": true
   },
   "outputs": [
    {
     "data": {
      "text/plain": [
       "(10000,)"
      ]
     },
     "execution_count": 65,
     "metadata": {},
     "output_type": "execute_result"
    }
   ],
   "source": [
    "y_test.shape"
   ]
  },
  {
   "cell_type": "code",
   "execution_count": 66,
   "metadata": {
    "scrolled": true
   },
   "outputs": [
    {
     "data": {
      "text/plain": [
       "(60000, 784)"
      ]
     },
     "execution_count": 66,
     "metadata": {},
     "output_type": "execute_result"
    }
   ],
   "source": [
    "X_train.shape"
   ]
  },
  {
   "cell_type": "markdown",
   "metadata": {},
   "source": [
    "# 2 . Build Model -- keras model"
   ]
  },
  {
   "cell_type": "code",
   "execution_count": 67,
   "metadata": {
    "scrolled": true
   },
   "outputs": [],
   "source": [
    "from keras.models import Sequential\n",
    "from keras.layers import Dense, Dropout, Flatten\n",
    "from keras.layers.convolutional import Conv2D, MaxPooling2D\n",
    "from keras.utils import np_utils\n",
    "from keras import backend as K\n",
    "from keras.losses import categorical_crossentropy\n",
    "from keras.optimizers import Adadelta\n",
    "\n",
    "K.clear_session()"
   ]
  },
  {
   "cell_type": "code",
   "execution_count": 68,
   "metadata": {
    "scrolled": false
   },
   "outputs": [],
   "source": [
    "def models_factory():\n",
    "    model = Sequential()\n",
    "\n",
    "    model.add(Conv2D(32, (3, 3), activation='relu', \n",
    "                     data_format='channels_first',\n",
    "                     input_shape=(1, 28, 28)))\n",
    "    model.add(Conv2D(32, (3, 3), activation='relu'))\n",
    "    model.add(MaxPooling2D(pool_size=(2, 2)))\n",
    "    # model.add(Dropout(0.25))\n",
    "\n",
    "    model.add(Conv2D(64, (3, 3), activation='relu'))\n",
    "    model.add(Conv2D(64, (3, 3), activation='relu'))\n",
    "    model.add(MaxPooling2D(pool_size=(2, 2)))\n",
    "    # model.add(Dropout(0.25))\n",
    "\n",
    "    model.add(Flatten())\n",
    "    model.add(Dense(64, activation='relu'))\n",
    "    # model.add(Dropout(0.5))\n",
    "    model.add(Dense(12, activation='softmax'))\n",
    "\n",
    "    model.compile(loss=categorical_crossentropy,\n",
    "                  optimizer=Adadelta(),\n",
    "                  metrics=['accuracy'])\n",
    "    return model"
   ]
  },
  {
   "cell_type": "code",
   "execution_count": 69,
   "metadata": {
    "scrolled": true
   },
   "outputs": [
    {
     "name": "stdout",
     "output_type": "stream",
     "text": [
      "_________________________________________________________________\n",
      "Layer (type)                 Output Shape              Param #   \n",
      "=================================================================\n",
      "conv2d_1 (Conv2D)            (None, 32, 26, 26)        320       \n",
      "_________________________________________________________________\n",
      "conv2d_2 (Conv2D)            (None, 30, 24, 32)        7520      \n",
      "_________________________________________________________________\n",
      "max_pooling2d_1 (MaxPooling2 (None, 15, 12, 32)        0         \n",
      "_________________________________________________________________\n",
      "conv2d_3 (Conv2D)            (None, 13, 10, 64)        18496     \n",
      "_________________________________________________________________\n",
      "conv2d_4 (Conv2D)            (None, 11, 8, 64)         36928     \n",
      "_________________________________________________________________\n",
      "max_pooling2d_2 (MaxPooling2 (None, 5, 4, 64)          0         \n",
      "_________________________________________________________________\n",
      "flatten_1 (Flatten)          (None, 1280)              0         \n",
      "_________________________________________________________________\n",
      "dense_1 (Dense)              (None, 64)                81984     \n",
      "_________________________________________________________________\n",
      "dense_2 (Dense)              (None, 12)                780       \n",
      "=================================================================\n",
      "Total params: 146,028\n",
      "Trainable params: 146,028\n",
      "Non-trainable params: 0\n",
      "_________________________________________________________________\n"
     ]
    }
   ],
   "source": [
    "model = models_factory()\n",
    "model.summary()"
   ]
  },
  {
   "cell_type": "markdown",
   "metadata": {},
   "source": [
    "# 3. Training"
   ]
  },
  {
   "cell_type": "code",
   "execution_count": 70,
   "metadata": {
    "scrolled": false
   },
   "outputs": [
    {
     "name": "stdout",
     "output_type": "stream",
     "text": [
      "0\n",
      "Train on 10730 samples, validate on 1193 samples\n",
      "Epoch 1/20\n",
      "10730/10730 [==============================] - 3s 312us/step - loss: 0.3022 - acc: 0.8943 - val_loss: 0.0648 - val_acc: 0.9732\n",
      "Epoch 2/20\n",
      "10730/10730 [==============================] - 2s 219us/step - loss: 0.0585 - acc: 0.9788 - val_loss: 0.0543 - val_acc: 0.9832\n",
      "Epoch 3/20\n",
      "10730/10730 [==============================] - 2s 221us/step - loss: 0.0405 - acc: 0.9874 - val_loss: 0.0342 - val_acc: 0.9891\n",
      "Epoch 4/20\n",
      "10730/10730 [==============================] - 2s 224us/step - loss: 0.0322 - acc: 0.9894 - val_loss: 0.0242 - val_acc: 0.9899\n",
      "Epoch 5/20\n",
      "10730/10730 [==============================] - 2s 222us/step - loss: 0.0262 - acc: 0.9915 - val_loss: 0.0178 - val_acc: 0.9933\n",
      "Epoch 6/20\n",
      "10730/10730 [==============================] - 2s 225us/step - loss: 0.0212 - acc: 0.9929 - val_loss: 0.0195 - val_acc: 0.9933\n",
      "Epoch 7/20\n",
      "10730/10730 [==============================] - 2s 222us/step - loss: 0.0163 - acc: 0.9946 - val_loss: 0.0139 - val_acc: 0.9950\n",
      "Epoch 8/20\n",
      "10730/10730 [==============================] - 2s 222us/step - loss: 0.0157 - acc: 0.9947 - val_loss: 0.0124 - val_acc: 0.9950\n",
      "Epoch 9/20\n",
      "10730/10730 [==============================] - 2s 224us/step - loss: 0.0108 - acc: 0.9961 - val_loss: 0.0183 - val_acc: 0.9941\n",
      "Epoch 10/20\n",
      "10730/10730 [==============================] - 2s 223us/step - loss: 0.0089 - acc: 0.9966 - val_loss: 0.0144 - val_acc: 0.9958\n",
      "Epoch 11/20\n",
      "10730/10730 [==============================] - 2s 223us/step - loss: 0.0084 - acc: 0.9973 - val_loss: 0.0108 - val_acc: 0.9958\n",
      "Epoch 12/20\n",
      "10730/10730 [==============================] - 2s 225us/step - loss: 0.0086 - acc: 0.9967 - val_loss: 0.0177 - val_acc: 0.9941\n",
      "Epoch 13/20\n",
      "10730/10730 [==============================] - 2s 225us/step - loss: 0.0058 - acc: 0.9979 - val_loss: 0.0390 - val_acc: 0.9883\n",
      "Epoch 14/20\n",
      "10730/10730 [==============================] - 2s 222us/step - loss: 0.0052 - acc: 0.9982 - val_loss: 0.0145 - val_acc: 0.9941\n",
      "Epoch 15/20\n",
      "10730/10730 [==============================] - 2s 221us/step - loss: 0.0047 - acc: 0.9984 - val_loss: 0.0158 - val_acc: 0.9958\n",
      "Epoch 16/20\n",
      "10730/10730 [==============================] - 2s 221us/step - loss: 0.0033 - acc: 0.9988 - val_loss: 0.0116 - val_acc: 0.9958\n",
      "Epoch 17/20\n",
      "10730/10730 [==============================] - 2s 220us/step - loss: 0.0041 - acc: 0.9983 - val_loss: 0.0149 - val_acc: 0.9966\n",
      "Epoch 18/20\n",
      "10730/10730 [==============================] - 2s 220us/step - loss: 0.0026 - acc: 0.9993 - val_loss: 0.0162 - val_acc: 0.9958\n",
      "Epoch 19/20\n",
      "10730/10730 [==============================] - 2s 220us/step - loss: 0.0025 - acc: 0.9993 - val_loss: 0.0227 - val_acc: 0.9950\n",
      "Epoch 20/20\n",
      "10730/10730 [==============================] - 2s 220us/step - loss: 0.0015 - acc: 0.9994 - val_loss: 0.0184 - val_acc: 0.9958\n",
      "1\n",
      "Train on 11467 samples, validate on 1275 samples\n",
      "Epoch 1/20\n",
      "11467/11467 [==============================] - 3s 286us/step - loss: 0.3214 - acc: 0.8814 - val_loss: 0.0422 - val_acc: 0.9859\n",
      "Epoch 2/20\n",
      "11467/11467 [==============================] - 3s 222us/step - loss: 0.0633 - acc: 0.9794 - val_loss: 0.0372 - val_acc: 0.9890\n",
      "Epoch 3/20\n",
      "11467/11467 [==============================] - 3s 223us/step - loss: 0.0478 - acc: 0.9859 - val_loss: 0.0443 - val_acc: 0.9859\n",
      "Epoch 4/20\n",
      "11467/11467 [==============================] - 3s 221us/step - loss: 0.0410 - acc: 0.9867 - val_loss: 0.0175 - val_acc: 0.9945\n",
      "Epoch 5/20\n",
      "11467/11467 [==============================] - 3s 220us/step - loss: 0.0285 - acc: 0.9904 - val_loss: 0.0150 - val_acc: 0.9953\n",
      "Epoch 6/20\n",
      "11467/11467 [==============================] - 3s 222us/step - loss: 0.0203 - acc: 0.9928 - val_loss: 0.0135 - val_acc: 0.9976\n",
      "Epoch 7/20\n",
      "11467/11467 [==============================] - 3s 220us/step - loss: 0.0184 - acc: 0.9939 - val_loss: 0.0175 - val_acc: 0.9945\n",
      "Epoch 8/20\n",
      "11467/11467 [==============================] - 3s 219us/step - loss: 0.0163 - acc: 0.9948 - val_loss: 0.0167 - val_acc: 0.9945\n",
      "Epoch 9/20\n",
      "11467/11467 [==============================] - 3s 220us/step - loss: 0.0139 - acc: 0.9957 - val_loss: 0.0119 - val_acc: 0.9969\n",
      "Epoch 10/20\n",
      "11467/11467 [==============================] - 3s 220us/step - loss: 0.0133 - acc: 0.9954 - val_loss: 0.0095 - val_acc: 0.9976\n",
      "Epoch 11/20\n",
      "11467/11467 [==============================] - 3s 219us/step - loss: 0.0127 - acc: 0.9960 - val_loss: 0.0089 - val_acc: 0.9976\n",
      "Epoch 12/20\n",
      "11467/11467 [==============================] - 3s 220us/step - loss: 0.0092 - acc: 0.9963 - val_loss: 0.0091 - val_acc: 0.9976\n",
      "Epoch 13/20\n",
      "11467/11467 [==============================] - 3s 220us/step - loss: 0.0081 - acc: 0.9975 - val_loss: 0.0084 - val_acc: 0.9984\n",
      "Epoch 14/20\n",
      "11467/11467 [==============================] - 3s 221us/step - loss: 0.0083 - acc: 0.9962 - val_loss: 0.0082 - val_acc: 0.9976\n",
      "Epoch 15/20\n",
      "11467/11467 [==============================] - 3s 221us/step - loss: 0.0066 - acc: 0.9980 - val_loss: 0.0057 - val_acc: 0.9984\n",
      "Epoch 16/20\n",
      "11467/11467 [==============================] - 3s 220us/step - loss: 0.0055 - acc: 0.9984 - val_loss: 0.0073 - val_acc: 0.9984\n",
      "Epoch 17/20\n",
      "11467/11467 [==============================] - 3s 220us/step - loss: 0.0050 - acc: 0.9986 - val_loss: 0.0085 - val_acc: 0.9969\n",
      "Epoch 18/20\n",
      "11467/11467 [==============================] - 3s 220us/step - loss: 0.0042 - acc: 0.9985 - val_loss: 0.0105 - val_acc: 0.9984\n",
      "Epoch 19/20\n",
      "11467/11467 [==============================] - 3s 221us/step - loss: 0.0056 - acc: 0.9979 - val_loss: 0.0151 - val_acc: 0.9969\n",
      "Epoch 20/20\n",
      "11467/11467 [==============================] - 3s 219us/step - loss: 0.0033 - acc: 0.9990 - val_loss: 0.0128 - val_acc: 0.9969\n",
      "2\n",
      "Train on 10762 samples, validate on 1196 samples\n",
      "Epoch 1/20\n",
      "10762/10762 [==============================] - 3s 278us/step - loss: 0.4496 - acc: 0.8025 - val_loss: 0.2758 - val_acc: 0.8863\n",
      "Epoch 2/20\n",
      "10762/10762 [==============================] - 2s 222us/step - loss: 0.1250 - acc: 0.9547 - val_loss: 0.0851 - val_acc: 0.9649\n",
      "Epoch 3/20\n",
      "10762/10762 [==============================] - 2s 221us/step - loss: 0.0793 - acc: 0.9736 - val_loss: 0.0556 - val_acc: 0.9816\n",
      "Epoch 4/20\n",
      "10762/10762 [==============================] - 2s 223us/step - loss: 0.0544 - acc: 0.9816 - val_loss: 0.0486 - val_acc: 0.9808\n",
      "Epoch 5/20\n",
      "10762/10762 [==============================] - 2s 222us/step - loss: 0.0464 - acc: 0.9837 - val_loss: 0.0432 - val_acc: 0.9849\n",
      "Epoch 6/20\n",
      "10762/10762 [==============================] - 2s 223us/step - loss: 0.0391 - acc: 0.9861 - val_loss: 0.0275 - val_acc: 0.9933\n",
      "Epoch 7/20\n",
      "10762/10762 [==============================] - 2s 221us/step - loss: 0.0310 - acc: 0.9890 - val_loss: 0.0594 - val_acc: 0.9799\n",
      "Epoch 8/20\n",
      "10762/10762 [==============================] - 2s 220us/step - loss: 0.0280 - acc: 0.9902 - val_loss: 0.0343 - val_acc: 0.9858\n",
      "Epoch 9/20\n",
      "10762/10762 [==============================] - 2s 220us/step - loss: 0.0220 - acc: 0.9922 - val_loss: 0.0241 - val_acc: 0.9925\n",
      "Epoch 10/20\n",
      "10762/10762 [==============================] - 2s 220us/step - loss: 0.0171 - acc: 0.9938 - val_loss: 0.0240 - val_acc: 0.9941\n",
      "Epoch 11/20\n",
      "10762/10762 [==============================] - 2s 220us/step - loss: 0.0142 - acc: 0.9953 - val_loss: 0.0152 - val_acc: 0.9933\n",
      "Epoch 12/20\n",
      "10762/10762 [==============================] - 2s 221us/step - loss: 0.0130 - acc: 0.9948 - val_loss: 0.0279 - val_acc: 0.9916\n",
      "Epoch 13/20\n",
      "10762/10762 [==============================] - 2s 220us/step - loss: 0.0095 - acc: 0.9968 - val_loss: 0.0218 - val_acc: 0.9950\n",
      "Epoch 14/20\n",
      "10762/10762 [==============================] - 2s 222us/step - loss: 0.0089 - acc: 0.9966 - val_loss: 0.0175 - val_acc: 0.9950\n",
      "Epoch 15/20\n",
      "10762/10762 [==============================] - 2s 222us/step - loss: 0.0049 - acc: 0.9986 - val_loss: 0.0192 - val_acc: 0.9958\n",
      "Epoch 16/20\n",
      "10762/10762 [==============================] - 2s 221us/step - loss: 0.0076 - acc: 0.9979 - val_loss: 0.0137 - val_acc: 0.9967\n",
      "Epoch 17/20\n",
      "10762/10762 [==============================] - 2s 221us/step - loss: 0.0051 - acc: 0.9980 - val_loss: 0.0166 - val_acc: 0.9958\n",
      "Epoch 18/20\n",
      "10762/10762 [==============================] - 2s 221us/step - loss: 0.0038 - acc: 0.9988 - val_loss: 0.0162 - val_acc: 0.9950\n",
      "Epoch 19/20\n"
     ]
    },
    {
     "name": "stdout",
     "output_type": "stream",
     "text": [
      "10762/10762 [==============================] - 2s 223us/step - loss: 0.0066 - acc: 0.9980 - val_loss: 0.0159 - val_acc: 0.9950\n",
      "Epoch 20/20\n",
      "10762/10762 [==============================] - 2s 222us/step - loss: 0.0030 - acc: 0.9989 - val_loss: 0.0184 - val_acc: 0.9967\n",
      "3\n",
      "Train on 10917 samples, validate on 1214 samples\n",
      "Epoch 1/20\n",
      "10917/10917 [==============================] - 3s 288us/step - loss: 0.4896 - acc: 0.7867 - val_loss: 0.2605 - val_acc: 0.9028\n",
      "Epoch 2/20\n",
      "10917/10917 [==============================] - 2s 220us/step - loss: 0.1588 - acc: 0.9437 - val_loss: 0.1113 - val_acc: 0.9654\n",
      "Epoch 3/20\n",
      "10917/10917 [==============================] - 2s 220us/step - loss: 0.1021 - acc: 0.9655 - val_loss: 0.0823 - val_acc: 0.9703\n",
      "Epoch 4/20\n",
      "10917/10917 [==============================] - 2s 220us/step - loss: 0.0712 - acc: 0.9734 - val_loss: 0.0571 - val_acc: 0.9843\n",
      "Epoch 5/20\n",
      "10917/10917 [==============================] - 2s 221us/step - loss: 0.0478 - acc: 0.9836 - val_loss: 0.0351 - val_acc: 0.9876\n",
      "Epoch 6/20\n",
      "10917/10917 [==============================] - 2s 223us/step - loss: 0.0382 - acc: 0.9874 - val_loss: 0.0411 - val_acc: 0.9860\n",
      "Epoch 7/20\n",
      "10917/10917 [==============================] - 2s 223us/step - loss: 0.0280 - acc: 0.9903 - val_loss: 0.0189 - val_acc: 0.9942\n",
      "Epoch 8/20\n",
      "10917/10917 [==============================] - 2s 220us/step - loss: 0.0252 - acc: 0.9909 - val_loss: 0.0275 - val_acc: 0.9909\n",
      "Epoch 9/20\n",
      "10917/10917 [==============================] - 2s 221us/step - loss: 0.0204 - acc: 0.9920 - val_loss: 0.0777 - val_acc: 0.9712\n",
      "Epoch 10/20\n",
      "10917/10917 [==============================] - 2s 221us/step - loss: 0.0154 - acc: 0.9942 - val_loss: 0.0289 - val_acc: 0.9876\n",
      "Epoch 11/20\n",
      "10917/10917 [==============================] - 2s 223us/step - loss: 0.0127 - acc: 0.9957 - val_loss: 0.0221 - val_acc: 0.9926\n",
      "Epoch 12/20\n",
      "10917/10917 [==============================] - 2s 225us/step - loss: 0.0086 - acc: 0.9977 - val_loss: 0.0167 - val_acc: 0.9951\n",
      "Epoch 13/20\n",
      "10917/10917 [==============================] - 2s 223us/step - loss: 0.0099 - acc: 0.9962 - val_loss: 0.0149 - val_acc: 0.9926\n",
      "Epoch 14/20\n",
      "10917/10917 [==============================] - 2s 223us/step - loss: 0.0086 - acc: 0.9975 - val_loss: 0.0182 - val_acc: 0.9926\n",
      "Epoch 15/20\n",
      "10917/10917 [==============================] - 2s 225us/step - loss: 0.0065 - acc: 0.9978 - val_loss: 0.0175 - val_acc: 0.9934\n",
      "Epoch 16/20\n",
      "10917/10917 [==============================] - 2s 221us/step - loss: 0.0027 - acc: 0.9995 - val_loss: 0.0153 - val_acc: 0.9942\n",
      "Epoch 17/20\n",
      "10917/10917 [==============================] - 2s 222us/step - loss: 0.0040 - acc: 0.9991 - val_loss: 0.0178 - val_acc: 0.9951\n",
      "Epoch 18/20\n",
      "10917/10917 [==============================] - 2s 220us/step - loss: 0.0035 - acc: 0.9987 - val_loss: 0.0140 - val_acc: 0.9934\n",
      "Epoch 19/20\n",
      "10917/10917 [==============================] - 2s 223us/step - loss: 0.0024 - acc: 0.9995 - val_loss: 0.0263 - val_acc: 0.9934\n",
      "Epoch 20/20\n",
      "10917/10917 [==============================] - 2s 221us/step - loss: 0.0021 - acc: 0.9995 - val_loss: 0.0188 - val_acc: 0.9942\n",
      "4\n",
      "Train on 10657 samples, validate on 1185 samples\n",
      "Epoch 1/20\n",
      "10657/10657 [==============================] - 3s 301us/step - loss: 0.3567 - acc: 0.8650 - val_loss: 0.0878 - val_acc: 0.9688\n",
      "Epoch 2/20\n",
      "10657/10657 [==============================] - 2s 222us/step - loss: 0.0746 - acc: 0.9765 - val_loss: 0.1234 - val_acc: 0.9578\n",
      "Epoch 3/20\n",
      "10657/10657 [==============================] - 2s 223us/step - loss: 0.0524 - acc: 0.9830 - val_loss: 0.0627 - val_acc: 0.9806\n",
      "Epoch 4/20\n",
      "10657/10657 [==============================] - 2s 222us/step - loss: 0.0411 - acc: 0.9876 - val_loss: 0.0233 - val_acc: 0.9916\n",
      "Epoch 5/20\n",
      "10657/10657 [==============================] - 2s 221us/step - loss: 0.0343 - acc: 0.9895 - val_loss: 0.0250 - val_acc: 0.9899\n",
      "Epoch 6/20\n",
      "10657/10657 [==============================] - 2s 222us/step - loss: 0.0285 - acc: 0.9899 - val_loss: 0.1558 - val_acc: 0.9384\n",
      "Epoch 7/20\n",
      "10657/10657 [==============================] - 2s 223us/step - loss: 0.0221 - acc: 0.9931 - val_loss: 0.0689 - val_acc: 0.9738\n",
      "Epoch 8/20\n",
      "10657/10657 [==============================] - 2s 222us/step - loss: 0.0210 - acc: 0.9934 - val_loss: 0.0562 - val_acc: 0.9814\n",
      "Epoch 9/20\n",
      "10657/10657 [==============================] - 2s 224us/step - loss: 0.0169 - acc: 0.9949 - val_loss: 0.0281 - val_acc: 0.9924\n",
      "Epoch 10/20\n",
      "10657/10657 [==============================] - 2s 222us/step - loss: 0.0153 - acc: 0.9956 - val_loss: 0.0185 - val_acc: 0.9958\n",
      "Epoch 11/20\n",
      "10657/10657 [==============================] - 2s 221us/step - loss: 0.0131 - acc: 0.9962 - val_loss: 0.0220 - val_acc: 0.9932\n",
      "Epoch 12/20\n",
      "10657/10657 [==============================] - 2s 222us/step - loss: 0.0098 - acc: 0.9964 - val_loss: 0.0168 - val_acc: 0.9958\n",
      "Epoch 13/20\n",
      "10657/10657 [==============================] - 2s 220us/step - loss: 0.0098 - acc: 0.9968 - val_loss: 0.0202 - val_acc: 0.9949\n",
      "Epoch 14/20\n",
      "10657/10657 [==============================] - 2s 221us/step - loss: 0.0077 - acc: 0.9978 - val_loss: 0.0281 - val_acc: 0.9932\n",
      "Epoch 15/20\n",
      "10657/10657 [==============================] - 2s 222us/step - loss: 0.0070 - acc: 0.9980 - val_loss: 0.0199 - val_acc: 0.9958\n",
      "Epoch 16/20\n",
      "10657/10657 [==============================] - 2s 221us/step - loss: 0.0067 - acc: 0.9982 - val_loss: 0.0179 - val_acc: 0.9983\n",
      "Epoch 17/20\n",
      "10657/10657 [==============================] - 2s 224us/step - loss: 0.0035 - acc: 0.9994 - val_loss: 0.0178 - val_acc: 0.9958\n",
      "Epoch 18/20\n",
      "10657/10657 [==============================] - 2s 222us/step - loss: 0.0061 - acc: 0.9987 - val_loss: 0.0208 - val_acc: 0.9975\n",
      "Epoch 19/20\n",
      "10657/10657 [==============================] - 2s 221us/step - loss: 0.0032 - acc: 0.9993 - val_loss: 0.0199 - val_acc: 0.9975\n",
      "Epoch 20/20\n",
      "10657/10657 [==============================] - 2s 223us/step - loss: 0.0044 - acc: 0.9988 - val_loss: 0.0175 - val_acc: 0.9975\n",
      "5\n",
      "Train on 10278 samples, validate on 1143 samples\n",
      "Epoch 1/20\n",
      "10278/10278 [==============================] - 3s 290us/step - loss: 0.4202 - acc: 0.8283 - val_loss: 0.0962 - val_acc: 0.9711\n",
      "Epoch 2/20\n",
      "10278/10278 [==============================] - 2s 222us/step - loss: 0.0926 - acc: 0.9682 - val_loss: 0.0676 - val_acc: 0.9799\n",
      "Epoch 3/20\n",
      "10278/10278 [==============================] - 2s 222us/step - loss: 0.0559 - acc: 0.9806 - val_loss: 0.0949 - val_acc: 0.9668\n",
      "Epoch 4/20\n",
      "10278/10278 [==============================] - 2s 221us/step - loss: 0.0436 - acc: 0.9844 - val_loss: 0.0843 - val_acc: 0.9711\n",
      "Epoch 5/20\n",
      "10278/10278 [==============================] - 2s 221us/step - loss: 0.0378 - acc: 0.9886 - val_loss: 0.0670 - val_acc: 0.9808\n",
      "Epoch 6/20\n",
      "10278/10278 [==============================] - 2s 220us/step - loss: 0.0301 - acc: 0.9907 - val_loss: 0.0412 - val_acc: 0.9878\n",
      "Epoch 7/20\n",
      "10278/10278 [==============================] - 2s 221us/step - loss: 0.0262 - acc: 0.9910 - val_loss: 0.0353 - val_acc: 0.9895\n",
      "Epoch 8/20\n",
      "10278/10278 [==============================] - 2s 222us/step - loss: 0.0234 - acc: 0.9926 - val_loss: 0.0889 - val_acc: 0.9720\n",
      "Epoch 9/20\n",
      "10278/10278 [==============================] - 2s 222us/step - loss: 0.0177 - acc: 0.9935 - val_loss: 0.0387 - val_acc: 0.9913\n",
      "Epoch 10/20\n",
      "10278/10278 [==============================] - 2s 221us/step - loss: 0.0165 - acc: 0.9946 - val_loss: 0.0351 - val_acc: 0.9904\n",
      "Epoch 11/20\n",
      "10278/10278 [==============================] - 2s 224us/step - loss: 0.0142 - acc: 0.9943 - val_loss: 0.0396 - val_acc: 0.9913\n",
      "Epoch 12/20\n",
      "10278/10278 [==============================] - 2s 224us/step - loss: 0.0119 - acc: 0.9964 - val_loss: 0.0508 - val_acc: 0.9843\n",
      "Epoch 13/20\n",
      "10278/10278 [==============================] - 2s 221us/step - loss: 0.0109 - acc: 0.9956 - val_loss: 0.0410 - val_acc: 0.9921\n",
      "Epoch 14/20\n",
      "10278/10278 [==============================] - 2s 221us/step - loss: 0.0109 - acc: 0.9954 - val_loss: 0.0615 - val_acc: 0.9860\n",
      "Epoch 15/20\n",
      "10278/10278 [==============================] - 2s 221us/step - loss: 0.0075 - acc: 0.9972 - val_loss: 0.0336 - val_acc: 0.9921\n",
      "Epoch 16/20\n",
      "10278/10278 [==============================] - 2s 220us/step - loss: 0.0068 - acc: 0.9975 - val_loss: 0.0430 - val_acc: 0.9895\n",
      "Epoch 17/20\n"
     ]
    },
    {
     "name": "stdout",
     "output_type": "stream",
     "text": [
      "10278/10278 [==============================] - 2s 221us/step - loss: 0.0055 - acc: 0.9983 - val_loss: 0.0869 - val_acc: 0.9764\n",
      "Epoch 18/20\n",
      "10278/10278 [==============================] - 2s 222us/step - loss: 0.0051 - acc: 0.9982 - val_loss: 0.0395 - val_acc: 0.9904\n",
      "Epoch 19/20\n",
      "10278/10278 [==============================] - 2s 223us/step - loss: 0.0034 - acc: 0.9988 - val_loss: 0.0424 - val_acc: 0.9904\n",
      "Epoch 20/20\n",
      "10278/10278 [==============================] - 2s 225us/step - loss: 0.0042 - acc: 0.9983 - val_loss: 0.0413 - val_acc: 0.9895\n",
      "6\n",
      "Train on 10726 samples, validate on 1192 samples\n",
      "Epoch 1/20\n",
      "10726/10726 [==============================] - 3s 308us/step - loss: 0.4116 - acc: 0.8536 - val_loss: 0.1032 - val_acc: 0.9581\n",
      "Epoch 2/20\n",
      "10726/10726 [==============================] - 2s 221us/step - loss: 0.0713 - acc: 0.9776 - val_loss: 0.0557 - val_acc: 0.9799\n",
      "Epoch 3/20\n",
      "10726/10726 [==============================] - 2s 221us/step - loss: 0.0418 - acc: 0.9846 - val_loss: 0.0437 - val_acc: 0.9849\n",
      "Epoch 4/20\n",
      "10726/10726 [==============================] - 2s 224us/step - loss: 0.0315 - acc: 0.9893 - val_loss: 0.0312 - val_acc: 0.9924\n",
      "Epoch 5/20\n",
      "10726/10726 [==============================] - 2s 221us/step - loss: 0.0237 - acc: 0.9922 - val_loss: 0.0300 - val_acc: 0.9891\n",
      "Epoch 6/20\n",
      "10726/10726 [==============================] - 2s 221us/step - loss: 0.0226 - acc: 0.9916 - val_loss: 0.0255 - val_acc: 0.9924\n",
      "Epoch 7/20\n",
      "10726/10726 [==============================] - 2s 221us/step - loss: 0.0139 - acc: 0.9957 - val_loss: 0.0210 - val_acc: 0.9933\n",
      "Epoch 8/20\n",
      "10726/10726 [==============================] - 2s 222us/step - loss: 0.0123 - acc: 0.9958 - val_loss: 0.0285 - val_acc: 0.9908\n",
      "Epoch 9/20\n",
      "10726/10726 [==============================] - 2s 225us/step - loss: 0.0110 - acc: 0.9962 - val_loss: 0.0333 - val_acc: 0.9908\n",
      "Epoch 10/20\n",
      "10726/10726 [==============================] - 2s 221us/step - loss: 0.0118 - acc: 0.9961 - val_loss: 0.0168 - val_acc: 0.9958\n",
      "Epoch 11/20\n",
      "10726/10726 [==============================] - 2s 222us/step - loss: 0.0072 - acc: 0.9979 - val_loss: 0.0189 - val_acc: 0.9950\n",
      "Epoch 12/20\n",
      "10726/10726 [==============================] - 2s 220us/step - loss: 0.0066 - acc: 0.9976 - val_loss: 0.0245 - val_acc: 0.9924\n",
      "Epoch 13/20\n",
      "10726/10726 [==============================] - 2s 222us/step - loss: 0.0049 - acc: 0.9985 - val_loss: 0.0192 - val_acc: 0.9958\n",
      "Epoch 14/20\n",
      "10726/10726 [==============================] - 2s 221us/step - loss: 0.0037 - acc: 0.9986 - val_loss: 0.0244 - val_acc: 0.9924\n",
      "Epoch 15/20\n",
      "10726/10726 [==============================] - 2s 221us/step - loss: 0.0039 - acc: 0.9984 - val_loss: 0.0265 - val_acc: 0.9933\n",
      "Epoch 16/20\n",
      "10726/10726 [==============================] - 2s 223us/step - loss: 0.0029 - acc: 0.9988 - val_loss: 0.0336 - val_acc: 0.9908\n",
      "Epoch 17/20\n",
      "10726/10726 [==============================] - 2s 225us/step - loss: 0.0039 - acc: 0.9983 - val_loss: 0.0186 - val_acc: 0.9950\n",
      "Epoch 18/20\n",
      "10726/10726 [==============================] - 2s 223us/step - loss: 0.0016 - acc: 0.9995 - val_loss: 0.0186 - val_acc: 0.9966\n",
      "Epoch 19/20\n",
      "10726/10726 [==============================] - 2s 222us/step - loss: 0.0029 - acc: 0.9994 - val_loss: 0.0220 - val_acc: 0.9941\n",
      "Epoch 20/20\n",
      "10726/10726 [==============================] - 2s 222us/step - loss: 8.2972e-04 - acc: 0.9998 - val_loss: 0.0177 - val_acc: 0.9966\n",
      "7\n",
      "Train on 11038 samples, validate on 1227 samples\n",
      "Epoch 1/20\n",
      "11038/11038 [==============================] - 3s 310us/step - loss: 0.3666 - acc: 0.8685 - val_loss: 0.1405 - val_acc: 0.9470\n",
      "Epoch 2/20\n",
      "11038/11038 [==============================] - 2s 223us/step - loss: 0.0750 - acc: 0.9747 - val_loss: 0.0770 - val_acc: 0.9764\n",
      "Epoch 3/20\n",
      "11038/11038 [==============================] - 2s 222us/step - loss: 0.0542 - acc: 0.9823 - val_loss: 0.0968 - val_acc: 0.9698\n",
      "Epoch 4/20\n",
      "11038/11038 [==============================] - 2s 222us/step - loss: 0.0447 - acc: 0.9858 - val_loss: 0.0861 - val_acc: 0.9747\n",
      "Epoch 5/20\n",
      "11038/11038 [==============================] - 2s 223us/step - loss: 0.0334 - acc: 0.9889 - val_loss: 0.0465 - val_acc: 0.9845\n",
      "Epoch 6/20\n",
      "11038/11038 [==============================] - 2s 222us/step - loss: 0.0302 - acc: 0.9913 - val_loss: 0.0860 - val_acc: 0.9756\n",
      "Epoch 7/20\n",
      "11038/11038 [==============================] - 2s 222us/step - loss: 0.0255 - acc: 0.9925 - val_loss: 0.0967 - val_acc: 0.9723\n",
      "Epoch 8/20\n",
      "11038/11038 [==============================] - 2s 224us/step - loss: 0.0215 - acc: 0.9933 - val_loss: 0.0739 - val_acc: 0.9813\n",
      "Epoch 9/20\n",
      "11038/11038 [==============================] - 2s 225us/step - loss: 0.0181 - acc: 0.9939 - val_loss: 0.0397 - val_acc: 0.9861\n",
      "Epoch 10/20\n",
      "11038/11038 [==============================] - 2s 223us/step - loss: 0.0167 - acc: 0.9949 - val_loss: 0.0400 - val_acc: 0.9878\n",
      "Epoch 11/20\n",
      "11038/11038 [==============================] - 2s 223us/step - loss: 0.0126 - acc: 0.9960 - val_loss: 0.0421 - val_acc: 0.9878\n",
      "Epoch 12/20\n",
      "11038/11038 [==============================] - 2s 223us/step - loss: 0.0116 - acc: 0.9967 - val_loss: 0.0352 - val_acc: 0.9886\n",
      "Epoch 13/20\n",
      "11038/11038 [==============================] - 2s 222us/step - loss: 0.0114 - acc: 0.9957 - val_loss: 0.0395 - val_acc: 0.9870\n",
      "Epoch 14/20\n",
      "11038/11038 [==============================] - 2s 223us/step - loss: 0.0090 - acc: 0.9975 - val_loss: 0.0447 - val_acc: 0.9870\n",
      "Epoch 15/20\n",
      "11038/11038 [==============================] - 2s 222us/step - loss: 0.0073 - acc: 0.9974 - val_loss: 0.0396 - val_acc: 0.9902\n",
      "Epoch 16/20\n",
      "11038/11038 [==============================] - 2s 223us/step - loss: 0.0066 - acc: 0.9975 - val_loss: 0.0268 - val_acc: 0.9935\n",
      "Epoch 17/20\n",
      "11038/11038 [==============================] - 2s 223us/step - loss: 0.0047 - acc: 0.9986 - val_loss: 0.0385 - val_acc: 0.9894\n",
      "Epoch 18/20\n",
      "11038/11038 [==============================] - 2s 221us/step - loss: 0.0038 - acc: 0.9991 - val_loss: 0.0305 - val_acc: 0.9919\n",
      "Epoch 19/20\n",
      "11038/11038 [==============================] - 2s 222us/step - loss: 0.0037 - acc: 0.9987 - val_loss: 0.0367 - val_acc: 0.9902\n",
      "Epoch 20/20\n",
      "11038/11038 [==============================] - 2s 223us/step - loss: 0.0024 - acc: 0.9993 - val_loss: 0.0349 - val_acc: 0.9910\n",
      "8\n",
      "Train on 10665 samples, validate on 1186 samples\n",
      "Epoch 1/20\n",
      "10665/10665 [==============================] - 3s 309us/step - loss: 0.5870 - acc: 0.7240 - val_loss: 0.2939 - val_acc: 0.8676\n",
      "Epoch 2/20\n",
      "10665/10665 [==============================] - 2s 222us/step - loss: 0.1680 - acc: 0.9388 - val_loss: 0.1174 - val_acc: 0.9519\n",
      "Epoch 3/20\n",
      "10665/10665 [==============================] - 2s 222us/step - loss: 0.0868 - acc: 0.9707 - val_loss: 0.1835 - val_acc: 0.9376\n",
      "Epoch 4/20\n",
      "10665/10665 [==============================] - 2s 224us/step - loss: 0.0613 - acc: 0.9787 - val_loss: 0.0815 - val_acc: 0.9688\n",
      "Epoch 5/20\n",
      "10665/10665 [==============================] - 2s 225us/step - loss: 0.0456 - acc: 0.9843 - val_loss: 0.2148 - val_acc: 0.9351\n",
      "Epoch 6/20\n",
      "10665/10665 [==============================] - 2s 222us/step - loss: 0.0329 - acc: 0.9898 - val_loss: 0.0319 - val_acc: 0.9865\n",
      "Epoch 7/20\n",
      "10665/10665 [==============================] - 2s 223us/step - loss: 0.0294 - acc: 0.9899 - val_loss: 0.0281 - val_acc: 0.9916\n",
      "Epoch 8/20\n",
      "10665/10665 [==============================] - 2s 224us/step - loss: 0.0204 - acc: 0.9925 - val_loss: 0.0314 - val_acc: 0.9899\n",
      "Epoch 9/20\n",
      "10665/10665 [==============================] - 2s 224us/step - loss: 0.0165 - acc: 0.9941 - val_loss: 0.0277 - val_acc: 0.9890\n",
      "Epoch 10/20\n",
      "10665/10665 [==============================] - 2s 223us/step - loss: 0.0138 - acc: 0.9958 - val_loss: 0.0700 - val_acc: 0.9806\n",
      "Epoch 11/20\n",
      "10665/10665 [==============================] - 2s 223us/step - loss: 0.0094 - acc: 0.9964 - val_loss: 0.0323 - val_acc: 0.9882\n",
      "Epoch 12/20\n",
      "10665/10665 [==============================] - 2s 222us/step - loss: 0.0106 - acc: 0.9967 - val_loss: 0.0668 - val_acc: 0.9823\n",
      "Epoch 13/20\n",
      "10665/10665 [==============================] - 2s 222us/step - loss: 0.0055 - acc: 0.9985 - val_loss: 0.0583 - val_acc: 0.9865\n",
      "Epoch 14/20\n",
      "10665/10665 [==============================] - 2s 222us/step - loss: 0.0060 - acc: 0.9977 - val_loss: 0.0334 - val_acc: 0.9924\n",
      "Epoch 15/20\n"
     ]
    },
    {
     "name": "stdout",
     "output_type": "stream",
     "text": [
      "10665/10665 [==============================] - 2s 221us/step - loss: 0.0027 - acc: 0.9992 - val_loss: 0.0489 - val_acc: 0.9899\n",
      "Epoch 16/20\n",
      "10665/10665 [==============================] - 2s 221us/step - loss: 0.0044 - acc: 0.9985 - val_loss: 0.0458 - val_acc: 0.9874\n",
      "Epoch 17/20\n",
      "10665/10665 [==============================] - 2s 222us/step - loss: 0.0025 - acc: 0.9992 - val_loss: 0.0660 - val_acc: 0.9865\n",
      "Epoch 18/20\n",
      "10665/10665 [==============================] - 2s 223us/step - loss: 0.0038 - acc: 0.9987 - val_loss: 0.0315 - val_acc: 0.9924\n",
      "Epoch 19/20\n",
      "10665/10665 [==============================] - 2s 221us/step - loss: 0.0012 - acc: 0.9996 - val_loss: 0.0435 - val_acc: 0.9882\n",
      "Epoch 20/20\n",
      "10665/10665 [==============================] - 2s 226us/step - loss: 0.0013 - acc: 0.9998 - val_loss: 0.0456 - val_acc: 0.9890\n",
      "9\n",
      "Train on 10754 samples, validate on 1195 samples\n",
      "Epoch 1/20\n",
      "10754/10754 [==============================] - 3s 303us/step - loss: 0.5665 - acc: 0.7648 - val_loss: 0.9184 - val_acc: 0.5138\n",
      "Epoch 2/20\n",
      "10754/10754 [==============================] - 2s 221us/step - loss: 0.1914 - acc: 0.9244 - val_loss: 0.1144 - val_acc: 0.9582\n",
      "Epoch 3/20\n",
      "10754/10754 [==============================] - 2s 222us/step - loss: 0.1045 - acc: 0.9633 - val_loss: 0.0888 - val_acc: 0.9682\n",
      "Epoch 4/20\n",
      "10754/10754 [==============================] - 2s 223us/step - loss: 0.0824 - acc: 0.9709 - val_loss: 0.0589 - val_acc: 0.9799\n",
      "Epoch 5/20\n",
      "10754/10754 [==============================] - 2s 221us/step - loss: 0.0523 - acc: 0.9813 - val_loss: 0.0447 - val_acc: 0.9874\n",
      "Epoch 6/20\n",
      "10754/10754 [==============================] - 2s 221us/step - loss: 0.0490 - acc: 0.9833 - val_loss: 0.1309 - val_acc: 0.9556\n",
      "Epoch 7/20\n",
      "10754/10754 [==============================] - 2s 222us/step - loss: 0.0423 - acc: 0.9857 - val_loss: 0.0395 - val_acc: 0.9833\n",
      "Epoch 8/20\n",
      "10754/10754 [==============================] - 2s 223us/step - loss: 0.0337 - acc: 0.9890 - val_loss: 0.0439 - val_acc: 0.9866\n",
      "Epoch 9/20\n",
      "10754/10754 [==============================] - 2s 222us/step - loss: 0.0284 - acc: 0.9907 - val_loss: 0.0438 - val_acc: 0.9841\n",
      "Epoch 10/20\n",
      "10754/10754 [==============================] - 2s 221us/step - loss: 0.0240 - acc: 0.9920 - val_loss: 0.0372 - val_acc: 0.9849\n",
      "Epoch 11/20\n",
      "10754/10754 [==============================] - 2s 220us/step - loss: 0.0205 - acc: 0.9927 - val_loss: 0.0343 - val_acc: 0.9883\n",
      "Epoch 12/20\n",
      "10754/10754 [==============================] - 2s 221us/step - loss: 0.0178 - acc: 0.9942 - val_loss: 0.0369 - val_acc: 0.9891\n",
      "Epoch 13/20\n",
      "10754/10754 [==============================] - 2s 221us/step - loss: 0.0154 - acc: 0.9950 - val_loss: 0.0395 - val_acc: 0.9874\n",
      "Epoch 14/20\n",
      "10754/10754 [==============================] - 2s 221us/step - loss: 0.0157 - acc: 0.9934 - val_loss: 0.0453 - val_acc: 0.9874\n",
      "Epoch 15/20\n",
      "10754/10754 [==============================] - 2s 221us/step - loss: 0.0101 - acc: 0.9965 - val_loss: 0.0407 - val_acc: 0.9891\n",
      "Epoch 16/20\n",
      "10754/10754 [==============================] - 2s 222us/step - loss: 0.0071 - acc: 0.9981 - val_loss: 0.0423 - val_acc: 0.9874\n",
      "Epoch 17/20\n",
      "10754/10754 [==============================] - 2s 221us/step - loss: 0.0104 - acc: 0.9960 - val_loss: 0.0308 - val_acc: 0.9900\n",
      "Epoch 18/20\n",
      "10754/10754 [==============================] - 2s 223us/step - loss: 0.0066 - acc: 0.9978 - val_loss: 0.0331 - val_acc: 0.9908\n",
      "Epoch 19/20\n",
      "10754/10754 [==============================] - 2s 221us/step - loss: 0.0071 - acc: 0.9980 - val_loss: 0.0301 - val_acc: 0.9900\n",
      "Epoch 20/20\n",
      "10754/10754 [==============================] - 2s 221us/step - loss: 0.0031 - acc: 0.9994 - val_loss: 0.0357 - val_acc: 0.9883\n"
     ]
    }
   ],
   "source": [
    "from sklearn.metrics import accuracy_score,r2_score\n",
    "accs = []\n",
    "history_models = []\n",
    "models_weights = []\n",
    "\n",
    "for i in range(10):\n",
    "    \n",
    "    print(i)\n",
    "    model = models_factory()\n",
    "\n",
    "    X_train=X_train_split[i]\n",
    "    y_train = y_train_split[i]\n",
    "    \n",
    "\n",
    "    history = model.fit(X_train, y_train, epochs=20, batch_size=128, validation_split = 0.1)\n",
    "    \n",
    "    weights = model.get_weights()\n",
    "    history_models.append(history)\n",
    "    models_weights.append(weights)\n",
    "\n",
    "    "
   ]
  },
  {
   "cell_type": "code",
   "execution_count": 71,
   "metadata": {
    "scrolled": true
   },
   "outputs": [
    {
     "data": {
      "text/plain": [
       "10"
      ]
     },
     "execution_count": 71,
     "metadata": {},
     "output_type": "execute_result"
    }
   ],
   "source": [
    "len(models_weights)"
   ]
  },
  {
   "cell_type": "code",
   "execution_count": 72,
   "metadata": {
    "scrolled": true
   },
   "outputs": [],
   "source": [
    "for i in range(10):\n",
    "    model = models_factory()\n",
    "    model.set_weights(models_weights[i])\n",
    "    model.save_weights('./models/magic/my_model_weights' + str(i) + '.h5')"
   ]
  },
  {
   "cell_type": "code",
   "execution_count": 73,
   "metadata": {
    "scrolled": true
   },
   "outputs": [
    {
     "data": {
      "text/plain": [
       "(1, 28, 28)"
      ]
     },
     "execution_count": 73,
     "metadata": {},
     "output_type": "execute_result"
    }
   ],
   "source": [
    "X_test[0].shape"
   ]
  },
  {
   "cell_type": "markdown",
   "metadata": {},
   "source": [
    "1. Your model needs be improved (change parameters)\n",
    "2. You may need to try a different machine learning algorithm (not all algorithms created equal)\n",
    "3. You need more data (subtle relationship difficult to find)\n",
    "4. You may need to try transforming your data (dependent upon algorithm used)\n",
    "5. There may be no relationship between your dependent and independent variables"
   ]
  },
  {
   "cell_type": "markdown",
   "metadata": {},
   "source": [
    "# 4 . Evaluate & Predict"
   ]
  },
  {
   "cell_type": "code",
   "execution_count": 95,
   "metadata": {},
   "outputs": [],
   "source": [
    "#  Testing set (mnist testing set)\n",
    "X_test = X_test_nums\n",
    "y_test = y_test_nums\n",
    "\n",
    "X_test  = X_test.reshape(len(X_test),1,28,28).astype('float')\n",
    "# y_test  = np_utils.to_categorical(y_test,  num_classes)"
   ]
  },
  {
   "cell_type": "code",
   "execution_count": 96,
   "metadata": {
    "scrolled": true
   },
   "outputs": [
    {
     "name": "stdout",
     "output_type": "stream",
     "text": [
      "0\n",
      "y_test.shape   = \n",
      "(8987,)\n",
      "1\n",
      "y_test.shape   = \n",
      "(7795,)\n",
      "2\n",
      "y_test.shape   = \n",
      "(6708,)\n",
      "3\n",
      "y_test.shape   = \n",
      "(5699,)\n",
      "4\n",
      "y_test.shape   = \n",
      "(4713,)\n",
      "5\n",
      "y_test.shape   = \n",
      "(3807,)\n",
      "6\n",
      "y_test.shape   = \n",
      "(2892,)\n",
      "7\n",
      "y_test.shape   = \n",
      "(1907,)\n",
      "8\n",
      "y_test.shape   = \n",
      "(980,)\n",
      "9\n",
      "y_test.shape   = \n",
      "(25,)\n"
     ]
    }
   ],
   "source": [
    "y_true = []\n",
    "for i in range(10):\n",
    "\n",
    "    print( i )\n",
    "    model = models_factory()\n",
    "    model.load_weights('./models/magic/my_model_weights' + str(i) + '.h5')\n",
    "    \n",
    "    y_pred_i = model.predict( X_test, verbose= 0 )\n",
    "    \n",
    "#     print(y_pred_i.shape )\n",
    "    \n",
    "    y_pred_i_int = [np.around(x) for x in y_pred_i]\n",
    "    y_pred_i_max = np.argmax(y_pred_i_int, axis=1)\n",
    "\n",
    "#     take out index that predict = i \n",
    "#     print(y_pred_i_max.shape )\n",
    "    \n",
    "    index_i = np.where(y_pred_i_max == i)\n",
    "    \n",
    "    X_test = np.delete(X_test, index_i, axis = 0 )\n",
    "#     print(\"After delete , X_test.shape  = \")\n",
    "#     print(X_test.shape)\n",
    "\n",
    "    \n",
    "    y_true_i = y_test[index_i]\n",
    "    \n",
    "    y_test = np.delete(y_test, index_i)\n",
    "    print(\"y_test.shape   = \")\n",
    "    print(y_test.shape)\n",
    "    \n",
    "\n",
    "#     print(index_i)\n",
    "    \n",
    "    y_true.append(y_true_i)\n"
   ]
  },
  {
   "cell_type": "code",
   "execution_count": 75,
   "metadata": {
    "scrolled": true
   },
   "outputs": [
    {
     "data": {
      "text/plain": [
       "array([0, 0, 0, ..., 0, 0, 0], dtype=uint8)"
      ]
     },
     "execution_count": 75,
     "metadata": {},
     "output_type": "execute_result"
    }
   ],
   "source": [
    "y_true[0]"
   ]
  },
  {
   "cell_type": "code",
   "execution_count": 76,
   "metadata": {
    "scrolled": true
   },
   "outputs": [
    {
     "data": {
      "text/plain": [
       "(25,)"
      ]
     },
     "execution_count": 76,
     "metadata": {},
     "output_type": "execute_result"
    }
   ],
   "source": [
    "y_test.shape"
   ]
  },
  {
   "cell_type": "code",
   "execution_count": 97,
   "metadata": {
    "scrolled": true
   },
   "outputs": [
    {
     "name": "stdout",
     "output_type": "stream",
     "text": [
      "0\n",
      "1013\n",
      "\n",
      " Acc: 96.347 \n",
      "1\n",
      "1192\n",
      "\n",
      " Acc: 95.050 \n",
      "2\n",
      "1087\n",
      "\n",
      " Acc: 93.560 \n",
      "3\n",
      "1009\n",
      "\n",
      " Acc: 98.018 \n",
      "4\n",
      "986\n",
      "\n",
      " Acc: 97.972 \n",
      "5\n",
      "906\n",
      "\n",
      " Acc: 95.364 \n",
      "6\n",
      "915\n",
      "\n",
      " Acc: 99.454 \n",
      "7\n",
      "985\n",
      "\n",
      " Acc: 98.477 \n",
      "8\n",
      "927\n",
      "\n",
      " Acc: 99.353 \n",
      "9\n",
      "955\n",
      "\n",
      " Acc: 99.686 \n"
     ]
    }
   ],
   "source": [
    "from sklearn.metrics import accuracy_score,r2_score\n",
    "accs = []\n",
    "for i in range(10):\n",
    "    print(i)\n",
    "    sizes = y_true[i].size\n",
    "    \n",
    "    print(sizes)\n",
    "    y_pred = np.full(sizes, i)\n",
    "#     print(\"Predict --------------------->\")\n",
    "#     print(y_pred)\n",
    "    \n",
    "#     print(\"True------------------------->\")\n",
    "\n",
    "#     print(y_true[i])\n",
    "    \n",
    "    acc_i = accuracy_score(y_true[i],y_pred)*100\n",
    "    print(\"\\n Acc: %.3f \"% acc_i )\n",
    "    accs.append(acc_i)\n"
   ]
  },
  {
   "cell_type": "code",
   "execution_count": 98,
   "metadata": {},
   "outputs": [
    {
     "data": {
      "text/plain": [
       "[96.34748272458046,\n",
       " 95.0503355704698,\n",
       " 93.56025758969642,\n",
       " 98.01783944499505,\n",
       " 97.97160243407707,\n",
       " 95.36423841059603,\n",
       " 99.4535519125683,\n",
       " 98.47715736040608,\n",
       " 99.35275080906149,\n",
       " 99.68586387434554]"
      ]
     },
     "execution_count": 98,
     "metadata": {},
     "output_type": "execute_result"
    }
   ],
   "source": [
    "accs"
   ]
  },
  {
   "cell_type": "code",
   "execution_count": 99,
   "metadata": {},
   "outputs": [
    {
     "data": {
      "text/plain": [
       "97.32810801307963"
      ]
     },
     "execution_count": 99,
     "metadata": {},
     "output_type": "execute_result"
    }
   ],
   "source": [
    "av_acc = np.mean(accs)\n",
    "av_acc"
   ]
  },
  {
   "cell_type": "markdown",
   "metadata": {},
   "source": [
    "Check the following things when training any type of deep neural network:\n",
    "\n",
    "1. the data used to calculate training accuracy is not identical to the data used to train your NN. This sounds weird, but possible in practice, especially in case of images, if you don't keep track of what is happening. For example, you train on random patches of images and calculate training accuracy on random patches of same images. It is easy to forget that though they are same images, the patches are randomly selected.\n",
    "2. More than the values of train and val accuracy, I would be concerned about what you said, \"i'm copy pasting a random epoch but all are roughly the same\". No, they can't be same. Accuracy at different epochs is mostly different, because network is learning so it is constantly changing its weights. If accuracy goes up then that means it is approaching the minima of the loss function.\n",
    "I think you should be more concerned about getting a low training accuracy instead of getting a lower training accuracy than the validation accuracy.\n",
    "3. Do all the sanity checks given here. Read the entire article if possible, it's very good.\n",
    "4. Make sure you are doing pre-processing in the right manner. For example, make sure that mean over entire training data is zero. For testing data, subtract the mean vector of the training data from each instance of testing data. Don't subtract the mean of testing data from itself. Since, you wouldn't know the mean of testing data at runtime.\n",
    "4. Check if your loss at the very first epoch makes sense. For example, in a 10-class classification problem, starting loss should be -ln(0.1) = 2.302 (given here).\n",
    "5. Again, from here, overfit a tiny subset of data and make sure you can achieve zero cost. Full details in the link.\n",
    "6. If nothing works, just train and test on the same data and see if you can get 90% + accuracy. Otherwise, examine your network more closely by looking at individual layer outputs (given in Keras FAQ) etc.\n",
    "\n",
    "\n",
    "<a href =\"https://github.com/keras-team/keras/issues/1761\">maybe solution</a>"
   ]
  },
  {
   "cell_type": "code",
   "execution_count": null,
   "metadata": {
    "scrolled": true
   },
   "outputs": [],
   "source": []
  }
 ],
 "metadata": {
  "kernelspec": {
   "display_name": "Python 3",
   "language": "python",
   "name": "python3"
  },
  "language_info": {
   "codemirror_mode": {
    "name": "ipython",
    "version": 3
   },
   "file_extension": ".py",
   "mimetype": "text/x-python",
   "name": "python",
   "nbconvert_exporter": "python",
   "pygments_lexer": "ipython3",
   "version": "3.6.4"
  }
 },
 "nbformat": 4,
 "nbformat_minor": 2
}
