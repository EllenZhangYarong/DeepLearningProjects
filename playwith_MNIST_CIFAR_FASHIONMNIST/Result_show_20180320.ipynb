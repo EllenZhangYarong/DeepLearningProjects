{
 "cells": [
  {
   "cell_type": "code",
   "execution_count": 1,
   "metadata": {},
   "outputs": [],
   "source": [
    "import numpy as np\n",
    "import matplotlib.pyplot as plt"
   ]
  },
  {
   "cell_type": "code",
   "execution_count": 2,
   "metadata": {},
   "outputs": [],
   "source": [
    "hs_no_noise_test_score =  [[0.034058465317028455, 0.9903],\n",
    " [0.03484758692863115, 0.9907],\n",
    " [0.047855256396724964, 0.9902],\n",
    " [0.041164532752268404, 0.9921],\n",
    " [0.05266680776539063, 0.9889],\n",
    " [0.11739789315166929, 0.9898],\n",
    " [0.09764875334677674, 0.9886],\n",
    " [0.0632206972522277, 0.991],\n",
    " [0.09815478362253953, 0.9782],\n",
    " [0.08796581521126948, 0.9833],\n",
    " [0.07882386782268225, 0.9897],\n",
    " [0.09493261912277291, 0.9914],\n",
    " [0.06445855880243351, 0.9885],\n",
    " [0.10370552434645244, 0.9906],\n",
    " [0.1012516388016398, 0.9909],\n",
    " [0.10424824315333628, 0.9874],\n",
    " [0.12694154746300657, 0.9911],\n",
    " [0.11463687477970591, 0.9895],\n",
    " [0.11919253374170269, 0.9909],\n",
    " [0.1025763259003261, 0.9923]]"
   ]
  },
  {
   "cell_type": "code",
   "execution_count": 3,
   "metadata": {},
   "outputs": [],
   "source": [
    "hs_random_noise_test_score =   [[0.04829297218225449, 0.9902],\n",
    " [0.04320124557657609, 0.9904],\n",
    " [0.047471891228427966, 0.9893],\n",
    " [0.05874376216948381, 0.987],\n",
    " [0.053791355742009044, 0.987],\n",
    " [0.06325576037409922, 0.9882],\n",
    " [0.0867570142872686, 0.9824],\n",
    " [0.0826000678765977, 0.9897],\n",
    " [0.08580701754699838, 0.9896],\n",
    " [0.08968187244730577, 0.9859],\n",
    " [0.09480713811860275, 0.9912],\n",
    " [0.08384132597796659, 0.9907],\n",
    " [0.08962813374010209, 0.9913],\n",
    " [0.11838997870919354, 0.9886],\n",
    " [0.11488485456030291, 0.9888],\n",
    " [0.11201329010772249, 0.991],\n",
    " [0.09536086477248147, 0.9909],\n",
    " [0.1332961245259463, 0.9882],\n",
    " [0.13069431855936361, 0.9892],\n",
    " [0.10660658323409268, 0.9889]]"
   ]
  },
  {
   "cell_type": "code",
   "execution_count": 4,
   "metadata": {},
   "outputs": [],
   "source": [
    "hs_no_noise_test_score = np.asarray(hs_no_noise_test_score)\n",
    "hs_random_noise_test_score= np.asarray(hs_random_noise_test_score)"
   ]
  },
  {
   "cell_type": "code",
   "execution_count": 5,
   "metadata": {},
   "outputs": [
    {
     "name": "stdout",
     "output_type": "stream",
     "text": [
      "0.003181996228784697\n",
      "0.0020923372099162104\n"
     ]
    }
   ],
   "source": [
    "st_no = hs_no_noise_test_score[:,1].std()\n",
    "print(st_no)\n",
    "st_random = hs_random_noise_test_score[:,1].std() \n",
    "print(st_random)"
   ]
  },
  {
   "cell_type": "markdown",
   "metadata": {},
   "source": [
    "### avarage accuracy ( no noise )"
   ]
  },
  {
   "cell_type": "code",
   "execution_count": 6,
   "metadata": {},
   "outputs": [
    {
     "data": {
      "text/plain": [
       "0.98927"
      ]
     },
     "execution_count": 6,
     "metadata": {},
     "output_type": "execute_result"
    }
   ],
   "source": [
    "av_no_noise_accuray = np.mean(hs_no_noise_test_score[:,1])\n",
    "av_no_noise_accuray"
   ]
  },
  {
   "cell_type": "markdown",
   "metadata": {},
   "source": [
    "### variance "
   ]
  },
  {
   "cell_type": "code",
   "execution_count": 7,
   "metadata": {},
   "outputs": [
    {
     "data": {
      "text/plain": [
       "1.0125100000000031e-05"
      ]
     },
     "execution_count": 7,
     "metadata": {},
     "output_type": "execute_result"
    }
   ],
   "source": [
    "var_no_noise = np.sum((hs_no_noise_test_score[:,1] - av_no_noise_accuray)**2) / 20\n",
    "var_no_noise"
   ]
  },
  {
   "cell_type": "markdown",
   "metadata": {},
   "source": [
    "### standard deviation"
   ]
  },
  {
   "cell_type": "code",
   "execution_count": 8,
   "metadata": {},
   "outputs": [
    {
     "data": {
      "text/plain": [
       "0.003181996228784697"
      ]
     },
     "execution_count": 8,
     "metadata": {},
     "output_type": "execute_result"
    }
   ],
   "source": [
    "st_no_noise = np.sqrt(var_no_noise)\n",
    "st_no_noise"
   ]
  },
  {
   "cell_type": "markdown",
   "metadata": {},
   "source": [
    "### avarage accuracy  (random noise -- 6000)"
   ]
  },
  {
   "cell_type": "code",
   "execution_count": 9,
   "metadata": {},
   "outputs": [
    {
     "data": {
      "text/plain": [
       "0.988925"
      ]
     },
     "execution_count": 9,
     "metadata": {},
     "output_type": "execute_result"
    }
   ],
   "source": [
    "av_random_noise_accuray = np.mean(hs_random_noise_test_score[:,1])\n",
    "av_random_noise_accuray"
   ]
  },
  {
   "cell_type": "markdown",
   "metadata": {},
   "source": [
    "### variance"
   ]
  },
  {
   "cell_type": "code",
   "execution_count": 10,
   "metadata": {},
   "outputs": [
    {
     "data": {
      "text/plain": [
       "4.3778749999999526e-06"
      ]
     },
     "execution_count": 10,
     "metadata": {},
     "output_type": "execute_result"
    }
   ],
   "source": [
    "var_random_noise = sum((hs_random_noise_test_score[:,1] - av_random_noise_accuray)**2) / 20\n",
    "var_random_noise"
   ]
  },
  {
   "cell_type": "markdown",
   "metadata": {},
   "source": [
    "### standard deviation"
   ]
  },
  {
   "cell_type": "code",
   "execution_count": 11,
   "metadata": {},
   "outputs": [
    {
     "data": {
      "text/plain": [
       "0.0020923372099162104"
      ]
     },
     "execution_count": 11,
     "metadata": {},
     "output_type": "execute_result"
    }
   ],
   "source": [
    "st_random_noise = np.sqrt(var_random_noise)\n",
    "st_random_noise"
   ]
  },
  {
   "cell_type": "markdown",
   "metadata": {},
   "source": [
    "### Loss"
   ]
  },
  {
   "cell_type": "code",
   "execution_count": 12,
   "metadata": {},
   "outputs": [
    {
     "data": {
      "text/plain": [
       "0.08428741628392925"
      ]
     },
     "execution_count": 12,
     "metadata": {},
     "output_type": "execute_result"
    }
   ],
   "source": [
    "av_no_noise_loss = np.mean(hs_no_noise_test_score[:,0])\n",
    "av_no_noise_loss"
   ]
  },
  {
   "cell_type": "code",
   "execution_count": 13,
   "metadata": {},
   "outputs": [
    {
     "data": {
      "text/plain": [
       "0.08695627858683978"
      ]
     },
     "execution_count": 13,
     "metadata": {},
     "output_type": "execute_result"
    }
   ],
   "source": [
    "av_random_noise_loss = np.mean(hs_random_noise_test_score[:,0])\n",
    "av_random_noise_loss"
   ]
  },
  {
   "cell_type": "code",
   "execution_count": 14,
   "metadata": {},
   "outputs": [
    {
     "data": {
      "text/plain": [
       "array([ 1,  2,  3,  4,  5,  6,  7,  8,  9, 10, 11, 12, 13, 14, 15, 16, 17,\n",
       "       18, 19, 20])"
      ]
     },
     "execution_count": 14,
     "metadata": {},
     "output_type": "execute_result"
    }
   ],
   "source": [
    "X =np.arange(1,21,1)\n",
    "X"
   ]
  },
  {
   "cell_type": "code",
   "execution_count": 15,
   "metadata": {},
   "outputs": [
    {
     "data": {
      "image/png": "[encoded data removed]",
      "text/plain": [
       "<matplotlib.figure.Figure at 0x10b6c8f60>"
      ]
     },
     "metadata": {},
     "output_type": "display_data"
    }
   ],
   "source": [
    "plt.plot(X, hs_no_noise_test_score[:,1], color='red', label=\"no noise\")\n",
    "plt.plot(X, hs_random_noise_test_score[:,1],color='blue', label=\"random noise\")\n",
    "plt.title(\"Compare score between no noise and random noise\")\n",
    "plt.xlabel(\"Training Times\")\n",
    "plt.ylabel(\"Accuracy\")\n",
    "plt.xlim(0,21)\n",
    "plt.legend()\n",
    "plt.show()"
   ]
  },
  {
   "cell_type": "code",
   "execution_count": 16,
   "metadata": {},
   "outputs": [
    {
     "data": {
      "image/png": "[encoded data removed]",
      "text/plain": [
       "<matplotlib.figure.Figure at 0x111139f28>"
      ]
     },
     "metadata": {},
     "output_type": "display_data"
    }
   ],
   "source": [
    "plt.plot(X, hs_no_noise_test_score[:,0], color='red', label=\"no noise\")\n",
    "plt.plot(X, hs_random_noise_test_score[:,0],color='blue', label=\"random noise\")\n",
    "plt.title(\"Compare score between no noise and random noise\")\n",
    "plt.xlabel(\"Training Times\")\n",
    "plt.ylabel(\"Loss\")\n",
    "plt.xlim(0,21)\n",
    "plt.legend()\n",
    "plt.show()"
   ]
  }
 ],
 "metadata": {
  "kernelspec": {
   "display_name": "Python 3",
   "language": "python",
   "name": "python3"
  },
  "language_info": {
   "codemirror_mode": {
    "name": "ipython",
    "version": 3
   },
   "file_extension": ".py",
   "mimetype": "text/x-python",
   "name": "python",
   "nbconvert_exporter": "python",
   "pygments_lexer": "ipython3",
   "version": "3.6.4"
  }
 },
 "nbformat": 4,
 "nbformat_minor": 2
}
