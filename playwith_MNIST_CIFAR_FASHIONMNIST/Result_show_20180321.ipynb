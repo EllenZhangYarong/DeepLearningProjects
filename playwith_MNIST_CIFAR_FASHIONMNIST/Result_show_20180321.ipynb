{
 "cells": [
  {
   "cell_type": "code",
   "execution_count": 1,
   "metadata": {},
   "outputs": [],
   "source": [
    "import numpy as np\n",
    "import matplotlib.pyplot as plt"
   ]
  },
  {
   "cell_type": "code",
   "execution_count": 2,
   "metadata": {},
   "outputs": [],
   "source": [
    "hs_no_noise_test_score =  [[0.0360033890764541, 0.9894],\n",
    " [0.0384707296942865, 0.9921],\n",
    " [0.03768850308248002, 0.9909],\n",
    " [0.043586317261322435, 0.9901],\n",
    " [0.07674173914548182, 0.9838],\n",
    " [0.04851108481678211, 0.9912],\n",
    " [0.062459038407846675, 0.9853],\n",
    " [0.07555120286654769, 0.9876],\n",
    " [0.08558637209832166, 0.9888],\n",
    " [0.07721260685755867, 0.9894],\n",
    " [0.07339650080326132, 0.9859],\n",
    " [0.07043634036903945, 0.9869],\n",
    " [0.08201202436547182, 0.9897],\n",
    " [0.0835158688118067, 0.9885],\n",
    " [0.09771078580128079, 0.9883],\n",
    " [0.10638351623843052, 0.984],\n",
    " [0.08684263171089819, 0.987],\n",
    " [0.08958331801462098, 0.9914],\n",
    " [0.11913943307656726, 0.9905],\n",
    " [0.16080446541326981, 0.9853]]"
   ]
  },
  {
   "cell_type": "code",
   "execution_count": 3,
   "metadata": {},
   "outputs": [],
   "source": [
    "hs_random_noise_test_score =   [[0.03563824707591561, 0.9908],\n",
    " [0.03655110906343925, 0.9927],\n",
    " [0.049591925856158195, 0.9879],\n",
    " [0.05289211603135373, 0.9891],\n",
    " [0.06027716686758249, 0.9912],\n",
    " [0.07818584077827317, 0.9809],\n",
    " [0.05601517035587867, 0.99],\n",
    " [0.07459841139572107, 0.9917],\n",
    " [0.06415703277541515, 0.9885],\n",
    " [0.07826818389842823, 0.991],\n",
    " [0.07148956812523527, 0.9855],\n",
    " [0.0680856504531863, 0.9916],\n",
    " [0.09744173847660302, 0.99],\n",
    " [0.06993392033029602, 0.9853],\n",
    " [0.0862811143676231, 0.9895],\n",
    " [0.06873202904331178, 0.9877],\n",
    " [0.07212625320533728, 0.9907],\n",
    " [0.10226493353646338, 0.9885],\n",
    " [0.08431656322427064, 0.9891],\n",
    " [0.11226159450122211, 0.991]]"
   ]
  },
  {
   "cell_type": "code",
   "execution_count": 4,
   "metadata": {},
   "outputs": [],
   "source": [
    "hs_no_noise_test_score = np.asarray(hs_no_noise_test_score)\n",
    "hs_random_noise_test_score= np.asarray(hs_random_noise_test_score)"
   ]
  },
  {
   "cell_type": "code",
   "execution_count": 5,
   "metadata": {},
   "outputs": [
    {
     "name": "stdout",
     "output_type": "stream",
     "text": [
      "0.0024352566599847338\n",
      "0.002679230299918247\n"
     ]
    }
   ],
   "source": [
    "st_no = hs_no_noise_test_score[:,1].std()\n",
    "print(st_no)\n",
    "st_random = hs_random_noise_test_score[:,1].std() \n",
    "print(st_random)"
   ]
  },
  {
   "cell_type": "markdown",
   "metadata": {},
   "source": [
    "### avarage accuracy ( no noise )"
   ]
  },
  {
   "cell_type": "code",
   "execution_count": 6,
   "metadata": {},
   "outputs": [
    {
     "data": {
      "text/plain": [
       "0.9883049999999998"
      ]
     },
     "execution_count": 6,
     "metadata": {},
     "output_type": "execute_result"
    }
   ],
   "source": [
    "av_no_noise_accuray = np.mean(hs_no_noise_test_score[:,1])\n",
    "av_no_noise_accuray"
   ]
  },
  {
   "cell_type": "markdown",
   "metadata": {},
   "source": [
    "### variance "
   ]
  },
  {
   "cell_type": "code",
   "execution_count": 7,
   "metadata": {},
   "outputs": [
    {
     "data": {
      "text/plain": [
       "5.930475e-06"
      ]
     },
     "execution_count": 7,
     "metadata": {},
     "output_type": "execute_result"
    }
   ],
   "source": [
    "var_no_noise = np.sum((hs_no_noise_test_score[:,1] - av_no_noise_accuray)**2) / 20\n",
    "var_no_noise"
   ]
  },
  {
   "cell_type": "markdown",
   "metadata": {},
   "source": [
    "### standard deviation"
   ]
  },
  {
   "cell_type": "code",
   "execution_count": 8,
   "metadata": {},
   "outputs": [
    {
     "data": {
      "text/plain": [
       "0.0024352566599847338"
      ]
     },
     "execution_count": 8,
     "metadata": {},
     "output_type": "execute_result"
    }
   ],
   "source": [
    "st_no_noise = np.sqrt(var_no_noise)\n",
    "st_no_noise"
   ]
  },
  {
   "cell_type": "markdown",
   "metadata": {},
   "source": [
    "### avarage accuracy  (random noise -- 6000)"
   ]
  },
  {
   "cell_type": "code",
   "execution_count": 9,
   "metadata": {},
   "outputs": [
    {
     "data": {
      "text/plain": [
       "0.9891349999999999"
      ]
     },
     "execution_count": 9,
     "metadata": {},
     "output_type": "execute_result"
    }
   ],
   "source": [
    "av_random_noise_accuray = np.mean(hs_random_noise_test_score[:,1])\n",
    "av_random_noise_accuray"
   ]
  },
  {
   "cell_type": "markdown",
   "metadata": {},
   "source": [
    "### variance"
   ]
  },
  {
   "cell_type": "code",
   "execution_count": 10,
   "metadata": {},
   "outputs": [
    {
     "data": {
      "text/plain": [
       "7.178275000000022e-06"
      ]
     },
     "execution_count": 10,
     "metadata": {},
     "output_type": "execute_result"
    }
   ],
   "source": [
    "var_random_noise = sum((hs_random_noise_test_score[:,1] - av_random_noise_accuray)**2) / 20\n",
    "var_random_noise"
   ]
  },
  {
   "cell_type": "markdown",
   "metadata": {},
   "source": [
    "### standard deviation"
   ]
  },
  {
   "cell_type": "code",
   "execution_count": 11,
   "metadata": {},
   "outputs": [
    {
     "data": {
      "text/plain": [
       "0.0026792302999182477"
      ]
     },
     "execution_count": 11,
     "metadata": {},
     "output_type": "execute_result"
    }
   ],
   "source": [
    "st_random_noise = np.sqrt(var_random_noise)\n",
    "st_random_noise"
   ]
  },
  {
   "cell_type": "markdown",
   "metadata": {},
   "source": [
    "### Loss"
   ]
  },
  {
   "cell_type": "code",
   "execution_count": 12,
   "metadata": {},
   "outputs": [
    {
     "data": {
      "text/plain": [
       "0.07758179339558642"
      ]
     },
     "execution_count": 12,
     "metadata": {},
     "output_type": "execute_result"
    }
   ],
   "source": [
    "av_no_noise_loss = np.mean(hs_no_noise_test_score[:,0])\n",
    "av_no_noise_loss"
   ]
  },
  {
   "cell_type": "code",
   "execution_count": 13,
   "metadata": {},
   "outputs": [
    {
     "data": {
      "text/plain": [
       "0.07095542846808572"
      ]
     },
     "execution_count": 13,
     "metadata": {},
     "output_type": "execute_result"
    }
   ],
   "source": [
    "av_random_noise_loss = np.mean(hs_random_noise_test_score[:,0])\n",
    "av_random_noise_loss"
   ]
  },
  {
   "cell_type": "code",
   "execution_count": 14,
   "metadata": {},
   "outputs": [
    {
     "data": {
      "text/plain": [
       "array([ 1,  2,  3,  4,  5,  6,  7,  8,  9, 10, 11, 12, 13, 14, 15, 16, 17,\n",
       "       18, 19, 20])"
      ]
     },
     "execution_count": 14,
     "metadata": {},
     "output_type": "execute_result"
    }
   ],
   "source": [
    "X =np.arange(1,21,1)\n",
    "X"
   ]
  },
  {
   "cell_type": "code",
   "execution_count": 15,
   "metadata": {},
   "outputs": [
    {
     "data": {
      "image/png": "[encoded data removed]",
      "text/plain": [
       "<matplotlib.figure.Figure at 0x10a3b5e48>"
      ]
     },
     "metadata": {},
     "output_type": "display_data"
    }
   ],
   "source": [
    "plt.plot(X, hs_no_noise_test_score[:,1], color='red', label=\"no noise\")\n",
    "plt.plot(X, hs_random_noise_test_score[:,1],color='blue', label=\"random noise\")\n",
    "plt.title(\"Compare score between no noise and random noise\")\n",
    "plt.xlabel(\"Training Times\")\n",
    "plt.ylabel(\"Accuracy\")\n",
    "plt.xlim(0,21)\n",
    "plt.legend()\n",
    "plt.show()"
   ]
  },
  {
   "cell_type": "code",
   "execution_count": 16,
   "metadata": {},
   "outputs": [
    {
     "data": {
      "image/png": "[encoded data removed]",
      "text/plain": [
       "<matplotlib.figure.Figure at 0x113100358>"
      ]
     },
     "metadata": {},
     "output_type": "display_data"
    }
   ],
   "source": [
    "plt.plot(X, hs_no_noise_test_score[:,0], color='red', label=\"no noise\")\n",
    "plt.plot(X, hs_random_noise_test_score[:,0],color='blue', label=\"random noise\")\n",
    "plt.title(\"Compare score between no noise and random noise\")\n",
    "plt.xlabel(\"Training Times\")\n",
    "plt.ylabel(\"Loss\")\n",
    "plt.xlim(0,21)\n",
    "plt.legend()\n",
    "plt.show()"
   ]
  }
 ],
 "metadata": {
  "kernelspec": {
   "display_name": "Python 3",
   "language": "python",
   "name": "python3"
  },
  "language_info": {
   "codemirror_mode": {
    "name": "ipython",
    "version": 3
   },
   "file_extension": ".py",
   "mimetype": "text/x-python",
   "name": "python",
   "nbconvert_exporter": "python",
   "pygments_lexer": "ipython3",
   "version": "3.6.4"
  }
 },
 "nbformat": 4,
 "nbformat_minor": 2
}
