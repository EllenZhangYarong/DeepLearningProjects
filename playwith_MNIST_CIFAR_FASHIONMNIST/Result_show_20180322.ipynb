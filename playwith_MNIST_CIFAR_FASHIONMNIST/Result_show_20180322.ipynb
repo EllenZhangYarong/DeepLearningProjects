{
 "cells": [
  {
   "cell_type": "code",
   "execution_count": 1,
   "metadata": {},
   "outputs": [],
   "source": [
    "import numpy as np\n",
    "import matplotlib.pyplot as plt\n",
    "import math"
   ]
  },
  {
   "cell_type": "code",
   "execution_count": 2,
   "metadata": {},
   "outputs": [],
   "source": [
    "hs_no_noise_test_score =  [[0.0367058886424777, 0.9916],\n",
    " [0.053378947611517034, 0.9905],\n",
    " [0.05613056243420078, 0.9901],\n",
    " [0.051439801746466084, 0.9911],\n",
    " [0.09705077363436951, 0.9898],\n",
    " [0.08642894782848531, 0.9909],\n",
    " [0.0683144806567253, 0.9898],\n",
    " [0.07445926789186329, 0.9857],\n",
    " [0.0782193551642161, 0.9898],\n",
    " [0.08108948751544971, 0.988],\n",
    " [0.07021301377995981, 0.9912],\n",
    " [0.08175546476938446, 0.9932],\n",
    " [0.0894157723248426, 0.9917],\n",
    " [0.0832969700710725, 0.9913],\n",
    " [0.08833128073157274, 0.9901],\n",
    " [0.09530310125394778, 0.9891],\n",
    " [0.09265480235827583, 0.9925],\n",
    " [0.08100578104175145, 0.9925],\n",
    " [0.09603491584035931, 0.9909],\n",
    " [0.08928248477646154, 0.9916],\n",
    " [0.07311988475717492, 0.9935],\n",
    " [0.10263614680598274, 0.9909],\n",
    " [0.08685423080560802, 0.9927],\n",
    " [0.08516213651704499, 0.9929],\n",
    " [0.09240789007744954, 0.9913],\n",
    " [0.09330610219845069, 0.9917],\n",
    " [0.08289091520231734, 0.9927],\n",
    " [0.07527668973859002, 0.9925],\n",
    " [0.07459536577463662, 0.9932],\n",
    " [0.09506756435028071, 0.9926]]"
   ]
  },
  {
   "cell_type": "code",
   "execution_count": 3,
   "metadata": {},
   "outputs": [],
   "source": [
    "hs_random_noise_test_score =  [[0.05243017116272435, 0.9887],\n",
    " [0.05625632917654803, 0.9874],\n",
    " [0.06858311102803773, 0.9894],\n",
    " [0.09860187271729594, 0.9894],\n",
    " [0.07339920859620895, 0.9901],\n",
    " [0.08926663459750846, 0.9924],\n",
    " [0.0649364369015045, 0.9879],\n",
    " [0.08994904147630879, 0.9914],\n",
    " [0.06711737759488083, 0.9905],\n",
    " [0.10258068132743421, 0.9903],\n",
    " [0.11240166590411793, 0.9894],\n",
    " [0.07531700951658074, 0.9913],\n",
    " [0.10393810254062458, 0.991],\n",
    " [0.09721710922682676, 0.9917],\n",
    " [0.11130288652151528, 0.9904],\n",
    " [0.09946377005459256, 0.992],\n",
    " [0.09566928587165095, 0.9929],\n",
    " [0.10159069511830268, 0.9924],\n",
    " [0.09418430979448811, 0.9912],\n",
    " [0.10156877205215034, 0.9922],\n",
    " [0.12540958083355616, 0.9896],\n",
    " [0.09494861817905259, 0.9918],\n",
    " [0.10550678461027176, 0.9915],\n",
    " [0.11999766629264848, 0.9914],\n",
    " [0.09476133152366126, 0.992],\n",
    " [0.10341634350761798, 0.9926],\n",
    " [0.09725633502132293, 0.9911],\n",
    " [0.09027542148105487, 0.9927],\n",
    " [0.10880906626822327, 0.9923],\n",
    " [0.10127787261231558, 0.9923]]"
   ]
  },
  {
   "cell_type": "code",
   "execution_count": 4,
   "metadata": {},
   "outputs": [],
   "source": [
    "hs_no_noise_test_score = np.asarray(hs_no_noise_test_score)\n",
    "hs_random_noise_test_score= np.asarray(hs_random_noise_test_score)"
   ]
  },
  {
   "cell_type": "code",
   "execution_count": 5,
   "metadata": {},
   "outputs": [
    {
     "name": "stdout",
     "output_type": "stream",
     "text": [
      "0.0016583927962538572\n",
      "0.0014263434213244517\n"
     ]
    }
   ],
   "source": [
    "st_no = hs_no_noise_test_score[:,1].std()\n",
    "print(st_no)\n",
    "st_random = hs_random_noise_test_score[:,1].std() \n",
    "print(st_random)"
   ]
  },
  {
   "cell_type": "markdown",
   "metadata": {},
   "source": [
    "### Avarage accuracy "
   ]
  },
  {
   "cell_type": "code",
   "execution_count": 6,
   "metadata": {},
   "outputs": [
    {
     "data": {
      "text/plain": [
       "0.9911800000000001"
      ]
     },
     "execution_count": 6,
     "metadata": {},
     "output_type": "execute_result"
    }
   ],
   "source": [
    "av_no_noise_accuray = np.mean(hs_no_noise_test_score[:,1])\n",
    "av_no_noise_accuray"
   ]
  },
  {
   "cell_type": "markdown",
   "metadata": {},
   "source": [
    "### variance "
   ]
  },
  {
   "cell_type": "code",
   "execution_count": 7,
   "metadata": {},
   "outputs": [
    {
     "data": {
      "text/plain": [
       "2.7502666666666875e-06"
      ]
     },
     "execution_count": 7,
     "metadata": {},
     "output_type": "execute_result"
    }
   ],
   "source": [
    "var_no_noise =sum((hs_no_noise_test_score[:,1] - av_no_noise_accuray)**2) /30\n",
    "var_no_noise"
   ]
  },
  {
   "cell_type": "markdown",
   "metadata": {},
   "source": [
    "### standard deviation"
   ]
  },
  {
   "cell_type": "code",
   "execution_count": 8,
   "metadata": {},
   "outputs": [
    {
     "data": {
      "text/plain": [
       "0.0016583927962538572"
      ]
     },
     "execution_count": 8,
     "metadata": {},
     "output_type": "execute_result"
    }
   ],
   "source": [
    "st_no_noise = np.sqrt(var_no_noise)\n",
    "st_no_noise"
   ]
  },
  {
   "cell_type": "markdown",
   "metadata": {},
   "source": [
    "### Avarage accuracy (random noise --- 60000)"
   ]
  },
  {
   "cell_type": "code",
   "execution_count": 9,
   "metadata": {},
   "outputs": [
    {
     "data": {
      "text/plain": [
       "0.9909766666666666"
      ]
     },
     "execution_count": 9,
     "metadata": {},
     "output_type": "execute_result"
    }
   ],
   "source": [
    "av_random_noise_accuray = np.mean(hs_random_noise_test_score[:,1])\n",
    "av_random_noise_accuray"
   ]
  },
  {
   "cell_type": "markdown",
   "metadata": {},
   "source": [
    "### variance"
   ]
  },
  {
   "cell_type": "code",
   "execution_count": 10,
   "metadata": {},
   "outputs": [
    {
     "data": {
      "text/plain": [
       "2.0344555555773525e-06"
      ]
     },
     "execution_count": 10,
     "metadata": {},
     "output_type": "execute_result"
    }
   ],
   "source": [
    "var_random_noise =sum((hs_random_noise_test_score[:,1])**2)/30 - av_random_noise_accuray **2 \n",
    "var_random_noise"
   ]
  },
  {
   "cell_type": "markdown",
   "metadata": {},
   "source": [
    "### standard deviation"
   ]
  },
  {
   "cell_type": "code",
   "execution_count": 11,
   "metadata": {},
   "outputs": [
    {
     "data": {
      "text/plain": [
       "0.001426343421332097"
      ]
     },
     "execution_count": 11,
     "metadata": {},
     "output_type": "execute_result"
    }
   ],
   "source": [
    "st_random_noise = np.sqrt(var_random_noise)\n",
    "st_random_noise"
   ]
  },
  {
   "cell_type": "markdown",
   "metadata": {},
   "source": [
    "### Loss"
   ]
  },
  {
   "cell_type": "code",
   "execution_count": 12,
   "metadata": {},
   "outputs": [
    {
     "data": {
      "text/plain": [
       "0.08039426754336448"
      ]
     },
     "execution_count": 12,
     "metadata": {},
     "output_type": "execute_result"
    }
   ],
   "source": [
    "av_no_noise_loss = np.mean(hs_no_noise_test_score[:,0])\n",
    "av_no_noise_loss"
   ]
  },
  {
   "cell_type": "code",
   "execution_count": 13,
   "metadata": {},
   "outputs": [
    {
     "data": {
      "text/plain": [
       "0.0932477830503009"
      ]
     },
     "execution_count": 13,
     "metadata": {},
     "output_type": "execute_result"
    }
   ],
   "source": [
    "av_random_noise_loss = np.mean(hs_random_noise_test_score[:,0])\n",
    "av_random_noise_loss"
   ]
  },
  {
   "cell_type": "code",
   "execution_count": 14,
   "metadata": {},
   "outputs": [
    {
     "data": {
      "text/plain": [
       "array([ 1,  2,  3,  4,  5,  6,  7,  8,  9, 10, 11, 12, 13, 14, 15, 16, 17,\n",
       "       18, 19, 20, 21, 22, 23, 24, 25, 26, 27, 28, 29, 30])"
      ]
     },
     "execution_count": 14,
     "metadata": {},
     "output_type": "execute_result"
    }
   ],
   "source": [
    "X =np.arange(1,31,1)\n",
    "X"
   ]
  },
  {
   "cell_type": "code",
   "execution_count": 15,
   "metadata": {},
   "outputs": [
    {
     "data": {
      "image/png": "[encoded data removed]",
      "text/plain": [
       "<matplotlib.figure.Figure at 0x10e0a9e80>"
      ]
     },
     "metadata": {},
     "output_type": "display_data"
    }
   ],
   "source": [
    "plt.plot(X, hs_no_noise_test_score[:,1], color='red', label=\"no noise\")\n",
    "plt.plot(X, hs_random_noise_test_score[:,1],color='blue', label=\"random noise\")\n",
    "plt.title(\"Compare score between no noise and random noise\")\n",
    "plt.xlabel(\"Training Times\")\n",
    "plt.ylabel(\"Accuracy\")\n",
    "plt.xlim(0,31)\n",
    "plt.legend()\n",
    "plt.show()"
   ]
  },
  {
   "cell_type": "code",
   "execution_count": 16,
   "metadata": {},
   "outputs": [
    {
     "data": {
      "image/png": "[encoded data removed]",
      "text/plain": [
       "<matplotlib.figure.Figure at 0x113b0b2b0>"
      ]
     },
     "metadata": {},
     "output_type": "display_data"
    }
   ],
   "source": [
    "plt.plot(X, hs_no_noise_test_score[:,0], color='red', label=\"no noise\")\n",
    "plt.plot(X, hs_random_noise_test_score[:,0],color='blue', label=\"random noise\")\n",
    "plt.title(\"Compare score between no noise and random noise\")\n",
    "plt.xlabel(\"Training Times\")\n",
    "plt.ylabel(\"Loss\")\n",
    "plt.xlim(0,31)\n",
    "plt.legend()\n",
    "plt.show()"
   ]
  }
 ],
 "metadata": {
  "kernelspec": {
   "display_name": "Python 3",
   "language": "python",
   "name": "python3"
  },
  "language_info": {
   "codemirror_mode": {
    "name": "ipython",
    "version": 3
   },
   "file_extension": ".py",
   "mimetype": "text/x-python",
   "name": "python",
   "nbconvert_exporter": "python",
   "pygments_lexer": "ipython3",
   "version": "3.6.4"
  }
 },
 "nbformat": 4,
 "nbformat_minor": 2
}
