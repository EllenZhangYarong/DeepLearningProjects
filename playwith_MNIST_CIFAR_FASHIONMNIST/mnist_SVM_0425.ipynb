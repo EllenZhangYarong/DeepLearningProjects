{
 "cells": [
  {
   "cell_type": "code",
   "execution_count": 1,
   "metadata": {},
   "outputs": [],
   "source": [
    "import os\n",
    "import time\n",
    "\n",
    "import struct\n",
    "import numpy as np\n",
    "import matplotlib.pyplot as plt\n",
    "%matplotlib inline"
   ]
  },
  {
   "cell_type": "markdown",
   "metadata": {},
   "source": [
    "# Prepare the training set and testing set"
   ]
  },
  {
   "cell_type": "code",
   "execution_count": 2,
   "metadata": {},
   "outputs": [],
   "source": [
    "def load_data(path, kind=''):\n",
    "    \"\"\"Load MNIST data from `path`\"\"\"\n",
    "    labels_path = os.path.join(path,\n",
    "                               '%s-labels-idx1-ubyte'\n",
    "                               % kind)\n",
    "    images_path = os.path.join(path,\n",
    "                               '%s-images-idx3-ubyte'\n",
    "                               % kind)\n",
    "    with open(labels_path, 'rb') as lbpath:\n",
    "        magic, n = struct.unpack('>II',\n",
    "                                 lbpath.read(8))\n",
    "        labels = np.fromfile(lbpath,\n",
    "                             dtype=np.uint8)\n",
    "\n",
    "    with open(images_path, 'rb') as imgpath:\n",
    "        magic, num, rows, cols = struct.unpack('>IIII',\n",
    "                                               imgpath.read(16))\n",
    "        images = np.fromfile(imgpath,\n",
    "                             dtype=np.uint8).reshape(len(labels), 784)\n",
    "\n",
    "    return images, labels\n",
    "\n",
    "path = './datasets/'"
   ]
  },
  {
   "cell_type": "code",
   "execution_count": 3,
   "metadata": {},
   "outputs": [],
   "source": [
    "# get mnist and emnist data\n",
    "X_mnist_train,y_mnist_train = load_data(path, kind='train')\n",
    "X_mnist_test,y_mnist_test = load_data(path, kind='t10k')"
   ]
  },
  {
   "cell_type": "code",
   "execution_count": 4,
   "metadata": {},
   "outputs": [],
   "source": [
    "noise_random_60 = np.random.rand(60000,784)\n",
    "noise_labels_60 = np.full((60000), 10, dtype=int)\n",
    "\n",
    "noise_random_6 = np.random.rand(6000,784)\n",
    "noise_labels_6 = np.full((6000), 10, dtype=int)"
   ]
  },
  {
   "cell_type": "code",
   "execution_count": 5,
   "metadata": {},
   "outputs": [],
   "source": [
    "X_random_train_60 = np.concatenate((X_mnist_train, noise_random_60), axis = 0 )\n",
    "y_random_train_60 = np.concatenate((y_mnist_train, noise_labels_60), axis = 0 )\n",
    "\n",
    "X_random_train_6 = np.concatenate((X_mnist_train, noise_random_6), axis = 0 )\n",
    "y_random_train_6 = np.concatenate((y_mnist_train, noise_labels_6), axis = 0 )"
   ]
  },
  {
   "cell_type": "code",
   "execution_count": 6,
   "metadata": {},
   "outputs": [],
   "source": [
    "# Random shuffle the training and testing datasets\n",
    "from scipy.sparse import coo_matrix\n",
    "from sklearn.utils import shuffle\n",
    "\n",
    "X_sparse_mnist_train = coo_matrix(X_mnist_train)\n",
    "X_mnist_train, X_sparse_mnist_train, y_mnist_train = shuffle(X_mnist_train, X_sparse_mnist_train, y_mnist_train, random_state=666)\n",
    "\n",
    "X_sparse_random_train_60 = coo_matrix(X_random_train_60)\n",
    "X_random_train_60, X_sparse_random_train_60, y_random_train_60 = shuffle(X_random_train_60, X_sparse_random_train_60, y_random_train_60, random_state=666)\n",
    "\n",
    "X_sparse_random_train_6 = coo_matrix(X_random_train_6)\n",
    "X_random_train_6, X_sparse_random_train_6, y_random_train_6 = shuffle(X_random_train_6, X_sparse_random_train_6, y_random_train_6, random_state=666)"
   ]
  },
  {
   "cell_type": "code",
   "execution_count": 7,
   "metadata": {},
   "outputs": [],
   "source": [
    "X_mnist_train = X_mnist_train/255\n",
    "X_mnist_test = X_mnist_test/255\n",
    "\n",
    "X_random_train_60 = X_random_train_60/255\n",
    "X_random_train_6  = X_random_train_6/255"
   ]
  },
  {
   "cell_type": "markdown",
   "metadata": {},
   "source": [
    "# Training"
   ]
  },
  {
   "cell_type": "code",
   "execution_count": 8,
   "metadata": {},
   "outputs": [],
   "source": [
    "#from sklearn.pipeline import Pipeline \n",
    "from sklearn.model_selection import train_test_split, GridSearchCV \n",
    "from sklearn.metrics import accuracy_score\n",
    "\n",
    "from sklearn import svm"
   ]
  },
  {
   "cell_type": "code",
   "execution_count": 9,
   "metadata": {},
   "outputs": [],
   "source": [
    "C = 0.1\n",
    "hs_mnist_svm_scores = []\n",
    "hs_random_60_svm_scores= []\n",
    "hs_random_6_svm_scores= []"
   ]
  },
  {
   "cell_type": "code",
   "execution_count": 10,
   "metadata": {},
   "outputs": [
    {
     "name": "stdout",
     "output_type": "stream",
     "text": [
      "------------------------------------------------------------\n",
      "0\n",
      "hs_no_score = 0.947200\n",
      "-------------------------------------------------------------\n",
      "\n",
      "------------------------------------------------------------\n",
      "1\n",
      "hs_no_score = 0.947200\n",
      "-------------------------------------------------------------\n",
      "\n",
      "------------------------------------------------------------\n",
      "2\n",
      "hs_no_score = 0.947200\n",
      "-------------------------------------------------------------\n",
      "\n"
     ]
    }
   ],
   "source": [
    "for i in range(3):\n",
    "    svm_clf_mnist = svm.SVC(kernel='linear', C = C)\n",
    "    \n",
    "    svm_clf_mnist.fit(X_mnist_train, y_mnist_train)\n",
    "    \n",
    "    y_pred_mnist = svm_clf_mnist.predict(X_mnist_test)\n",
    "    hs_no_score = accuracy_score(y_mnist_test, y_pred_mnist)\n",
    "    \n",
    "    hs_mnist_svm_scores.append(hs_no_score)\n",
    "    \n",
    "    print(\"------------------------------------------------------------\")\n",
    "    print(i)\n",
    "    print(\"hs_no_score = %f\" % hs_no_score)\n",
    "    print(\"-------------------------------------------------------------\")\n",
    "    print()"
   ]
  },
  {
   "cell_type": "code",
   "execution_count": 12,
   "metadata": {},
   "outputs": [
    {
     "name": "stdout",
     "output_type": "stream",
     "text": [
      "------------------------------------------------------------\n",
      "0\n",
      "hs_random_score = 0.947200\n",
      "-------------------------------------------------------------\n",
      "\n",
      "------------------------------------------------------------\n",
      "1\n",
      "hs_random_score = 0.947200\n",
      "-------------------------------------------------------------\n",
      "\n",
      "------------------------------------------------------------\n",
      "2\n",
      "hs_random_score = 0.947200\n",
      "-------------------------------------------------------------\n",
      "\n"
     ]
    }
   ],
   "source": [
    "for j in range(3):\n",
    "    svm_clf_random_6 = svm.SVC(kernel='linear', C = C)\n",
    "    \n",
    "    svm_clf_random_6.fit(X_random_train_6, y_random_train_6)\n",
    "    \n",
    "    y_pred_random_6 = svm_clf_random_6.predict(X_mnist_test)\n",
    "    hs_random_score_6 = accuracy_score(y_mnist_test, y_pred_random_6)\n",
    "    print(\"------------------------------------------------------------\")\n",
    "    print(j)\n",
    "    print(\"hs_random_score = %f\" % hs_random_score_6)\n",
    "    print(\"-------------------------------------------------------------\")\n",
    "    print()\n",
    "    hs_random_6_svm_scores.append(hs_random_score_6)\n",
    "    "
   ]
  },
  {
   "cell_type": "code",
   "execution_count": 13,
   "metadata": {},
   "outputs": [
    {
     "name": "stdout",
     "output_type": "stream",
     "text": [
      "------------------------------------------------------------\n",
      "2\n",
      "hs_random_score = 0.947200\n",
      "-------------------------------------------------------------\n",
      "\n",
      "------------------------------------------------------------\n",
      "2\n",
      "hs_random_score = 0.947200\n",
      "-------------------------------------------------------------\n",
      "\n",
      "------------------------------------------------------------\n",
      "2\n",
      "hs_random_score = 0.947200\n",
      "-------------------------------------------------------------\n",
      "\n"
     ]
    }
   ],
   "source": [
    "for h in range(3):\n",
    "    svm_clf_random_60 = svm.SVC(kernel='linear', C = C)\n",
    "    \n",
    "    svm_clf_random_60.fit(X_random_train_60, y_random_train_60)\n",
    "    \n",
    "    y_pred_random_60 = svm_clf_random_60.predict(X_mnist_test)\n",
    "    hs_random_score_60 = accuracy_score(y_mnist_test, y_pred_random_60)\n",
    "    print(\"------------------------------------------------------------\")\n",
    "    print(j)\n",
    "    print(\"hs_random_score = %f\" % hs_random_score_60)\n",
    "    print(\"-------------------------------------------------------------\")\n",
    "    print()\n",
    "    hs_random_60_svm_scores.append(hs_random_score_60)\n",
    "    "
   ]
  },
  {
   "cell_type": "code",
   "execution_count": 14,
   "metadata": {},
   "outputs": [
    {
     "data": {
      "text/plain": [
       "[0.9472, 0.9472, 0.9472]"
      ]
     },
     "execution_count": 14,
     "metadata": {},
     "output_type": "execute_result"
    }
   ],
   "source": [
    "hs_mnist_svm_scores"
   ]
  },
  {
   "cell_type": "code",
   "execution_count": 15,
   "metadata": {},
   "outputs": [
    {
     "data": {
      "text/plain": [
       "[0.9472, 0.9472, 0.9472]"
      ]
     },
     "execution_count": 15,
     "metadata": {},
     "output_type": "execute_result"
    }
   ],
   "source": [
    "hs_random_6_svm_scores"
   ]
  },
  {
   "cell_type": "code",
   "execution_count": 16,
   "metadata": {},
   "outputs": [
    {
     "data": {
      "text/plain": [
       "[0.9472, 0.9472, 0.9472]"
      ]
     },
     "execution_count": 16,
     "metadata": {},
     "output_type": "execute_result"
    }
   ],
   "source": [
    "hs_random_60_svm_scores"
   ]
  }
 ],
 "metadata": {
  "kernelspec": {
   "display_name": "Python 3",
   "language": "python",
   "name": "python3"
  },
  "language_info": {
   "codemirror_mode": {
    "name": "ipython",
    "version": 3
   },
   "file_extension": ".py",
   "mimetype": "text/x-python",
   "name": "python",
   "nbconvert_exporter": "python",
   "pygments_lexer": "ipython3",
   "version": "3.6.4"
  }
 },
 "nbformat": 4,
 "nbformat_minor": 2
}
