{
 "cells": [
  {
   "cell_type": "code",
   "execution_count": 1,
   "metadata": {},
   "outputs": [
    {
     "name": "stderr",
     "output_type": "stream",
     "text": [
      "d:\\Anaconda3\\envs\\tfgpu\\lib\\site-packages\\h5py\\__init__.py:36: FutureWarning: Conversion of the second argument of issubdtype from `float` to `np.floating` is deprecated. In future, it will be treated as `np.float64 == np.dtype(float).type`.\n",
      "  from ._conv import register_converters as _register_converters\n",
      "Using TensorFlow backend.\n"
     ]
    }
   ],
   "source": [
    "import os\n",
    "import struct\n",
    "import numpy as np\n",
    "from keras.models import load_model\n",
    "import matplotlib.pyplot as plt\n",
    "%matplotlib inline"
   ]
  },
  {
   "cell_type": "code",
   "execution_count": 2,
   "metadata": {},
   "outputs": [],
   "source": [
    "def load_data(path, kind=''):\n",
    "    \"\"\"Load MNIST data from `path`\"\"\"\n",
    "    labels_path = os.path.join(path,\n",
    "                               '%s-labels-idx1-ubyte'\n",
    "                               % kind)\n",
    "    images_path = os.path.join(path,\n",
    "                               '%s-images-idx3-ubyte'\n",
    "                               % kind)\n",
    "    with open(labels_path, 'rb') as lbpath:\n",
    "        magic, n = struct.unpack('>II',\n",
    "                                 lbpath.read(8))\n",
    "        labels = np.fromfile(lbpath,\n",
    "                             dtype=np.uint8)\n",
    "\n",
    "    with open(images_path, 'rb') as imgpath:\n",
    "        magic, num, rows, cols = struct.unpack('>IIII',\n",
    "                                               imgpath.read(16))\n",
    "        images = np.fromfile(imgpath,\n",
    "                             dtype=np.uint8).reshape(len(labels), 784)\n",
    "\n",
    "    return images, labels"
   ]
  },
  {
   "cell_type": "code",
   "execution_count": 3,
   "metadata": {},
   "outputs": [],
   "source": [
    "path = './datasets/'\n",
    "X_test,y_test = load_data(path, kind='t10k')\n",
    "X_test  = X_test / 255\n",
    "X_test = X_test.reshape(len(X_test),1,28,28).astype('float64')"
   ]
  },
  {
   "cell_type": "code",
   "execution_count": 4,
   "metadata": {},
   "outputs": [],
   "source": [
    "from keras.utils import np_utils\n",
    "num_classes = 11 \n",
    "y_test = np_utils.to_categorical(y_test, num_classes)"
   ]
  },
  {
   "cell_type": "code",
   "execution_count": 5,
   "metadata": {},
   "outputs": [
    {
     "name": "stdout",
     "output_type": "stream",
     "text": [
      "10000/10000 [==============================] - 2s 200us/step\n",
      "Mixed Alphabet ---> Error: 4.12%\n",
      "Mixed Alphabet ---> Accuracy: 99.03%\n"
     ]
    }
   ],
   "source": [
    "m1 = load_model('./models/mnist_with_alphabet.h5')\n",
    "m1_score = m1.evaluate(X_test,y_test,verbose = 1)\n",
    "print(\"Mixed Alphabet ---> Error: %.2f%%\" % (m1_score[0]*100))\n",
    "print(\"Mixed Alphabet ---> Accuracy: %.2f%%\" % (m1_score[1]*100))"
   ]
  },
  {
   "cell_type": "code",
   "execution_count": 6,
   "metadata": {},
   "outputs": [
    {
     "name": "stdout",
     "output_type": "stream",
     "text": [
      "10000/10000 [==============================] - 2s 187us/step\n",
      "Mixed Random ---> Error: 2.90%\n",
      "Mixed Random ---> Accuracy: 99.21%\n"
     ]
    }
   ],
   "source": [
    "m2 = load_model('./models/MNIST_with_random.h5')\n",
    "m2_score = m2.evaluate(X_test,y_test,verbose = 1)\n",
    "print(\"Mixed Random ---> Error: %.2f%%\" % (m2_score[0]*100))\n",
    "print(\"Mixed Random ---> Accuracy: %.2f%%\" % (m2_score[1]*100))"
   ]
  },
  {
   "cell_type": "code",
   "execution_count": 7,
   "metadata": {},
   "outputs": [
    {
     "name": "stdout",
     "output_type": "stream",
     "text": [
      "10000/10000 [==============================] - 1s 136us/step\n",
      "Mixed Both ---> Error: 1585.13%\n",
      "Mixed Both ---> Accuracy: 0.00%\n"
     ]
    }
   ],
   "source": [
    "m3 = load_model('./models/MNIST_with_mixed.h5')\n",
    "m3_score = m3.evaluate(X_test,y_test,verbose = 1)\n",
    "print(\"Mixed Both ---> Error: %.2f%%\" % (m3_score[0]*100))\n",
    "print(\"Mixed Both ---> Accuracy: %.2f%%\" % (m3_score[1]*100))"
   ]
  },
  {
   "cell_type": "code",
   "execution_count": null,
   "metadata": {},
   "outputs": [],
   "source": []
  }
 ],
 "metadata": {
  "kernelspec": {
   "display_name": "Python 3",
   "language": "python",
   "name": "python3"
  },
  "language_info": {
   "codemirror_mode": {
    "name": "ipython",
    "version": 3
   },
   "file_extension": ".py",
   "mimetype": "text/x-python",
   "name": "python",
   "nbconvert_exporter": "python",
   "pygments_lexer": "ipython3",
   "version": "3.6.4"
  }
 },
 "nbformat": 4,
 "nbformat_minor": 2
}
